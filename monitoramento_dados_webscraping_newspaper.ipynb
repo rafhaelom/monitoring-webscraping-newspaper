{
 "cells": [
  {
   "cell_type": "markdown",
   "id": "40ef70b1",
   "metadata": {},
   "source": [
    "<h1 style=\"text-align:center\">Análise Exploratória de Dados de Notícias de Jornal Web</h1>\n",
    "\n",
    "<div align=\"center\"><img src=\"https://upload.wikimedia.org/wikipedia/commons/thumb/8/8f/Correio_Braziliense.svg/2560px-Correio_Braziliense.svg.png\" width=\"500px\" height=\"50px\" alt=\"Logo Correio Braziliense\"></img></div>\n",
    "\n",
    "<p align='justify'>As notícias de jornal web são coletadas diariamente por webscraping a partir do site de notícias <a href=\"https://www.correiobraziliense.com.br/\">Correio Braziliense</a>. É um jornal brasileiro com sede em Brasília - DF, fundado em 21 de abril de 1960 por Assis Chateaubriand, juntamente com a inauguração da cidade e da TV Brasília. O nome veio do histórico <a href=\"https://pt.wikipedia.org/wiki/Correio_Braziliense_(1808)\">Correio Brasiliense ou Armazém Literário</a>, editado em Londres a partir de 1808 por Hipólito José da Costa <cite><a href=\"https://pt.wikipedia.org/wiki/Correio_Braziliense\">[Wikipedia]</a></cite>.</p>\n",
    "\n",
    "<p align='justify'>Como premissa para as análises e organização do projeto, é utilizada a metodologia <a href=\"https://www.datascience-pm.com/crisp-dm-2/\">Cross Industry Standard Process for Data Mining (CRISP-DM)</a>.</p>"
   ]
  },
  {
   "cell_type": "markdown",
   "id": "f38e23e0",
   "metadata": {},
   "source": [
    "<h2 style=\"text-align:left\">Entendimento do Negócio</h2>\n",
    "\n",
    "<p align='justify'>O conjunto de dados em análise, refere-se a notícias diárias de um jornal de Brasília-DF chamado Correio Braziliense, onde por meio da técnica de webscraping, é coletado as notícias diárias desse jornal, uma tabela dispõe de informações das URL's das notícias, tema, e data da extração, a outra tabela dispõe de informações da notícias em si, data da publicação, autor, título e o texto da notícias.</p>\n",
    "\n",
    "<h3 style=\"text-align:left\">Dicionário de dados</h3>\n",
    "<p align='justify'>A seguir é demonstrado os campos (colunas) e sua respectiva descrição a que se refere tal dado em cada tabela construída no banco de dados.</p>\n",
    "\n",
    "<h4 style=\"text-align:left\">TB_JORNAIS</h4>\n",
    "<p align='justify'>Tabela com informações básicas do jornal.</p>\n",
    "    \n",
    "|Campo|Descrição|\n",
    "|:----|:--------|\n",
    "|ID_JORNAL|Identificador único do jornal|\n",
    "|DESC_JORNAL|Nome do jornal|\n",
    "|URL_JORNAL|URL principal do jornal|\n",
    "\n",
    "<h4 style=\"text-align:left\">TB_URL_NOTICIAS</h4>\n",
    "<p align='justify'>Tabela com informações das URL's da notícias extraídas do jornal.</p>\n",
    "\n",
    "|Campo|Descrição|\n",
    "|:----|:--------|\n",
    "|ID_NOTICIA|Identificador único da notícia|\n",
    "|DATA_EXTRACAO|Data da extração da url da notícia|\n",
    "|DESC_JORNAL|Nome do jornal|\n",
    "|DESC_TEMA|Nome do tema da notícia|\n",
    "|URL_NOTICIA|URL da notícia|\n",
    "|FLAG_EXTRAIDA|Flag (True ou False) se já foi extraído o texto da notícia|\n",
    "\n",
    "<h4 style=\"text-align:left\">TB_TEXTO_NOTICIAS</h4>\n",
    "<p align='justify'>Tabela com informações das notícias extraídas do jornal.</p>\n",
    "\n",
    "|Campo|Descrição|\n",
    "|:----|:--------|\n",
    "|ID_NOTICIA|Identificador único da notícia|\n",
    "|URL|URL da notícia|\n",
    "|DATA_PUBLICACAO|Data e hora da publicação da notícia|\n",
    "|AUTOR|Autor(es) da notícia|\n",
    "|TITULO|Título (manchete) da notícia|\n",
    "|TEXTO|Texto da notícia|"
   ]
  },
  {
   "cell_type": "markdown",
   "id": "cf68105f",
   "metadata": {},
   "source": [
    "<h2 style=\"text-align:left\">Entendimento dos Dados</h2>\n",
    "\n",
    "<p align='justify'>Nesta etapa é realizada a exploração dos dados, com o objetivo de entender as características da base de dados e possíveis ajustes necessários a serem realizados antes da etapa de visualização.</p>"
   ]
  },
  {
   "cell_type": "code",
   "execution_count": 4,
   "id": "e0a383cd",
   "metadata": {},
   "outputs": [],
   "source": [
    "#!pip install wordcloud -q"
   ]
  },
  {
   "cell_type": "code",
   "execution_count": 5,
   "id": "9d71abd4",
   "metadata": {},
   "outputs": [],
   "source": [
    "# Importa Bibliotecas.\n",
    "import os\n",
    "import sys\n",
    "from dotenv import load_dotenv\n",
    "import time\n",
    "import re\n",
    "from datetime import date\n",
    "\n",
    "import pandas as pd\n",
    "import numpy as np\n",
    "\n",
    "import matplotlib.pyplot as plt\n",
    "# Apresenta os dados no notebook\n",
    "%matplotlib inline\n",
    "\n",
    "import seaborn as sns\n",
    "# Estilo dos gráficos\n",
    "sns.set_style(\"darkgrid\")\n",
    "\n",
    "from wordcloud import WordCloud\n",
    "\n",
    "import psycopg2 \n",
    "import sqlalchemy               \n",
    "from sqlalchemy import create_engine\n",
    "from sqlalchemy import text\n",
    "\n",
    "load_dotenv()\n",
    "\n",
    "# Parametros do Pandas, limitando a quantidade máxima e a largura das colunas.\n",
    "pd.set_option('max_colwidth', 5000)"
   ]
  },
  {
   "cell_type": "code",
   "execution_count": 6,
   "id": "a963e947",
   "metadata": {},
   "outputs": [],
   "source": [
    "# Credenciais banco\n",
    "host=os.getenv('BD_POSTGRESQL_HOST')\n",
    "port=os.getenv('BD_POSTGRESQL_PORT')\n",
    "dbname=os.getenv('BD_POSTGRESQL_DBNAME')\n",
    "user=os.getenv('BD_POSTGRESQL_USE')\n",
    "password=os.getenv('BD_POSTGRESQL_PASSWORD')"
   ]
  },
  {
   "cell_type": "code",
   "execution_count": 7,
   "id": "0e6dd918",
   "metadata": {},
   "outputs": [],
   "source": [
    "path = \"C:/Users/Usuario/Documents/GitHub/monitoring-webscraping-newspaper/dados/\""
   ]
  },
  {
   "cell_type": "code",
   "execution_count": 11,
   "id": "673694e3",
   "metadata": {},
   "outputs": [
    {
     "name": "stdout",
     "output_type": "stream",
     "text": [
      "(18706, 6)\n"
     ]
    }
   ],
   "source": [
    "# Consultando dados anteriores no BD.\n",
    "engine = create_engine(f'postgresql://{user}:{password}@{host}/{dbname}')\n",
    "conn = engine.connect()\n",
    "\n",
    "df_url = pd.read_sql(text('''select * from tb_url_noticias;'''), conn)\n",
    "\n",
    "# Proporção dos dados em linhas e colunas\n",
    "print(df_url.shape)\n",
    "\n",
    "conn.close()"
   ]
  },
  {
   "cell_type": "code",
   "execution_count": 12,
   "id": "f4a21eed",
   "metadata": {},
   "outputs": [
    {
     "name": "stdout",
     "output_type": "stream",
     "text": [
      "<class 'pandas.core.frame.DataFrame'>\n",
      "RangeIndex: 18706 entries, 0 to 18705\n",
      "Data columns (total 6 columns):\n",
      " #   Column         Non-Null Count  Dtype \n",
      "---  ------         --------------  ----- \n",
      " 0   ID_NOTICIA     18706 non-null  int64 \n",
      " 1   DATA_EXTRACAO  18706 non-null  object\n",
      " 2   DESC_JORNAL    18706 non-null  object\n",
      " 3   DESC_TEMA      18706 non-null  object\n",
      " 4   URL_NOTICIA    18706 non-null  object\n",
      " 5   FLAG_EXTRAIDA  18706 non-null  bool  \n",
      "dtypes: bool(1), int64(1), object(4)\n",
      "memory usage: 749.1+ KB\n"
     ]
    }
   ],
   "source": [
    "# Verificando os metadados da base\n",
    "df_url.info()"
   ]
  },
  {
   "cell_type": "code",
   "execution_count": 13,
   "id": "52467777",
   "metadata": {},
   "outputs": [
    {
     "name": "stdout",
     "output_type": "stream",
     "text": [
      "Tipos de dados e sua frequência\n",
      "object    4\n",
      "int64     1\n",
      "bool      1\n",
      "dtype: int64\n"
     ]
    }
   ],
   "source": [
    "# Verificando os tipos de dados.\n",
    "print(\"Tipos de dados e sua frequência\\n{}\".format(df_url.dtypes.value_counts()))"
   ]
  },
  {
   "cell_type": "code",
   "execution_count": 14,
   "id": "9a66f61c",
   "metadata": {},
   "outputs": [
    {
     "data": {
      "text/html": [
       "<div>\n",
       "<style scoped>\n",
       "    .dataframe tbody tr th:only-of-type {\n",
       "        vertical-align: middle;\n",
       "    }\n",
       "\n",
       "    .dataframe tbody tr th {\n",
       "        vertical-align: top;\n",
       "    }\n",
       "\n",
       "    .dataframe thead th {\n",
       "        text-align: right;\n",
       "    }\n",
       "</style>\n",
       "<table border=\"1\" class=\"dataframe\">\n",
       "  <thead>\n",
       "    <tr style=\"text-align: right;\">\n",
       "      <th></th>\n",
       "      <th>ID_NOTICIA</th>\n",
       "      <th>DATA_EXTRACAO</th>\n",
       "      <th>DESC_JORNAL</th>\n",
       "      <th>DESC_TEMA</th>\n",
       "      <th>URL_NOTICIA</th>\n",
       "      <th>FLAG_EXTRAIDA</th>\n",
       "    </tr>\n",
       "  </thead>\n",
       "  <tbody>\n",
       "    <tr>\n",
       "      <th>0</th>\n",
       "      <td>3</td>\n",
       "      <td>2022-09-24</td>\n",
       "      <td>correiobraziliense</td>\n",
       "      <td>home</td>\n",
       "      <td>https://www.correiobraziliense.com.br/politica/2022/09/5039139-tse-identifica-rs-605-milhoes-em-doacoes-suspeitas.html</td>\n",
       "      <td>True</td>\n",
       "    </tr>\n",
       "    <tr>\n",
       "      <th>1</th>\n",
       "      <td>4</td>\n",
       "      <td>2022-09-24</td>\n",
       "      <td>correiobraziliense</td>\n",
       "      <td>home</td>\n",
       "      <td>https://www.correiobraziliense.com.br/cidades-df/2022/09/5039108-confira-a-agenda-dos-candidatos-ao-gdf-para-este-sabado.html</td>\n",
       "      <td>True</td>\n",
       "    </tr>\n",
       "    <tr>\n",
       "      <th>2</th>\n",
       "      <td>261</td>\n",
       "      <td>2022-10-05</td>\n",
       "      <td>correiobraziliense</td>\n",
       "      <td>opiniao</td>\n",
       "      <td>https://www.correiobraziliense.com.br//opiniao/2022/10/5041502-artigo-o-brasil-mudou.html</td>\n",
       "      <td>True</td>\n",
       "    </tr>\n",
       "    <tr>\n",
       "      <th>3</th>\n",
       "      <td>1639</td>\n",
       "      <td>2022-10-13</td>\n",
       "      <td>correiobraziliense</td>\n",
       "      <td>home</td>\n",
       "      <td>https://www.correiobraziliense.com.br/cbforum/testedopezinho.html</td>\n",
       "      <td>True</td>\n",
       "    </tr>\n",
       "    <tr>\n",
       "      <th>4</th>\n",
       "      <td>2156</td>\n",
       "      <td>2022-10-17</td>\n",
       "      <td>correiobraziliense</td>\n",
       "      <td>tecnologia</td>\n",
       "      <td>https://www.correiobraziliense.com.br/tecnologia/2022/10/5044373-ia-vence-os-obstaculos.html</td>\n",
       "      <td>True</td>\n",
       "    </tr>\n",
       "  </tbody>\n",
       "</table>\n",
       "</div>"
      ],
      "text/plain": [
       "   ID_NOTICIA DATA_EXTRACAO         DESC_JORNAL   DESC_TEMA  \\\n",
       "0           3    2022-09-24  correiobraziliense        home   \n",
       "1           4    2022-09-24  correiobraziliense        home   \n",
       "2         261    2022-10-05  correiobraziliense     opiniao   \n",
       "3        1639    2022-10-13  correiobraziliense        home   \n",
       "4        2156    2022-10-17  correiobraziliense  tecnologia   \n",
       "\n",
       "                                                                                                                     URL_NOTICIA  \\\n",
       "0         https://www.correiobraziliense.com.br/politica/2022/09/5039139-tse-identifica-rs-605-milhoes-em-doacoes-suspeitas.html   \n",
       "1  https://www.correiobraziliense.com.br/cidades-df/2022/09/5039108-confira-a-agenda-dos-candidatos-ao-gdf-para-este-sabado.html   \n",
       "2                                      https://www.correiobraziliense.com.br//opiniao/2022/10/5041502-artigo-o-brasil-mudou.html   \n",
       "3                                                              https://www.correiobraziliense.com.br/cbforum/testedopezinho.html   \n",
       "4                                   https://www.correiobraziliense.com.br/tecnologia/2022/10/5044373-ia-vence-os-obstaculos.html   \n",
       "\n",
       "   FLAG_EXTRAIDA  \n",
       "0           True  \n",
       "1           True  \n",
       "2           True  \n",
       "3           True  \n",
       "4           True  "
      ]
     },
     "execution_count": 14,
     "metadata": {},
     "output_type": "execute_result"
    }
   ],
   "source": [
    "# Observando a abse de dados\n",
    "df_url.head()"
   ]
  },
  {
   "cell_type": "code",
   "execution_count": 15,
   "id": "c3187643",
   "metadata": {},
   "outputs": [
    {
     "data": {
      "text/plain": [
       "ID_NOTICIA       0\n",
       "DATA_EXTRACAO    0\n",
       "DESC_JORNAL      0\n",
       "DESC_TEMA        0\n",
       "URL_NOTICIA      0\n",
       "FLAG_EXTRAIDA    0\n",
       "dtype: int64"
      ]
     },
     "execution_count": 15,
     "metadata": {},
     "output_type": "execute_result"
    }
   ],
   "source": [
    "# Verificação da existência de dados ausentes/faltantes\n",
    "df_url.isnull().sum()"
   ]
  },
  {
   "cell_type": "code",
   "execution_count": 16,
   "id": "311c1072",
   "metadata": {},
   "outputs": [
    {
     "data": {
      "text/plain": [
       "0"
      ]
     },
     "execution_count": 16,
     "metadata": {},
     "output_type": "execute_result"
    }
   ],
   "source": [
    "# Verificando dados nulos por registro e retornando a maior quantidade.\n",
    "df_url.isna().sum(axis=1).max()"
   ]
  },
  {
   "cell_type": "code",
   "execution_count": 19,
   "id": "e164ac21",
   "metadata": {},
   "outputs": [
    {
     "data": {
      "text/plain": [
       "2023-01-25    309\n",
       "2022-10-05    304\n",
       "2022-10-13    296\n",
       "2022-10-10    295\n",
       "2022-11-29    197\n",
       "             ... \n",
       "2022-10-23     74\n",
       "2023-03-26     71\n",
       "2022-10-16     66\n",
       "2022-10-29     64\n",
       "2022-09-24     45\n",
       "Name: DATA_EXTRACAO, Length: 141, dtype: int64"
      ]
     },
     "execution_count": 19,
     "metadata": {},
     "output_type": "execute_result"
    }
   ],
   "source": [
    "df_url['DATA_EXTRACAO'].value_counts()"
   ]
  },
  {
   "cell_type": "code",
   "execution_count": 20,
   "id": "075a443c",
   "metadata": {},
   "outputs": [
    {
     "data": {
      "text/plain": [
       "correiobraziliense    18624\n",
       "Name: DESC_JORNAL, dtype: int64"
      ]
     },
     "execution_count": 20,
     "metadata": {},
     "output_type": "execute_result"
    }
   ],
   "source": [
    "df_url['DESC_JORNAL'].value_counts()"
   ]
  },
  {
   "cell_type": "code",
   "execution_count": null,
   "id": "a4631c95",
   "metadata": {},
   "outputs": [],
   "source": [
    "df_url['DESC_JORNAL'].value_counts()"
   ]
  },
  {
   "cell_type": "code",
   "execution_count": 33,
   "id": "e6d9a88f",
   "metadata": {},
   "outputs": [
    {
     "data": {
      "text/html": [
       "<div>\n",
       "<style scoped>\n",
       "    .dataframe tbody tr th:only-of-type {\n",
       "        vertical-align: middle;\n",
       "    }\n",
       "\n",
       "    .dataframe tbody tr th {\n",
       "        vertical-align: top;\n",
       "    }\n",
       "\n",
       "    .dataframe thead th {\n",
       "        text-align: right;\n",
       "    }\n",
       "</style>\n",
       "<table border=\"1\" class=\"dataframe\">\n",
       "  <thead>\n",
       "    <tr style=\"text-align: right;\">\n",
       "      <th></th>\n",
       "      <th></th>\n",
       "      <th>ID_NOTICIA</th>\n",
       "    </tr>\n",
       "    <tr>\n",
       "      <th>DESC_TEMA</th>\n",
       "      <th>DATA_EXTRACAO</th>\n",
       "      <th></th>\n",
       "    </tr>\n",
       "  </thead>\n",
       "  <tbody>\n",
       "    <tr>\n",
       "      <th rowspan=\"5\" valign=\"top\">brasil</th>\n",
       "      <th>2022-10-05</th>\n",
       "      <td>20</td>\n",
       "    </tr>\n",
       "    <tr>\n",
       "      <th>2022-10-06</th>\n",
       "      <td>14</td>\n",
       "    </tr>\n",
       "    <tr>\n",
       "      <th>2022-10-07</th>\n",
       "      <td>20</td>\n",
       "    </tr>\n",
       "    <tr>\n",
       "      <th>2022-10-09</th>\n",
       "      <td>10</td>\n",
       "    </tr>\n",
       "    <tr>\n",
       "      <th>2022-10-10</th>\n",
       "      <td>23</td>\n",
       "    </tr>\n",
       "    <tr>\n",
       "      <th>...</th>\n",
       "      <th>...</th>\n",
       "      <td>...</td>\n",
       "    </tr>\n",
       "    <tr>\n",
       "      <th rowspan=\"5\" valign=\"top\">turismo</th>\n",
       "      <th>2022-10-05</th>\n",
       "      <td>20</td>\n",
       "    </tr>\n",
       "    <tr>\n",
       "      <th>2022-10-13</th>\n",
       "      <td>20</td>\n",
       "    </tr>\n",
       "    <tr>\n",
       "      <th>2023-02-06</th>\n",
       "      <td>2</td>\n",
       "    </tr>\n",
       "    <tr>\n",
       "      <th>2023-02-28</th>\n",
       "      <td>1</td>\n",
       "    </tr>\n",
       "    <tr>\n",
       "      <th>2023-03-29</th>\n",
       "      <td>1</td>\n",
       "    </tr>\n",
       "  </tbody>\n",
       "</table>\n",
       "<p>1647 rows × 1 columns</p>\n",
       "</div>"
      ],
      "text/plain": [
       "                         ID_NOTICIA\n",
       "DESC_TEMA DATA_EXTRACAO            \n",
       "brasil    2022-10-05             20\n",
       "          2022-10-06             14\n",
       "          2022-10-07             20\n",
       "          2022-10-09             10\n",
       "          2022-10-10             23\n",
       "...                             ...\n",
       "turismo   2022-10-05             20\n",
       "          2022-10-13             20\n",
       "          2023-02-06              2\n",
       "          2023-02-28              1\n",
       "          2023-03-29              1\n",
       "\n",
       "[1647 rows x 1 columns]"
      ]
     },
     "execution_count": 33,
     "metadata": {},
     "output_type": "execute_result"
    }
   ],
   "source": [
    "df_url_tema = df_url[['DESC_TEMA', 'DATA_EXTRACAO', 'ID_NOTICIA']].groupby(by=['DESC_TEMA', 'DATA_EXTRACAO']).count()\n",
    "df_url_tema"
   ]
  },
  {
   "cell_type": "code",
   "execution_count": 34,
   "id": "f385223e",
   "metadata": {},
   "outputs": [
    {
     "data": {
      "text/plain": [
       "MultiIndex([(    'brasil', '2022-10-05'),\n",
       "            (    'brasil', '2022-10-06'),\n",
       "            (    'brasil', '2022-10-07'),\n",
       "            (    'brasil', '2022-10-09'),\n",
       "            (    'brasil', '2022-10-10'),\n",
       "            (    'brasil', '2022-10-11'),\n",
       "            (    'brasil', '2022-10-12'),\n",
       "            (    'brasil', '2022-10-13'),\n",
       "            (    'brasil', '2022-10-14'),\n",
       "            (    'brasil', '2022-10-15'),\n",
       "            ...\n",
       "            ('tecnologia', '2023-03-27'),\n",
       "            ('tecnologia', '2023-03-28'),\n",
       "            ('tecnologia', '2023-03-29'),\n",
       "            ('tecnologia', '2023-03-30'),\n",
       "            ('tecnologia', '2023-03-31'),\n",
       "            (   'turismo', '2022-10-05'),\n",
       "            (   'turismo', '2022-10-13'),\n",
       "            (   'turismo', '2023-02-06'),\n",
       "            (   'turismo', '2023-02-28'),\n",
       "            (   'turismo', '2023-03-29')],\n",
       "           names=['DESC_TEMA', 'DATA_EXTRACAO'], length=1647)"
      ]
     },
     "execution_count": 34,
     "metadata": {},
     "output_type": "execute_result"
    }
   ],
   "source": [
    "df_url_tema.index"
   ]
  },
  {
   "cell_type": "code",
   "execution_count": null,
   "id": "535994c3",
   "metadata": {},
   "outputs": [],
   "source": []
  },
  {
   "cell_type": "code",
   "execution_count": null,
   "id": "bf2388d5",
   "metadata": {},
   "outputs": [],
   "source": [
    "df_filmes_qtd_ator = pd.DataFrame({'DESC_TEMA':filmes_qtd_ator.index, 'DATA_EXTRACAO':filmes_qtd_ator.values}).sort_values(by=\"qtd\", ascending=False, ignore_index=True)"
   ]
  },
  {
   "cell_type": "code",
   "execution_count": null,
   "id": "7677cdd3",
   "metadata": {},
   "outputs": [],
   "source": []
  },
  {
   "cell_type": "code",
   "execution_count": null,
   "id": "b2967c49",
   "metadata": {},
   "outputs": [],
   "source": []
  },
  {
   "cell_type": "code",
   "execution_count": null,
   "id": "fef572d5",
   "metadata": {},
   "outputs": [],
   "source": []
  },
  {
   "cell_type": "code",
   "execution_count": null,
   "id": "9b9d875b",
   "metadata": {},
   "outputs": [],
   "source": []
  },
  {
   "cell_type": "code",
   "execution_count": null,
   "id": "1150ed73",
   "metadata": {},
   "outputs": [],
   "source": []
  },
  {
   "cell_type": "code",
   "execution_count": 26,
   "id": "5764a9a0",
   "metadata": {},
   "outputs": [],
   "source": [
    "# Consultando dados anteriores no BD.\n",
    "engine = create_engine(f'postgresql://{user}:{password}@{host}/{dbname}')\n",
    "conn = engine.connect()\n",
    "\n",
    "df_txt = pd.read_sql(text('''select * from tb_texto_noticias \n",
    "                            where \"DATA_PUBLICACAO\" between '2023-02-01-0000:000:00-10800' \n",
    "                            AND '2023-02-30-0000:00:00-10800';'''), conn)\n",
    "df_txt.shape\n",
    "\n",
    "conn.close()"
   ]
  },
  {
   "cell_type": "code",
   "execution_count": 27,
   "id": "5ba5ef10",
   "metadata": {},
   "outputs": [
    {
     "data": {
      "text/html": [
       "<div>\n",
       "<style scoped>\n",
       "    .dataframe tbody tr th:only-of-type {\n",
       "        vertical-align: middle;\n",
       "    }\n",
       "\n",
       "    .dataframe tbody tr th {\n",
       "        vertical-align: top;\n",
       "    }\n",
       "\n",
       "    .dataframe thead th {\n",
       "        text-align: right;\n",
       "    }\n",
       "</style>\n",
       "<table border=\"1\" class=\"dataframe\">\n",
       "  <thead>\n",
       "    <tr style=\"text-align: right;\">\n",
       "      <th></th>\n",
       "      <th>ID_NOTICIA</th>\n",
       "      <th>URL</th>\n",
       "      <th>DATA_PUBLICACAO</th>\n",
       "      <th>AUTOR</th>\n",
       "      <th>TITULO</th>\n",
       "      <th>TEXTO</th>\n",
       "    </tr>\n",
       "  </thead>\n",
       "  <tbody>\n",
       "    <tr>\n",
       "      <th>0</th>\n",
       "      <td>12798</td>\n",
       "      <td>https://www.correiobraziliense.com.br/politica/2023/02/5073967-sede-da-oab-rj-e-esvaziada-apos-ameaca-de-bomba.html</td>\n",
       "      <td>2023-02-15-0317:01:00-10800</td>\n",
       "      <td>{\"'Agência Estado'\"}</td>\n",
       "      <td>Sede da OAB-RJ é esvaziada após ameaça de bomba</td>\n",
       "      <td>O prédio onde funciona a sede da Ordem dos Advogados do Brasil no Rio de Janeiro (OAB-RJ), no centro da capital fluminense, foi esvaziado às pressas por volta do meio-dia desta quarta-feira, após serem encontradas duas cartas anônimas afirmando que uma bomba explodiria dentro do imóvel. O Esquadrão Antibombas da Polícia Civil foi acionado, iniciou uma varredura pelo prédio e, até a publicação desta reportagem, não havia encontrado nenhum artefato explosivo.\\n\\nA carta afirma que \"uma bomba foi instalada no edifício (...) e está programada para explodir neste dia 15. (...) Os efeitos serão catastróficos\". Segundo a mensagem, seria o início de uma série de atentados \"em diversos órgãos\" para \"acabar com essa política idiota de exclusão nepotismo vantagens pessoais anuidades caras vaidade absurda reacionarismo barato de uma burguesia hipócrita que se preocupa somente com a indicação pelo quinto constitucional\" (sic).\\n\\nO quinto constitucional está previsto no artigo 94 da Constituição brasileira e determina que um quinto das vagas de determinados tribunais do País seja preenchido por advogados e membros do Ministério Público, e não por juízes de carreira.\\n\\nO texto segue: \"O poder a todo o custo (sic) tem seu preço. A OAB pagará preço caro por adotar essa política de manter em seus quadros a direita extremista misógena (sic) homofóbica racista\". E conclui: \"Esvaziem o prédio porque os efeitos serão impactantes. Muitos serão feridos ou perderão suas vidas.\"\\n\\nDois exemplares da carta foram deixados no prédio - um dentro de um elevador e outro no banheiro do 7º andar - e encontrados por funcionários terceirizados responsáveis pela limpeza do imóvel. Segundo a OAB-RJ, existem câmeras de segurança no prédio, cujas imagens serão pesquisadas pela polícia.\\n\\nNo momento em que as cartas foram encontradas e o prédio foi esvaziado, estava ocorrendo uma cerimônia de entrega de carteiras da OAB para advogados aprovados em concurso recente.\\n\\nAté o início da tarde desta quarta-feira não havia suspeita de quem pudesse ter distribuído as cartas ou planejado o atentado.\\n\\nO formato de distribuição de notícias do Correio Braziliense pelo celular mudou. A partir de agora, as notícias chegarão diretamente pelo formato Comunidades, uma das inovações lançadas pelo WhatsApp. Não é preciso ser assinante para receber o serviço. Assim, o internauta pode ter, na palma da mão, matérias verificadas e com credibilidade. Para passar a receber as notícias do Correio, clique no link abaixo e entre na comunidade:\\n\\nApenas os administradores do grupo poderão mandar mensagens e saber quem são os integrantes da comunidade. Dessa forma, evitamos qualquer tipo de interação indevida.\\n\\nQuer ficar por dentro sobre as principais notícias do Brasil e do mundo? Siga o Correio Braziliense nas redes sociais. Estamos no Twitter, no Facebook, no Instagram, no TikTok e no YouTube. Acompanhe!</td>\n",
       "    </tr>\n",
       "  </tbody>\n",
       "</table>\n",
       "</div>"
      ],
      "text/plain": [
       "   ID_NOTICIA  \\\n",
       "0       12798   \n",
       "\n",
       "                                                                                                                   URL  \\\n",
       "0  https://www.correiobraziliense.com.br/politica/2023/02/5073967-sede-da-oab-rj-e-esvaziada-apos-ameaca-de-bomba.html   \n",
       "\n",
       "               DATA_PUBLICACAO                 AUTOR  \\\n",
       "0  2023-02-15-0317:01:00-10800  {\"'Agência Estado'\"}   \n",
       "\n",
       "                                            TITULO  \\\n",
       "0  Sede da OAB-RJ é esvaziada após ameaça de bomba   \n",
       "\n",
       "                                                                                                                                                                                                                                                                                                                                                                                                                                                                                                                                                                                                                                                                                                                                                                                                                                                                                                                                                                                                                                                                                                                                                                                                                                                                                                                                                                                                                                                                                                                                                                                                                                                                                                                                                                                                                                                                                                                                                                                                                                                                                                                                                                                                                                                                                                                                                                                                                                                                                                                                                                                                                                                                                                                                                                                                                                                                                                                                                                                                                   TEXTO  \n",
       "0  O prédio onde funciona a sede da Ordem dos Advogados do Brasil no Rio de Janeiro (OAB-RJ), no centro da capital fluminense, foi esvaziado às pressas por volta do meio-dia desta quarta-feira, após serem encontradas duas cartas anônimas afirmando que uma bomba explodiria dentro do imóvel. O Esquadrão Antibombas da Polícia Civil foi acionado, iniciou uma varredura pelo prédio e, até a publicação desta reportagem, não havia encontrado nenhum artefato explosivo.\\n\\nA carta afirma que \"uma bomba foi instalada no edifício (...) e está programada para explodir neste dia 15. (...) Os efeitos serão catastróficos\". Segundo a mensagem, seria o início de uma série de atentados \"em diversos órgãos\" para \"acabar com essa política idiota de exclusão nepotismo vantagens pessoais anuidades caras vaidade absurda reacionarismo barato de uma burguesia hipócrita que se preocupa somente com a indicação pelo quinto constitucional\" (sic).\\n\\nO quinto constitucional está previsto no artigo 94 da Constituição brasileira e determina que um quinto das vagas de determinados tribunais do País seja preenchido por advogados e membros do Ministério Público, e não por juízes de carreira.\\n\\nO texto segue: \"O poder a todo o custo (sic) tem seu preço. A OAB pagará preço caro por adotar essa política de manter em seus quadros a direita extremista misógena (sic) homofóbica racista\". E conclui: \"Esvaziem o prédio porque os efeitos serão impactantes. Muitos serão feridos ou perderão suas vidas.\"\\n\\nDois exemplares da carta foram deixados no prédio - um dentro de um elevador e outro no banheiro do 7º andar - e encontrados por funcionários terceirizados responsáveis pela limpeza do imóvel. Segundo a OAB-RJ, existem câmeras de segurança no prédio, cujas imagens serão pesquisadas pela polícia.\\n\\nNo momento em que as cartas foram encontradas e o prédio foi esvaziado, estava ocorrendo uma cerimônia de entrega de carteiras da OAB para advogados aprovados em concurso recente.\\n\\nAté o início da tarde desta quarta-feira não havia suspeita de quem pudesse ter distribuído as cartas ou planejado o atentado.\\n\\nO formato de distribuição de notícias do Correio Braziliense pelo celular mudou. A partir de agora, as notícias chegarão diretamente pelo formato Comunidades, uma das inovações lançadas pelo WhatsApp. Não é preciso ser assinante para receber o serviço. Assim, o internauta pode ter, na palma da mão, matérias verificadas e com credibilidade. Para passar a receber as notícias do Correio, clique no link abaixo e entre na comunidade:\\n\\nApenas os administradores do grupo poderão mandar mensagens e saber quem são os integrantes da comunidade. Dessa forma, evitamos qualquer tipo de interação indevida.\\n\\nQuer ficar por dentro sobre as principais notícias do Brasil e do mundo? Siga o Correio Braziliense nas redes sociais. Estamos no Twitter, no Facebook, no Instagram, no TikTok e no YouTube. Acompanhe!  "
      ]
     },
     "execution_count": 27,
     "metadata": {},
     "output_type": "execute_result"
    }
   ],
   "source": [
    "df_txt.head(1)"
   ]
  },
  {
   "cell_type": "code",
   "execution_count": 29,
   "id": "79ca42a6",
   "metadata": {},
   "outputs": [],
   "source": [
    "file_name = \"tb_texto_noticias\"\n",
    "extensao = \".txt\"\n",
    "\n",
    "# df_txt.to_csv(path+file_name+\"_tab\"+\"_utf8\"+extensao, sep='\\t', encoding='utf-8')\n",
    "df_txt.to_csv(path+file_name+extensao, sep='|', encoding='utf-8', index=False)\n",
    "# df_txt.to_csv(path+file_name+\"_bardup\"+\"_utf8\"+extensao, sep=';', encoding='utf-8')\n",
    "\n",
    "# df_txt.to_csv(path+file_name+\"_tab\"+\"_latin1\"+extensao, sep='\\t', encoding ='latin1')\n",
    "# df_txt.to_csv(path+file_name+extensao, sep='|', encoding ='not utf-8', index=False)\n",
    "# df_txt.to_csv(path+file_name+\"_bardup\"+\"_latin1\"+extensao, sep=';', encoding ='latin1')"
   ]
  },
  {
   "cell_type": "code",
   "execution_count": null,
   "id": "d5dea47e",
   "metadata": {},
   "outputs": [],
   "source": []
  }
 ],
 "metadata": {
  "kernelspec": {
   "display_name": "Python 3 (ipykernel)",
   "language": "python",
   "name": "python3"
  },
  "language_info": {
   "codemirror_mode": {
    "name": "ipython",
    "version": 3
   },
   "file_extension": ".py",
   "mimetype": "text/x-python",
   "name": "python",
   "nbconvert_exporter": "python",
   "pygments_lexer": "ipython3",
   "version": "3.10.6"
  },
  "vscode": {
   "interpreter": {
    "hash": "fe5c79b9637b4bf06a1aadc79201f875472c6ad2eab27a695c0b9de7739129c6"
   }
  }
 },
 "nbformat": 4,
 "nbformat_minor": 5
}
