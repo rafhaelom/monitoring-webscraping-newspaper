{
 "cells": [
  {
   "cell_type": "markdown",
   "id": "40ef70b1",
   "metadata": {},
   "source": [
    "<h1 style=\"text-align:center\">Análise Exploratória de Dados de Notícias de Jornal Web</h1>\n",
    "\n",
    "<div align=\"center\"><img src=\"https://upload.wikimedia.org/wikipedia/commons/thumb/8/8f/Correio_Braziliense.svg/2560px-Correio_Braziliense.svg.png\" width=\"500px\" height=\"50px\" alt=\"Logo Correio Braziliense\"></img></div>\n",
    "\n",
    "<p align='justify'>As notícias de jornal web são coletadas diariamente por webscraping a partir do site de notícias <a href=\"https://www.correiobraziliense.com.br/\">Correio Braziliense</a>. É um jornal brasileiro com sede em Brasília - DF, fundado em 21 de abril de 1960 por Assis Chateaubriand, juntamente com a inauguração da cidade e da TV Brasília. O nome veio do histórico <a href=\"https://pt.wikipedia.org/wiki/Correio_Braziliense_(1808)\">Correio Brasiliense ou Armazém Literário</a>, editado em Londres a partir de 1808 por Hipólito José da Costa <cite><a href=\"https://pt.wikipedia.org/wiki/Correio_Braziliense\">[Wikipedia]</a></cite>.</p>\n",
    "\n",
    "<p align='justify'>Como premissa para as análises e organização do projeto, é utilizada a metodologia <a href=\"https://www.datascience-pm.com/crisp-dm-2/\">Cross Industry Standard Process for Data Mining (CRISP-DM)</a>.</p>"
   ]
  },
  {
   "cell_type": "markdown",
   "id": "f38e23e0",
   "metadata": {},
   "source": [
    "<h2 style=\"text-align:left\">Entendimento do Negócio</h2>\n",
    "\n",
    "<p align='justify'>O conjunto de dados em análise, refere-se a notícias diárias de um jornal de Brasília-DF chamado Correio Braziliense, onde por meio da técnica de webscraping, é coletado as notícias diárias desse jornal, uma tabela dispõe de informações das URL's das notícias, tema, e data da extração, a outra tabela dispõe de informações da notícias em si, data da publicação, autor, título e o texto da notícias.</p>\n",
    "\n",
    "<h3 style=\"text-align:left\">Dicionário de dados</h3>\n",
    "<p align='justify'>A seguir é demonstrado os campos (colunas) e sua respectiva descrição a que se refere tal dado em cada tabela construída no banco de dados.</p>\n",
    "\n",
    "<h4 style=\"text-align:left\">TB_JORNAIS</h4>\n",
    "<p align='justify'>Tabela com informações básicas do jornal.</p>\n",
    "    \n",
    "|Campo|Descrição|\n",
    "|:----|:--------|\n",
    "|ID_JORNAL|Identificador único do jornal|\n",
    "|DESC_JORNAL|Nome do jornal|\n",
    "|URL_JORNAL|URL principal do jornal|\n",
    "\n",
    "<h4 style=\"text-align:left\">TB_URL_NOTICIAS</h4>\n",
    "<p align='justify'>Tabela com informações das URL's da notícias extraídas do jornal.</p>\n",
    "\n",
    "|Campo|Descrição|\n",
    "|:----|:--------|\n",
    "|ID_NOTICIA|Identificador único da notícia|\n",
    "|DATA_EXTRACAO|Data da extração da url da notícia|\n",
    "|DESC_JORNAL|Nome do jornal|\n",
    "|DESC_TEMA|Nome do tema da notícia|\n",
    "|URL_NOTICIA|URL da notícia|\n",
    "|FLAG_EXTRAIDA|Flag (True ou False) se já foi extraído o texto da notícia|\n",
    "\n",
    "<h4 style=\"text-align:left\">TB_TEXTO_NOTICIAS</h4>\n",
    "<p align='justify'>Tabela com informações das notícias extraídas do jornal.</p>\n",
    "\n",
    "|Campo|Descrição|\n",
    "|:----|:--------|\n",
    "|ID_NOTICIA|Identificador único da notícia|\n",
    "|URL|URL da notícia|\n",
    "|DATA_PUBLICACAO|Data e hora da publicação da notícia|\n",
    "|AUTOR|Autor(es) da notícia|\n",
    "|TITULO|Título (manchete) da notícia|\n",
    "|TEXTO|Texto da notícia|"
   ]
  },
  {
   "cell_type": "markdown",
   "id": "cf68105f",
   "metadata": {},
   "source": [
    "<h2 style=\"text-align:left\">Entendimento dos Dados</h2>\n",
    "\n",
    "<p align='justify'>Nesta etapa é realizada a exploração dos dados, com o objetivo de entender as características da base de dados e possíveis ajustes necessários a serem realizados antes da etapa de visualização.</p>"
   ]
  },
  {
   "cell_type": "code",
   "execution_count": 1,
   "id": "e0a383cd",
   "metadata": {},
   "outputs": [],
   "source": [
    "#!pip install wordcloud -q"
   ]
  },
  {
   "cell_type": "code",
   "execution_count": 2,
   "id": "9d71abd4",
   "metadata": {},
   "outputs": [],
   "source": [
    "# Importa Bibliotecas.\n",
    "import os\n",
    "import sys\n",
    "from dotenv import load_dotenv\n",
    "import time\n",
    "import re\n",
    "from datetime import date\n",
    "\n",
    "import pandas as pd\n",
    "import numpy as np\n",
    "\n",
    "import matplotlib.pyplot as plt\n",
    "# Apresenta os dados no notebook\n",
    "%matplotlib inline\n",
    "\n",
    "import seaborn as sns\n",
    "# Estilo dos gráficos\n",
    "sns.set_style(\"darkgrid\")\n",
    "\n",
    "from wordcloud import WordCloud\n",
    "\n",
    "import psycopg2 \n",
    "import sqlalchemy               \n",
    "from sqlalchemy import create_engine\n",
    "from sqlalchemy import text\n",
    "\n",
    "load_dotenv()\n",
    "\n",
    "# Parametros do Pandas, limitando a quantidade máxima e a largura das colunas.\n",
    "pd.set_option('max_colwidth', 5000)"
   ]
  },
  {
   "cell_type": "code",
   "execution_count": 3,
   "id": "a963e947",
   "metadata": {},
   "outputs": [],
   "source": [
    "# Credenciais banco\n",
    "host=os.getenv('BD_POSTGRESQL_HOST')\n",
    "port=os.getenv('BD_POSTGRESQL_PORT')\n",
    "dbname=os.getenv('BD_POSTGRESQL_DBNAME')\n",
    "user=os.getenv('BD_POSTGRESQL_USE')\n",
    "password=os.getenv('BD_POSTGRESQL_PASSWORD')"
   ]
  },
  {
   "cell_type": "code",
   "execution_count": 4,
   "id": "0e6dd918",
   "metadata": {},
   "outputs": [],
   "source": [
    "path = \"C:/Users/Usuario/Documents/GitHub/monitoring-webscraping-newspaper/dados/\""
   ]
  },
  {
   "cell_type": "markdown",
   "id": "56b4d136",
   "metadata": {},
   "source": [
    "<h3 style=\"text-align:left\">TB_JORNAIS</h3>"
   ]
  },
  {
   "cell_type": "code",
   "execution_count": 5,
   "id": "1eb6a517",
   "metadata": {},
   "outputs": [
    {
     "name": "stdout",
     "output_type": "stream",
     "text": [
      "(1, 3)\n"
     ]
    }
   ],
   "source": [
    "# Consultando dados anteriores no BD.\n",
    "engine = create_engine(f'postgresql://{user}:{password}@{host}/{dbname}')\n",
    "conn = engine.connect()\n",
    "\n",
    "df_jornais = pd.read_sql(text('''select * from tb_jornais;'''), conn)\n",
    "\n",
    "# Proporção dos dados em linhas e colunas\n",
    "print(df_jornais.shape)\n",
    "\n",
    "conn.close()"
   ]
  },
  {
   "cell_type": "code",
   "execution_count": 6,
   "id": "8753ba47",
   "metadata": {},
   "outputs": [
    {
     "name": "stdout",
     "output_type": "stream",
     "text": [
      "<class 'pandas.core.frame.DataFrame'>\n",
      "RangeIndex: 1 entries, 0 to 0\n",
      "Data columns (total 3 columns):\n",
      " #   Column       Non-Null Count  Dtype \n",
      "---  ------       --------------  ----- \n",
      " 0   ID_JORNAL    1 non-null      int64 \n",
      " 1   DESC_JORNAL  1 non-null      object\n",
      " 2   URL_JORNAL   1 non-null      object\n",
      "dtypes: int64(1), object(2)\n",
      "memory usage: 152.0+ bytes\n"
     ]
    }
   ],
   "source": [
    "# Verificando os metadados da base\n",
    "df_jornais.info()"
   ]
  },
  {
   "cell_type": "code",
   "execution_count": 7,
   "id": "330d25ab",
   "metadata": {},
   "outputs": [
    {
     "name": "stdout",
     "output_type": "stream",
     "text": [
      "Tipos de dados e sua frequência\n",
      "object    2\n",
      "int64     1\n",
      "dtype: int64\n"
     ]
    }
   ],
   "source": [
    "# Verificando os tipos de dados.\n",
    "print(\"Tipos de dados e sua frequência\\n{}\".format(df_jornais.dtypes.value_counts()))"
   ]
  },
  {
   "cell_type": "code",
   "execution_count": 8,
   "id": "8f30bf71",
   "metadata": {},
   "outputs": [
    {
     "data": {
      "text/html": [
       "<div>\n",
       "<style scoped>\n",
       "    .dataframe tbody tr th:only-of-type {\n",
       "        vertical-align: middle;\n",
       "    }\n",
       "\n",
       "    .dataframe tbody tr th {\n",
       "        vertical-align: top;\n",
       "    }\n",
       "\n",
       "    .dataframe thead th {\n",
       "        text-align: right;\n",
       "    }\n",
       "</style>\n",
       "<table border=\"1\" class=\"dataframe\">\n",
       "  <thead>\n",
       "    <tr style=\"text-align: right;\">\n",
       "      <th></th>\n",
       "      <th>ID_JORNAL</th>\n",
       "      <th>DESC_JORNAL</th>\n",
       "      <th>URL_JORNAL</th>\n",
       "    </tr>\n",
       "  </thead>\n",
       "  <tbody>\n",
       "    <tr>\n",
       "      <th>0</th>\n",
       "      <td>1</td>\n",
       "      <td>Correio Braziliense</td>\n",
       "      <td>https://www.correiobraziliense.com.br/</td>\n",
       "    </tr>\n",
       "  </tbody>\n",
       "</table>\n",
       "</div>"
      ],
      "text/plain": [
       "   ID_JORNAL          DESC_JORNAL                              URL_JORNAL\n",
       "0          1  Correio Braziliense  https://www.correiobraziliense.com.br/"
      ]
     },
     "execution_count": 8,
     "metadata": {},
     "output_type": "execute_result"
    }
   ],
   "source": [
    "# Observando a abse de dados\n",
    "df_jornais.head()"
   ]
  },
  {
   "cell_type": "code",
   "execution_count": 9,
   "id": "e642f5f8",
   "metadata": {},
   "outputs": [
    {
     "data": {
      "text/plain": [
       "ID_JORNAL      0\n",
       "DESC_JORNAL    0\n",
       "URL_JORNAL     0\n",
       "dtype: int64"
      ]
     },
     "execution_count": 9,
     "metadata": {},
     "output_type": "execute_result"
    }
   ],
   "source": [
    "# Verificação da existência de dados ausentes/faltantes\n",
    "df_jornais.isnull().sum()"
   ]
  },
  {
   "cell_type": "code",
   "execution_count": 10,
   "id": "cce57b0c",
   "metadata": {},
   "outputs": [
    {
     "data": {
      "text/plain": [
       "0"
      ]
     },
     "execution_count": 10,
     "metadata": {},
     "output_type": "execute_result"
    }
   ],
   "source": [
    "# Verificando dados nulos por registro e retornando a maior quantidade.\n",
    "df_jornais.isna().sum(axis=1).max()"
   ]
  },
  {
   "cell_type": "markdown",
   "id": "66187a32",
   "metadata": {},
   "source": [
    "<h3 style=\"text-align:left\">TB_URL_NOTICIAS</h3>"
   ]
  },
  {
   "cell_type": "code",
   "execution_count": 11,
   "id": "673694e3",
   "metadata": {},
   "outputs": [
    {
     "name": "stdout",
     "output_type": "stream",
     "text": [
      "(18839, 6)\n"
     ]
    }
   ],
   "source": [
    "# Consultando dados anteriores no BD.\n",
    "engine = create_engine(f'postgresql://{user}:{password}@{host}/{dbname}')\n",
    "conn = engine.connect()\n",
    "\n",
    "df_url = pd.read_sql(text('''select * from tb_url_noticias;'''), conn)\n",
    "\n",
    "# Proporção dos dados em linhas e colunas\n",
    "print(df_url.shape)\n",
    "\n",
    "conn.close()"
   ]
  },
  {
   "cell_type": "code",
   "execution_count": 12,
   "id": "f4a21eed",
   "metadata": {},
   "outputs": [
    {
     "name": "stdout",
     "output_type": "stream",
     "text": [
      "<class 'pandas.core.frame.DataFrame'>\n",
      "RangeIndex: 18839 entries, 0 to 18838\n",
      "Data columns (total 6 columns):\n",
      " #   Column         Non-Null Count  Dtype \n",
      "---  ------         --------------  ----- \n",
      " 0   ID_NOTICIA     18839 non-null  int64 \n",
      " 1   DATA_EXTRACAO  18839 non-null  object\n",
      " 2   DESC_JORNAL    18839 non-null  object\n",
      " 3   DESC_TEMA      18839 non-null  object\n",
      " 4   URL_NOTICIA    18839 non-null  object\n",
      " 5   FLAG_EXTRAIDA  18839 non-null  bool  \n",
      "dtypes: bool(1), int64(1), object(4)\n",
      "memory usage: 754.4+ KB\n"
     ]
    }
   ],
   "source": [
    "# Verificando os metadados da base\n",
    "df_url.info()"
   ]
  },
  {
   "cell_type": "code",
   "execution_count": 13,
   "id": "52467777",
   "metadata": {},
   "outputs": [
    {
     "name": "stdout",
     "output_type": "stream",
     "text": [
      "Tipos de dados e sua frequência\n",
      "object    4\n",
      "int64     1\n",
      "bool      1\n",
      "dtype: int64\n"
     ]
    }
   ],
   "source": [
    "# Verificando os tipos de dados.\n",
    "print(\"Tipos de dados e sua frequência\\n{}\".format(df_url.dtypes.value_counts()))"
   ]
  },
  {
   "cell_type": "code",
   "execution_count": 14,
   "id": "9a66f61c",
   "metadata": {},
   "outputs": [
    {
     "data": {
      "text/html": [
       "<div>\n",
       "<style scoped>\n",
       "    .dataframe tbody tr th:only-of-type {\n",
       "        vertical-align: middle;\n",
       "    }\n",
       "\n",
       "    .dataframe tbody tr th {\n",
       "        vertical-align: top;\n",
       "    }\n",
       "\n",
       "    .dataframe thead th {\n",
       "        text-align: right;\n",
       "    }\n",
       "</style>\n",
       "<table border=\"1\" class=\"dataframe\">\n",
       "  <thead>\n",
       "    <tr style=\"text-align: right;\">\n",
       "      <th></th>\n",
       "      <th>ID_NOTICIA</th>\n",
       "      <th>DATA_EXTRACAO</th>\n",
       "      <th>DESC_JORNAL</th>\n",
       "      <th>DESC_TEMA</th>\n",
       "      <th>URL_NOTICIA</th>\n",
       "      <th>FLAG_EXTRAIDA</th>\n",
       "    </tr>\n",
       "  </thead>\n",
       "  <tbody>\n",
       "    <tr>\n",
       "      <th>0</th>\n",
       "      <td>3</td>\n",
       "      <td>2022-09-24</td>\n",
       "      <td>correiobraziliense</td>\n",
       "      <td>home</td>\n",
       "      <td>https://www.correiobraziliense.com.br/politica/2022/09/5039139-tse-identifica-rs-605-milhoes-em-doacoes-suspeitas.html</td>\n",
       "      <td>True</td>\n",
       "    </tr>\n",
       "    <tr>\n",
       "      <th>1</th>\n",
       "      <td>4</td>\n",
       "      <td>2022-09-24</td>\n",
       "      <td>correiobraziliense</td>\n",
       "      <td>home</td>\n",
       "      <td>https://www.correiobraziliense.com.br/cidades-df/2022/09/5039108-confira-a-agenda-dos-candidatos-ao-gdf-para-este-sabado.html</td>\n",
       "      <td>True</td>\n",
       "    </tr>\n",
       "    <tr>\n",
       "      <th>2</th>\n",
       "      <td>261</td>\n",
       "      <td>2022-10-05</td>\n",
       "      <td>correiobraziliense</td>\n",
       "      <td>opiniao</td>\n",
       "      <td>https://www.correiobraziliense.com.br//opiniao/2022/10/5041502-artigo-o-brasil-mudou.html</td>\n",
       "      <td>True</td>\n",
       "    </tr>\n",
       "    <tr>\n",
       "      <th>3</th>\n",
       "      <td>1639</td>\n",
       "      <td>2022-10-13</td>\n",
       "      <td>correiobraziliense</td>\n",
       "      <td>home</td>\n",
       "      <td>https://www.correiobraziliense.com.br/cbforum/testedopezinho.html</td>\n",
       "      <td>True</td>\n",
       "    </tr>\n",
       "    <tr>\n",
       "      <th>4</th>\n",
       "      <td>2156</td>\n",
       "      <td>2022-10-17</td>\n",
       "      <td>correiobraziliense</td>\n",
       "      <td>tecnologia</td>\n",
       "      <td>https://www.correiobraziliense.com.br/tecnologia/2022/10/5044373-ia-vence-os-obstaculos.html</td>\n",
       "      <td>True</td>\n",
       "    </tr>\n",
       "  </tbody>\n",
       "</table>\n",
       "</div>"
      ],
      "text/plain": [
       "   ID_NOTICIA DATA_EXTRACAO         DESC_JORNAL   DESC_TEMA  \\\n",
       "0           3    2022-09-24  correiobraziliense        home   \n",
       "1           4    2022-09-24  correiobraziliense        home   \n",
       "2         261    2022-10-05  correiobraziliense     opiniao   \n",
       "3        1639    2022-10-13  correiobraziliense        home   \n",
       "4        2156    2022-10-17  correiobraziliense  tecnologia   \n",
       "\n",
       "                                                                                                                     URL_NOTICIA  \\\n",
       "0         https://www.correiobraziliense.com.br/politica/2022/09/5039139-tse-identifica-rs-605-milhoes-em-doacoes-suspeitas.html   \n",
       "1  https://www.correiobraziliense.com.br/cidades-df/2022/09/5039108-confira-a-agenda-dos-candidatos-ao-gdf-para-este-sabado.html   \n",
       "2                                      https://www.correiobraziliense.com.br//opiniao/2022/10/5041502-artigo-o-brasil-mudou.html   \n",
       "3                                                              https://www.correiobraziliense.com.br/cbforum/testedopezinho.html   \n",
       "4                                   https://www.correiobraziliense.com.br/tecnologia/2022/10/5044373-ia-vence-os-obstaculos.html   \n",
       "\n",
       "   FLAG_EXTRAIDA  \n",
       "0           True  \n",
       "1           True  \n",
       "2           True  \n",
       "3           True  \n",
       "4           True  "
      ]
     },
     "execution_count": 14,
     "metadata": {},
     "output_type": "execute_result"
    }
   ],
   "source": [
    "# Observando a abse de dados\n",
    "df_url.head()"
   ]
  },
  {
   "cell_type": "code",
   "execution_count": 15,
   "id": "c3187643",
   "metadata": {},
   "outputs": [
    {
     "data": {
      "text/plain": [
       "ID_NOTICIA       0\n",
       "DATA_EXTRACAO    0\n",
       "DESC_JORNAL      0\n",
       "DESC_TEMA        0\n",
       "URL_NOTICIA      0\n",
       "FLAG_EXTRAIDA    0\n",
       "dtype: int64"
      ]
     },
     "execution_count": 15,
     "metadata": {},
     "output_type": "execute_result"
    }
   ],
   "source": [
    "# Verificação da existência de dados ausentes/faltantes\n",
    "df_url.isnull().sum()"
   ]
  },
  {
   "cell_type": "code",
   "execution_count": 16,
   "id": "311c1072",
   "metadata": {},
   "outputs": [
    {
     "data": {
      "text/plain": [
       "0"
      ]
     },
     "execution_count": 16,
     "metadata": {},
     "output_type": "execute_result"
    }
   ],
   "source": [
    "# Verificando dados nulos por registro e retornando a maior quantidade.\n",
    "df_url.isna().sum(axis=1).max()"
   ]
  },
  {
   "cell_type": "markdown",
   "id": "7a8d5b15",
   "metadata": {},
   "source": [
    "<h3 style=\"text-align:left\">TB_TEXTO_NOTICIAS</h3>"
   ]
  },
  {
   "cell_type": "code",
   "execution_count": 17,
   "id": "5764a9a0",
   "metadata": {},
   "outputs": [
    {
     "name": "stdout",
     "output_type": "stream",
     "text": [
      "(18839, 6)\n"
     ]
    }
   ],
   "source": [
    "# Consultando dados anteriores no BD.\n",
    "engine = create_engine(f'postgresql://{user}:{password}@{host}/{dbname}')\n",
    "conn = engine.connect()\n",
    "\n",
    "df_txt = pd.read_sql(text('''select * from tb_texto_noticias;'''), conn)\n",
    "print(df_txt.shape)\n",
    "\n",
    "conn.close()"
   ]
  },
  {
   "cell_type": "code",
   "execution_count": 18,
   "id": "5ba5ef10",
   "metadata": {},
   "outputs": [
    {
     "name": "stdout",
     "output_type": "stream",
     "text": [
      "<class 'pandas.core.frame.DataFrame'>\n",
      "RangeIndex: 18839 entries, 0 to 18838\n",
      "Data columns (total 6 columns):\n",
      " #   Column           Non-Null Count  Dtype \n",
      "---  ------           --------------  ----- \n",
      " 0   ID_NOTICIA       18839 non-null  int64 \n",
      " 1   URL              18839 non-null  object\n",
      " 2   DATA_PUBLICACAO  18546 non-null  object\n",
      " 3   AUTOR            18839 non-null  object\n",
      " 4   TITULO           18839 non-null  object\n",
      " 5   TEXTO            18839 non-null  object\n",
      "dtypes: int64(1), object(5)\n",
      "memory usage: 883.2+ KB\n"
     ]
    }
   ],
   "source": [
    "# Verificando os metadados da base\n",
    "df_txt.info()"
   ]
  },
  {
   "cell_type": "code",
   "execution_count": 19,
   "id": "5190d208",
   "metadata": {},
   "outputs": [
    {
     "name": "stdout",
     "output_type": "stream",
     "text": [
      "Tipos de dados e sua frequência\n",
      "object    5\n",
      "int64     1\n",
      "dtype: int64\n"
     ]
    }
   ],
   "source": [
    "# Verificando os tipos de dados.\n",
    "print(\"Tipos de dados e sua frequência\\n{}\".format(df_txt.dtypes.value_counts()))"
   ]
  },
  {
   "cell_type": "code",
   "execution_count": 20,
   "id": "4a4f8ec5",
   "metadata": {},
   "outputs": [
    {
     "data": {
      "text/html": [
       "<div>\n",
       "<style scoped>\n",
       "    .dataframe tbody tr th:only-of-type {\n",
       "        vertical-align: middle;\n",
       "    }\n",
       "\n",
       "    .dataframe tbody tr th {\n",
       "        vertical-align: top;\n",
       "    }\n",
       "\n",
       "    .dataframe thead th {\n",
       "        text-align: right;\n",
       "    }\n",
       "</style>\n",
       "<table border=\"1\" class=\"dataframe\">\n",
       "  <thead>\n",
       "    <tr style=\"text-align: right;\">\n",
       "      <th></th>\n",
       "      <th>ID_NOTICIA</th>\n",
       "      <th>URL</th>\n",
       "      <th>DATA_PUBLICACAO</th>\n",
       "      <th>AUTOR</th>\n",
       "      <th>TITULO</th>\n",
       "      <th>TEXTO</th>\n",
       "    </tr>\n",
       "  </thead>\n",
       "  <tbody>\n",
       "    <tr>\n",
       "      <th>0</th>\n",
       "      <td>1</td>\n",
       "      <td>https://www.correiobraziliense.com.br/politica/2022/09/5039152-bolsonaro-e-lula-jogam-as-cartas-para-reta-final-da-campanha-eleitoral.html</td>\n",
       "      <td>2022-09-24-0303:55:00-10800</td>\n",
       "      <td>{\"'Ingrid Soares, Victor Correia'\"}</td>\n",
       "      <td>Bolsonaro e Lula jogam as cartas para reta final da campanha eleitoral</td>\n",
       "      <td>A oito dias das eleições, os dois principais candidatos à Presidência, Jair Bolsonaro (PL) e Luiz Inácio Lula da Silva (PT), jogam os últimos lances para a semana final antes do primeiro turno de votação, em 2 de outubro. Mas, se na campanha petista a recomendação é de calçar as \"sandálias da humildade\" e evitar a euforia da cada vez maior possibilidade de vitória no primeiro turno, na do presidente acendeu a luz de emergência.\\n\\nO comitê de campanha tenta uma correção de rumo por causa das seguidas diminuições no percentual de votos apontado pelas pesquisa de opinião. A mais recente, do Datafolha, divulgada na última quinta-feira, mostrou que Bolsonaro está parado com 33% — Lula foi a 47%.\\n\\nFontes da campanha do presidente concluíram que, ao ser impedida a utilização, pelo Tribunal Superior Eleitoral (TSE), das imagens do 7 de Setembro e do discurso na Assembleia Geral das Nações Unidas, frustraram-se os ganhos políticos que eram esperados. Assim, o investimento, agora, passa a ser nas viagens aos maiores colégios eleitorais, como São Paulo, Minas Gerais e Rio de Janeiro, e ao Nordeste, na tentativa de aumentar o desgaste da imagem de Lula.\\n\\nBolsonaro também continuará batendo firme na corrupção durante os governos do PT e enfatizará que o ex-presidente esteve preso por causa disso. O primeiro passo dessa estratégia será dado, hoje, no debate entre os postulantes ao Palácio do Planalto, no SBT, do qual o presidente participará, mas o petista, não.\\n\\nAinda assim, atacar Lula e o PT com todas as forças pode não dar tração suficiente a Bolsonaro. Integrantes da campanha lamentam que ele não tem conseguido atrair novos eleitores por pregar apenas para sua base fiel. Além disso, já detectaram que voltar a atacar as urnas eletrônicas e ressuscitar a necessidade do voto impresso — como defendem alguns dos seus principais auxiliares — nada agrega ao presidente numericamente. Ao contrário: membros menos radicais do QG bolsonarista acreditam que isso só afasta os indecisos, além de não tirar um único voto dos adversários.\\n\\nPara reforçar o apoio a aliados locais — e fazer com que alguns dos mais bem colocados consigam lhe devolver em votos esse atrelamento —, Bolsonaro tem feito, diariamente, lives pelas redes sociais. Mas até mesmo esta estratégia apresenta problemas, pois integrantes do governo avaliam que colar à imagem do presidente pode trazer prejuízos nesta reta final.\\n\\nPara piorar, emergem sinais de dentro do bunker bolsonarista de que a derrota está muito próxima. Como o que passou o coordenador da campanha e ministro da Casa Civil, Ciro Nogueira, que na última quinta-feira anunciou que entraria em férias para colaborar na eleição da ex-mulher, Iracema Portela, a vice-governadora do Piauí. A iniciativa repercutiu pessimamente entre os apoiadores do presidente e dentro do governo, e ele voltou atrás horas depois.\\n\\nJá a campanha de Lula amarra as pontas soltas para a semana decisiva. Mirando nos votos úteis, nos indecisos e tentando reduzir a abstenção, na segunda-feira ocorre o \"último grande ato\" do petista em São Paulo, com direito a tapete vermelho para artistas. O comício terá participações presenciais e à distância, com nomes como Anitta, Caetano Veloso — que anunciou voto no petista, abandonando o presidenciável Ciro Gomes (PDT) —, Ludmilla e Chico Buarque.\\n\\nO objetivo do evento é dar uma demonstração de força e de apoio entre diferentes segmentos — a chamada \"frente ampla\" que Lula vem tentando costurar desde a pré-campanha. Na última segunda, ele conseguiu reunir em uma mesma mesa ex-presidenciáveis de espectros antagônicos, como Luciana Genro (PSol), Marina Silva (Rede) e o economista Henrique Meirelles (União). O petista ainda somou ao seu leque de apoios a nota do ex-presidente Fernando Henrique Cardoso recomendando o voto em candidatos comprometidos com a defesa do Estado Democrático de Direito, com as igualdades e com a defesa do meio ambiente — tudo que Bolsonaro tem se mostrado contrário.\\n\\nEntre os estrategistas da chapa, o maior alvo no momento é a vitória no primeiro turno. As pesquisas divulgadas nesta semana, como a Datafolha de quinta, mostraram um crescimento do petista e uma chance concreta para liquidar a disputa. Segundo o instituto, o ex-presidente subiu de 45% para 47% das intenções de voto, atingindo ainda 50% dos votos válidos. \"Devemos estimular a campanha do Voto por Democracia, Voto Pelo Brasil, para a vitória no primeiro turno!\", disse ao Correio o ex-governador do Piauí e coordenador da campanha de Lula, Wellington Dias, sobre a reta final.\\n\\nEm paralelo ao \"showmício\" da segunda-feira, o PT mobilizou sua militância, em reunião na última quinta-feira, para realizar \"mobilização máxima nas ruas\" hoje e amanhã. A orientação da sigla é a realização de \"caminhadas, carreatas, bandeiraços e adesivações\", com o objetivo de dar visibilidade a Lula e estimular o \"comparecimento do eleitorado\" nas eleições. Isso porque, de acordo com uma fonte próxima ao setor jurí...</td>\n",
       "    </tr>\n",
       "    <tr>\n",
       "      <th>1</th>\n",
       "      <td>2</td>\n",
       "      <td>https://www.correiobraziliense.com.br/politica/2022/09/5039144-disputa-pelo-voto-entre-lula-e-bolsonaro-divide-igrejas-pentecostais.html</td>\n",
       "      <td>2022-09-24-0303:55:00-10800</td>\n",
       "      <td>{\"'Correio Braziliense'\"}</td>\n",
       "      <td>Disputa pelo voto entre Lula e Bolsonaro divide igrejas pentecostais</td>\n",
       "      <td>A disputa pelo voto cristão por Jair Bolsonaro (PL), candidato à reeleição, e por Luiz Inácio Lula da Silva (PT) está rachando as igrejas evangélicas. Enquanto as cúpulas das denominações abraçaram o bolsonarismo e tentam influenciar o voto dos fiéis, evangélicos jovens e de baixa renda rompem com grandes congregações e declaram apoio ao petista. Jovens, mulheres e eleitores de periferia, onde Lula se sai melhor, lideram o movimento. Há, ainda, casos de fiéis que, cansados do debate político, se afastaram dos cultos.\\n\\nNa avaliação do diretor do Observatório Evangélico, Vinicius do Valle, as igrejas evangélicas passam por um \"efeito bumerangue\" nesta campanha. Ele confirmou que o apoio a Bolsonaro por pastores e a politização dos cultos têm afastado o público. \"Muitos deixaram de ir aos cultos, e tivemos uma reação dos fiéis demonstrando desconforto com a discussão eleitoral nos templos. O evangélico quer ver seus valores na política, mas não concorda com a campanha eleitoral nas igrejas\", observou.\\n\\nAo mesmo tempo que a diferença nas pesquisas eleitorais entre os dois candidatos mais bem colocados na disputa presidencial cai no segmento, coordenadores das campanhas intensificam as agendas com líderes e eleitores evangélicos. Nas últimas semanas, Lula se encontrou com religiosos, na Região Metropolitana do Rio. Bolsonaro participou de culto do pastor Silas Malafaia, um de seus apoiadores, na capital fluminense.\\n\\nDo lado dos fiéis, há reclamações sobre o uso político da religião. Eles reclamam do desvio da finalidade das igrejas e de tentativas de imposição de voto por pastores que apoiam Bolsonaro.\\n\\nUma das insatisfeitas é a ativista Débora Amorim, de 34 anos. Desconfortável com a politização da igreja que frequentava, a Metodista, rompeu com a congregação. Ela foi criada em templos evangélicos e, agora, integra o coletivo Novas Narrativas Evangélicas.\\n\\nO grupo tem fiéis de diferentes denominações protestantes. Foi criado para defender a liberdade do voto. Uma das suas estratégias é a produção e divulgação de conteúdo nas redes sociais. Nas últimas semanas, lançou as palavras de ordem #LivrePraVotar e \"Deus não tem candidato\".\\n\\nPara Débora, como a maioria dos evangélicos é formada por mulheres pretas e de periferia, é esse o público simpático à candidatura de Lula. Segundo ela, a tentativa de imposição de valores morais por parte dos pastores midiáticos e de consolidação de uma única narrativa como \"o caminho para a salvação\" tem afastado parte dos fiéis.\\n\\nUm dos idealizadores do movimento, o advogado Daniel Wanderley destacou que existem inúmeros \"crentes\" dispostos a construir e expressar \"novas narrativas evangélicas\". \"São pessoas que estavam sofrendo represálias e diversos desafios dentro de suas comunidades à medida que o bolsonarismo foi se apropriando e instrumentalizando a fé evangélica. O movimento evangélico é muito mais plural\", explica.\\n\\nDani Marinho, 24, evangélica da Igreja Batista do Caminho, foi criada \"dentro da Universal\" — liderada por Edir Macedo, apoiador de Bolsonaro. \"Sempre houve a influência da política na igreja, mas hoje está mais escancarada. Há uma tentativa de imposição de um candidato\", afirma.\\n\\nOs evangélicos representam 31% da população (cerca de 65 milhões de pessoas), segundo pesquisa Datafolha de 2020. De acordo com o Censo Brasileiro, do Instituto Brasileiro de Geografia e Estatísticas (IBGE), 60% (25,3 milhões) dos evangélicos eram pentecostais. Pesquisas mostram que a diferença entre o Lula e Bolsonaro tem recuado, embora permaneça grande. A mais recente rodada do Ipec, de 19 de setembro, mostrou o presidente em estabilidade, com 48% das intenções de voto entre evangélicos. Lula cresceu seis pontos (32%).</td>\n",
       "    </tr>\n",
       "  </tbody>\n",
       "</table>\n",
       "</div>"
      ],
      "text/plain": [
       "   ID_NOTICIA  \\\n",
       "0           1   \n",
       "1           2   \n",
       "\n",
       "                                                                                                                                          URL  \\\n",
       "0  https://www.correiobraziliense.com.br/politica/2022/09/5039152-bolsonaro-e-lula-jogam-as-cartas-para-reta-final-da-campanha-eleitoral.html   \n",
       "1    https://www.correiobraziliense.com.br/politica/2022/09/5039144-disputa-pelo-voto-entre-lula-e-bolsonaro-divide-igrejas-pentecostais.html   \n",
       "\n",
       "               DATA_PUBLICACAO                                AUTOR  \\\n",
       "0  2022-09-24-0303:55:00-10800  {\"'Ingrid Soares, Victor Correia'\"}   \n",
       "1  2022-09-24-0303:55:00-10800            {\"'Correio Braziliense'\"}   \n",
       "\n",
       "                                                                   TITULO  \\\n",
       "0  Bolsonaro e Lula jogam as cartas para reta final da campanha eleitoral   \n",
       "1    Disputa pelo voto entre Lula e Bolsonaro divide igrejas pentecostais   \n",
       "\n",
       "                                                                                                                                                                                                                                                                                                                                                                                                                                                                                                                                                                                                                                                                                                                                                                                                                                                                                                                                                                                                                                                                                                                                                                                                                                                                                                                                                                                                                                                                                                                                                                                                                                                                                                                                                                                                                                                                                                                                                                                                                                                                                                                                                                                                                                                                                                                                                                                                                                                                                                                                                                                                                                                                                                                                                                                                                                                                                                                                                                                                                                                                                                                                                                                                                                                                                                                                                                                                                                                                                                                                                                                                                                                                                                                                                                                                                                                                                                                                                                                                                                                                                                                                                                                                                                                                                                                                                                                                                                                                                                                                                                                                                                                                                                                                                                                                                                                                                                                                                                                                                                                                                                                                                                                                     TEXTO  \n",
       "0  A oito dias das eleições, os dois principais candidatos à Presidência, Jair Bolsonaro (PL) e Luiz Inácio Lula da Silva (PT), jogam os últimos lances para a semana final antes do primeiro turno de votação, em 2 de outubro. Mas, se na campanha petista a recomendação é de calçar as \"sandálias da humildade\" e evitar a euforia da cada vez maior possibilidade de vitória no primeiro turno, na do presidente acendeu a luz de emergência.\\n\\nO comitê de campanha tenta uma correção de rumo por causa das seguidas diminuições no percentual de votos apontado pelas pesquisa de opinião. A mais recente, do Datafolha, divulgada na última quinta-feira, mostrou que Bolsonaro está parado com 33% — Lula foi a 47%.\\n\\nFontes da campanha do presidente concluíram que, ao ser impedida a utilização, pelo Tribunal Superior Eleitoral (TSE), das imagens do 7 de Setembro e do discurso na Assembleia Geral das Nações Unidas, frustraram-se os ganhos políticos que eram esperados. Assim, o investimento, agora, passa a ser nas viagens aos maiores colégios eleitorais, como São Paulo, Minas Gerais e Rio de Janeiro, e ao Nordeste, na tentativa de aumentar o desgaste da imagem de Lula.\\n\\nBolsonaro também continuará batendo firme na corrupção durante os governos do PT e enfatizará que o ex-presidente esteve preso por causa disso. O primeiro passo dessa estratégia será dado, hoje, no debate entre os postulantes ao Palácio do Planalto, no SBT, do qual o presidente participará, mas o petista, não.\\n\\nAinda assim, atacar Lula e o PT com todas as forças pode não dar tração suficiente a Bolsonaro. Integrantes da campanha lamentam que ele não tem conseguido atrair novos eleitores por pregar apenas para sua base fiel. Além disso, já detectaram que voltar a atacar as urnas eletrônicas e ressuscitar a necessidade do voto impresso — como defendem alguns dos seus principais auxiliares — nada agrega ao presidente numericamente. Ao contrário: membros menos radicais do QG bolsonarista acreditam que isso só afasta os indecisos, além de não tirar um único voto dos adversários.\\n\\nPara reforçar o apoio a aliados locais — e fazer com que alguns dos mais bem colocados consigam lhe devolver em votos esse atrelamento —, Bolsonaro tem feito, diariamente, lives pelas redes sociais. Mas até mesmo esta estratégia apresenta problemas, pois integrantes do governo avaliam que colar à imagem do presidente pode trazer prejuízos nesta reta final.\\n\\nPara piorar, emergem sinais de dentro do bunker bolsonarista de que a derrota está muito próxima. Como o que passou o coordenador da campanha e ministro da Casa Civil, Ciro Nogueira, que na última quinta-feira anunciou que entraria em férias para colaborar na eleição da ex-mulher, Iracema Portela, a vice-governadora do Piauí. A iniciativa repercutiu pessimamente entre os apoiadores do presidente e dentro do governo, e ele voltou atrás horas depois.\\n\\nJá a campanha de Lula amarra as pontas soltas para a semana decisiva. Mirando nos votos úteis, nos indecisos e tentando reduzir a abstenção, na segunda-feira ocorre o \"último grande ato\" do petista em São Paulo, com direito a tapete vermelho para artistas. O comício terá participações presenciais e à distância, com nomes como Anitta, Caetano Veloso — que anunciou voto no petista, abandonando o presidenciável Ciro Gomes (PDT) —, Ludmilla e Chico Buarque.\\n\\nO objetivo do evento é dar uma demonstração de força e de apoio entre diferentes segmentos — a chamada \"frente ampla\" que Lula vem tentando costurar desde a pré-campanha. Na última segunda, ele conseguiu reunir em uma mesma mesa ex-presidenciáveis de espectros antagônicos, como Luciana Genro (PSol), Marina Silva (Rede) e o economista Henrique Meirelles (União). O petista ainda somou ao seu leque de apoios a nota do ex-presidente Fernando Henrique Cardoso recomendando o voto em candidatos comprometidos com a defesa do Estado Democrático de Direito, com as igualdades e com a defesa do meio ambiente — tudo que Bolsonaro tem se mostrado contrário.\\n\\nEntre os estrategistas da chapa, o maior alvo no momento é a vitória no primeiro turno. As pesquisas divulgadas nesta semana, como a Datafolha de quinta, mostraram um crescimento do petista e uma chance concreta para liquidar a disputa. Segundo o instituto, o ex-presidente subiu de 45% para 47% das intenções de voto, atingindo ainda 50% dos votos válidos. \"Devemos estimular a campanha do Voto por Democracia, Voto Pelo Brasil, para a vitória no primeiro turno!\", disse ao Correio o ex-governador do Piauí e coordenador da campanha de Lula, Wellington Dias, sobre a reta final.\\n\\nEm paralelo ao \"showmício\" da segunda-feira, o PT mobilizou sua militância, em reunião na última quinta-feira, para realizar \"mobilização máxima nas ruas\" hoje e amanhã. A orientação da sigla é a realização de \"caminhadas, carreatas, bandeiraços e adesivações\", com o objetivo de dar visibilidade a Lula e estimular o \"comparecimento do eleitorado\" nas eleições. Isso porque, de acordo com uma fonte próxima ao setor jurí...  \n",
       "1                                                                                                                                                                                                                                                                                                                                                                                                                                                                                                                                                                                                                                                                                                                                                                                                                                                                                                                                                                                                                                                                                                                                                                                                                                                                                                                        A disputa pelo voto cristão por Jair Bolsonaro (PL), candidato à reeleição, e por Luiz Inácio Lula da Silva (PT) está rachando as igrejas evangélicas. Enquanto as cúpulas das denominações abraçaram o bolsonarismo e tentam influenciar o voto dos fiéis, evangélicos jovens e de baixa renda rompem com grandes congregações e declaram apoio ao petista. Jovens, mulheres e eleitores de periferia, onde Lula se sai melhor, lideram o movimento. Há, ainda, casos de fiéis que, cansados do debate político, se afastaram dos cultos.\\n\\nNa avaliação do diretor do Observatório Evangélico, Vinicius do Valle, as igrejas evangélicas passam por um \"efeito bumerangue\" nesta campanha. Ele confirmou que o apoio a Bolsonaro por pastores e a politização dos cultos têm afastado o público. \"Muitos deixaram de ir aos cultos, e tivemos uma reação dos fiéis demonstrando desconforto com a discussão eleitoral nos templos. O evangélico quer ver seus valores na política, mas não concorda com a campanha eleitoral nas igrejas\", observou.\\n\\nAo mesmo tempo que a diferença nas pesquisas eleitorais entre os dois candidatos mais bem colocados na disputa presidencial cai no segmento, coordenadores das campanhas intensificam as agendas com líderes e eleitores evangélicos. Nas últimas semanas, Lula se encontrou com religiosos, na Região Metropolitana do Rio. Bolsonaro participou de culto do pastor Silas Malafaia, um de seus apoiadores, na capital fluminense.\\n\\nDo lado dos fiéis, há reclamações sobre o uso político da religião. Eles reclamam do desvio da finalidade das igrejas e de tentativas de imposição de voto por pastores que apoiam Bolsonaro.\\n\\nUma das insatisfeitas é a ativista Débora Amorim, de 34 anos. Desconfortável com a politização da igreja que frequentava, a Metodista, rompeu com a congregação. Ela foi criada em templos evangélicos e, agora, integra o coletivo Novas Narrativas Evangélicas.\\n\\nO grupo tem fiéis de diferentes denominações protestantes. Foi criado para defender a liberdade do voto. Uma das suas estratégias é a produção e divulgação de conteúdo nas redes sociais. Nas últimas semanas, lançou as palavras de ordem #LivrePraVotar e \"Deus não tem candidato\".\\n\\nPara Débora, como a maioria dos evangélicos é formada por mulheres pretas e de periferia, é esse o público simpático à candidatura de Lula. Segundo ela, a tentativa de imposição de valores morais por parte dos pastores midiáticos e de consolidação de uma única narrativa como \"o caminho para a salvação\" tem afastado parte dos fiéis.\\n\\nUm dos idealizadores do movimento, o advogado Daniel Wanderley destacou que existem inúmeros \"crentes\" dispostos a construir e expressar \"novas narrativas evangélicas\". \"São pessoas que estavam sofrendo represálias e diversos desafios dentro de suas comunidades à medida que o bolsonarismo foi se apropriando e instrumentalizando a fé evangélica. O movimento evangélico é muito mais plural\", explica.\\n\\nDani Marinho, 24, evangélica da Igreja Batista do Caminho, foi criada \"dentro da Universal\" — liderada por Edir Macedo, apoiador de Bolsonaro. \"Sempre houve a influência da política na igreja, mas hoje está mais escancarada. Há uma tentativa de imposição de um candidato\", afirma.\\n\\nOs evangélicos representam 31% da população (cerca de 65 milhões de pessoas), segundo pesquisa Datafolha de 2020. De acordo com o Censo Brasileiro, do Instituto Brasileiro de Geografia e Estatísticas (IBGE), 60% (25,3 milhões) dos evangélicos eram pentecostais. Pesquisas mostram que a diferença entre o Lula e Bolsonaro tem recuado, embora permaneça grande. A mais recente rodada do Ipec, de 19 de setembro, mostrou o presidente em estabilidade, com 48% das intenções de voto entre evangélicos. Lula cresceu seis pontos (32%).  "
      ]
     },
     "execution_count": 20,
     "metadata": {},
     "output_type": "execute_result"
    }
   ],
   "source": [
    "# Observando a abse de dados\n",
    "df_txt.head(2)"
   ]
  },
  {
   "cell_type": "code",
   "execution_count": 21,
   "id": "7e0c0c80",
   "metadata": {},
   "outputs": [
    {
     "data": {
      "text/plain": [
       "ID_NOTICIA           0\n",
       "URL                  0\n",
       "DATA_PUBLICACAO    293\n",
       "AUTOR                0\n",
       "TITULO               0\n",
       "TEXTO                0\n",
       "dtype: int64"
      ]
     },
     "execution_count": 21,
     "metadata": {},
     "output_type": "execute_result"
    }
   ],
   "source": [
    "# Verificação da existência de dados ausentes/faltantes\n",
    "df_txt.isnull().sum()"
   ]
  },
  {
   "cell_type": "code",
   "execution_count": 51,
   "id": "cd73c2c5",
   "metadata": {
    "scrolled": true
   },
   "outputs": [
    {
     "data": {
      "text/plain": [
       "0    18546\n",
       "1      293\n",
       "dtype: int64"
      ]
     },
     "execution_count": 51,
     "metadata": {},
     "output_type": "execute_result"
    }
   ],
   "source": [
    "# Verificando dados nulos por registro e retornando a maior quantidade.\n",
    "df_txt.isna().sum(axis=1).value_counts()"
   ]
  },
  {
   "cell_type": "markdown",
   "id": "388536a2",
   "metadata": {},
   "source": [
    "<h2 style=\"text-align:left\">Preparação dos Dados</h2>\n",
    "<p align='justify'>Nesta etapa é realizada a preparação dos dados, com o objetivo de ajustar as inconsistências encontradas durante a análise exploratória dos dados, permitindo que na etapa de visualização dos dados, os mesmos estejam de forma adequada a apresentação das informações.</p>"
   ]
  },
  {
   "cell_type": "code",
   "execution_count": null,
   "id": "1213df83",
   "metadata": {},
   "outputs": [],
   "source": []
  },
  {
   "cell_type": "code",
   "execution_count": null,
   "id": "58023900",
   "metadata": {},
   "outputs": [],
   "source": []
  },
  {
   "cell_type": "code",
   "execution_count": null,
   "id": "8917558e",
   "metadata": {},
   "outputs": [],
   "source": []
  },
  {
   "cell_type": "code",
   "execution_count": 23,
   "id": "79ca42a6",
   "metadata": {},
   "outputs": [],
   "source": [
    "# file_name = \"tb_texto_noticias\"\n",
    "# extensao = \".txt\"\n",
    "\n",
    "# df_txt.to_csv(path+file_name+\"_tab\"+\"_utf8\"+extensao, sep='\\t', encoding='utf-8')\n",
    "# df_txt.to_csv(path+file_name+extensao, sep='|', encoding='utf-8', index=False)\n",
    "# df_txt.to_csv(path+file_name+\"_bardup\"+\"_utf8\"+extensao, sep=';', encoding='utf-8')\n",
    "\n",
    "# df_txt.to_csv(path+file_name+\"_tab\"+\"_latin1\"+extensao, sep='\\t', encoding ='latin1')\n",
    "# df_txt.to_csv(path+file_name+extensao, sep='|', encoding ='not utf-8', index=False)\n",
    "# df_txt.to_csv(path+file_name+\"_bardup\"+\"_latin1\"+extensao, sep=';', encoding ='latin1')"
   ]
  },
  {
   "cell_type": "code",
   "execution_count": null,
   "id": "d5dea47e",
   "metadata": {},
   "outputs": [],
   "source": []
  }
 ],
 "metadata": {
  "kernelspec": {
   "display_name": "Python 3 (ipykernel)",
   "language": "python",
   "name": "python3"
  },
  "language_info": {
   "codemirror_mode": {
    "name": "ipython",
    "version": 3
   },
   "file_extension": ".py",
   "mimetype": "text/x-python",
   "name": "python",
   "nbconvert_exporter": "python",
   "pygments_lexer": "ipython3",
   "version": "3.10.6"
  },
  "vscode": {
   "interpreter": {
    "hash": "fe5c79b9637b4bf06a1aadc79201f875472c6ad2eab27a695c0b9de7739129c6"
   }
  }
 },
 "nbformat": 4,
 "nbformat_minor": 5
}
