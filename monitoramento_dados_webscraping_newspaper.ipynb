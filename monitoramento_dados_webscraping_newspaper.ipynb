{
 "cells": [
  {
   "cell_type": "markdown",
   "id": "40ef70b1",
   "metadata": {},
   "source": [
    "<h1 style=\"text-align:center\">Análise Exploratória de Dados de Notícias de Jornal Web</h1>\n",
    "\n",
    "<div align=\"center\"><img src=\"https://upload.wikimedia.org/wikipedia/commons/thumb/8/8f/Correio_Braziliense.svg/2560px-Correio_Braziliense.svg.png\" width=\"500px\" height=\"50px\" alt=\"Logo Correio Braziliense\"></img></div>\n",
    "\n",
    "<p align='justify'>As notícias de jornal web são coletadas diariamente por webscraping a partir do site de notícias <a href=\"https://www.correiobraziliense.com.br/\">Correio Braziliense</a>. É um jornal brasileiro com sede em Brasília - DF, fundado em 21 de abril de 1960 por Assis Chateaubriand, juntamente com a inauguração da cidade e da TV Brasília. O nome veio do histórico <a href=\"https://pt.wikipedia.org/wiki/Correio_Braziliense_(1808)\">Correio Brasiliense ou Armazém Literário</a>, editado em Londres a partir de 1808 por Hipólito José da Costa <cite><a href=\"https://pt.wikipedia.org/wiki/Correio_Braziliense\">[Wikipedia]</a></cite>.</p>\n",
    "\n",
    "<p align='justify'>Como premissa para as análises e organização do projeto, é utilizada a metodologia <a href=\"https://www.datascience-pm.com/crisp-dm-2/\">Cross Industry Standard Process for Data Mining (CRISP-DM)</a>.</p>"
   ]
  },
  {
   "cell_type": "markdown",
   "id": "f38e23e0",
   "metadata": {},
   "source": [
    "<h2 style=\"text-align:left\">Entendimento do Negócio</h2>\n",
    "\n",
    "<p align='justify'>O conjunto de dados em análise, refere-se a notícias diárias de um jornal de Brasília-DF chamado Correio Braziliense, onde por meio da técnica de webscraping, é coletado as notícias diárias desse jornal, uma tabela dispõe de informações das URL's das notícias, tema, e data da extração, a outra tabela dispõe de informações da notícias em si, data da publicação, autor, título e o texto da notícias.</p>\n",
    "\n",
    "<h3 style=\"text-align:left\">Dicionário de dados</h3>\n",
    "<p align='justify'>A seguir é demonstrado os campos (colunas) e sua respectiva descrição a que se refere tal dado em cada tabela construída no banco de dados.</p>\n",
    "\n",
    "<h4 style=\"text-align:left\">TB_JORNAIS</h4>\n",
    "<p align='justify'>Tabela com informações básicas do jornal.</p>\n",
    "    \n",
    "|Campo|Descrição|\n",
    "|:----|:--------|\n",
    "|ID_JORNAL|Identificador único do jornal|\n",
    "|DESC_JORNAL|Nome do jornal|\n",
    "|URL_JORNAL|URL principal do jornal|\n",
    "\n",
    "<h4 style=\"text-align:left\">TB_URL_NOTICIAS</h4>\n",
    "<p align='justify'>Tabela com informações das URL's da notícias extraídas do jornal.</p>\n",
    "\n",
    "|Campo|Descrição|\n",
    "|:----|:--------|\n",
    "|ID_NOTICIA|Identificador único da notícia|\n",
    "|DATA_EXTRACAO|Data da extração da url da notícia|\n",
    "|DESC_JORNAL|Nome do jornal|\n",
    "|DESC_TEMA|Nome do tema da notícia|\n",
    "|URL_NOTICIA|URL da notícia|\n",
    "|FLAG_EXTRAIDA|Flag (True ou False) se já foi extraído o texto da notícia|\n",
    "\n",
    "<h4 style=\"text-align:left\">TB_TEXTO_NOTICIAS</h4>\n",
    "<p align='justify'>Tabela com informações das notícias extraídas do jornal.</p>\n",
    "\n",
    "|Campo|Descrição|\n",
    "|:----|:--------|\n",
    "|ID_NOTICIA|Identificador único da notícia|\n",
    "|URL|URL da notícia|\n",
    "|DATA_PUBLICACAO|Data e hora da publicação da notícia|\n",
    "|AUTOR|Autor(es) da notícia|\n",
    "|TITULO|Título (manchete) da notícia|\n",
    "|TEXTO|Texto da notícia|"
   ]
  },
  {
   "cell_type": "markdown",
   "id": "cf68105f",
   "metadata": {},
   "source": [
    "<h2 style=\"text-align:left\">Entendimento dos Dados</h2>\n",
    "\n",
    "<p align='justify'>Nesta etapa é realizada a exploração dos dados, com o objetivo de entender as características da base de dados e possíveis ajustes necessários a serem realizados antes da etapa de visualização.</p>"
   ]
  },
  {
   "cell_type": "code",
   "execution_count": 1,
   "id": "e0a383cd",
   "metadata": {},
   "outputs": [],
   "source": [
    "#!pip install wordcloud -q"
   ]
  },
  {
   "cell_type": "code",
   "execution_count": 2,
   "id": "9d71abd4",
   "metadata": {},
   "outputs": [],
   "source": [
    "# Importa Bibliotecas.\n",
    "import os\n",
    "import sys\n",
    "from dotenv import load_dotenv\n",
    "import time\n",
    "import re\n",
    "from datetime import date\n",
    "\n",
    "import pandas as pd\n",
    "import numpy as np\n",
    "\n",
    "import matplotlib.pyplot as plt\n",
    "# Apresenta os dados no notebook\n",
    "%matplotlib inline\n",
    "\n",
    "import seaborn as sns\n",
    "# Estilo dos gráficos\n",
    "sns.set_style(\"darkgrid\")\n",
    "\n",
    "from wordcloud import WordCloud\n",
    "\n",
    "import psycopg2 \n",
    "import sqlalchemy               \n",
    "from sqlalchemy import create_engine\n",
    "from sqlalchemy import text\n",
    "\n",
    "load_dotenv()\n",
    "\n",
    "# Parametros do Pandas, limitando a quantidade máxima e a largura das colunas.\n",
    "pd.set_option('max_colwidth', 5000)"
   ]
  },
  {
   "cell_type": "code",
   "execution_count": 3,
   "id": "a963e947",
   "metadata": {},
   "outputs": [],
   "source": [
    "# Credenciais banco\n",
    "host=os.getenv('BD_POSTGRESQL_HOST')\n",
    "port=os.getenv('BD_POSTGRESQL_PORT')\n",
    "dbname=os.getenv('BD_POSTGRESQL_DBNAME')\n",
    "user=os.getenv('BD_POSTGRESQL_USE')\n",
    "password=os.getenv('BD_POSTGRESQL_PASSWORD')"
   ]
  },
  {
   "cell_type": "code",
   "execution_count": 4,
   "id": "0e6dd918",
   "metadata": {},
   "outputs": [],
   "source": [
    "path = \"C:/Users/Usuario/Documents/GitHub/monitoring-webscraping-newspaper/dados/\""
   ]
  },
  {
   "cell_type": "markdown",
   "id": "56b4d136",
   "metadata": {},
   "source": [
    "<h3 style=\"text-align:left\">TB_JORNAIS</h3>"
   ]
  },
  {
   "cell_type": "code",
   "execution_count": 5,
   "id": "1eb6a517",
   "metadata": {},
   "outputs": [
    {
     "name": "stdout",
     "output_type": "stream",
     "text": [
      "(1, 3)\n"
     ]
    }
   ],
   "source": [
    "# Consultando dados anteriores no BD.\n",
    "engine = create_engine(f'postgresql://{user}:{password}@{host}/{dbname}')\n",
    "conn = engine.connect()\n",
    "\n",
    "df_jornais = pd.read_sql(text('''select * from tb_jornais;'''), conn)\n",
    "\n",
    "# Proporção dos dados em linhas e colunas\n",
    "print(df_jornais.shape)\n",
    "\n",
    "conn.close()"
   ]
  },
  {
   "cell_type": "code",
   "execution_count": 6,
   "id": "8753ba47",
   "metadata": {},
   "outputs": [
    {
     "name": "stdout",
     "output_type": "stream",
     "text": [
      "<class 'pandas.core.frame.DataFrame'>\n",
      "RangeIndex: 1 entries, 0 to 0\n",
      "Data columns (total 3 columns):\n",
      " #   Column       Non-Null Count  Dtype \n",
      "---  ------       --------------  ----- \n",
      " 0   ID_JORNAL    1 non-null      int64 \n",
      " 1   DESC_JORNAL  1 non-null      object\n",
      " 2   URL_JORNAL   1 non-null      object\n",
      "dtypes: int64(1), object(2)\n",
      "memory usage: 152.0+ bytes\n"
     ]
    }
   ],
   "source": [
    "# Verificando os metadados da base\n",
    "df_jornais.info()"
   ]
  },
  {
   "cell_type": "code",
   "execution_count": 7,
   "id": "330d25ab",
   "metadata": {},
   "outputs": [
    {
     "name": "stdout",
     "output_type": "stream",
     "text": [
      "Tipos de dados e sua frequência\n",
      "object    2\n",
      "int64     1\n",
      "dtype: int64\n"
     ]
    }
   ],
   "source": [
    "# Verificando os tipos de dados.\n",
    "print(\"Tipos de dados e sua frequência\\n{}\".format(df_jornais.dtypes.value_counts()))"
   ]
  },
  {
   "cell_type": "code",
   "execution_count": 8,
   "id": "8f30bf71",
   "metadata": {},
   "outputs": [
    {
     "data": {
      "text/html": [
       "<div>\n",
       "<style scoped>\n",
       "    .dataframe tbody tr th:only-of-type {\n",
       "        vertical-align: middle;\n",
       "    }\n",
       "\n",
       "    .dataframe tbody tr th {\n",
       "        vertical-align: top;\n",
       "    }\n",
       "\n",
       "    .dataframe thead th {\n",
       "        text-align: right;\n",
       "    }\n",
       "</style>\n",
       "<table border=\"1\" class=\"dataframe\">\n",
       "  <thead>\n",
       "    <tr style=\"text-align: right;\">\n",
       "      <th></th>\n",
       "      <th>ID_JORNAL</th>\n",
       "      <th>DESC_JORNAL</th>\n",
       "      <th>URL_JORNAL</th>\n",
       "    </tr>\n",
       "  </thead>\n",
       "  <tbody>\n",
       "    <tr>\n",
       "      <th>0</th>\n",
       "      <td>1</td>\n",
       "      <td>Correio Braziliense</td>\n",
       "      <td>https://www.correiobraziliense.com.br/</td>\n",
       "    </tr>\n",
       "  </tbody>\n",
       "</table>\n",
       "</div>"
      ],
      "text/plain": [
       "   ID_JORNAL          DESC_JORNAL                              URL_JORNAL\n",
       "0          1  Correio Braziliense  https://www.correiobraziliense.com.br/"
      ]
     },
     "execution_count": 8,
     "metadata": {},
     "output_type": "execute_result"
    }
   ],
   "source": [
    "# Observando a abse de dados\n",
    "df_jornais.head()"
   ]
  },
  {
   "cell_type": "code",
   "execution_count": 9,
   "id": "e642f5f8",
   "metadata": {},
   "outputs": [
    {
     "data": {
      "text/plain": [
       "ID_JORNAL      0\n",
       "DESC_JORNAL    0\n",
       "URL_JORNAL     0\n",
       "dtype: int64"
      ]
     },
     "execution_count": 9,
     "metadata": {},
     "output_type": "execute_result"
    }
   ],
   "source": [
    "# Verificação da existência de dados ausentes/faltantes\n",
    "df_jornais.isnull().sum()"
   ]
  },
  {
   "cell_type": "code",
   "execution_count": 10,
   "id": "cce57b0c",
   "metadata": {},
   "outputs": [
    {
     "data": {
      "text/plain": [
       "0"
      ]
     },
     "execution_count": 10,
     "metadata": {},
     "output_type": "execute_result"
    }
   ],
   "source": [
    "# Verificando dados nulos por registro e retornando a maior quantidade.\n",
    "df_jornais.isna().sum(axis=1).max()"
   ]
  },
  {
   "cell_type": "markdown",
   "id": "66187a32",
   "metadata": {},
   "source": [
    "<h3 style=\"text-align:left\">TB_URL_NOTICIAS</h3>"
   ]
  },
  {
   "cell_type": "code",
   "execution_count": 11,
   "id": "673694e3",
   "metadata": {},
   "outputs": [
    {
     "name": "stdout",
     "output_type": "stream",
     "text": [
      "(19459, 6)\n"
     ]
    }
   ],
   "source": [
    "# Consultando dados anteriores no BD.\n",
    "engine = create_engine(f'postgresql://{user}:{password}@{host}/{dbname}')\n",
    "conn = engine.connect()\n",
    "\n",
    "df_url = pd.read_sql(text('''select * from tb_url_noticias;'''), conn)\n",
    "\n",
    "# Proporção dos dados em linhas e colunas\n",
    "print(df_url.shape)\n",
    "\n",
    "conn.close()"
   ]
  },
  {
   "cell_type": "code",
   "execution_count": 12,
   "id": "f4a21eed",
   "metadata": {},
   "outputs": [
    {
     "name": "stdout",
     "output_type": "stream",
     "text": [
      "<class 'pandas.core.frame.DataFrame'>\n",
      "RangeIndex: 19459 entries, 0 to 19458\n",
      "Data columns (total 6 columns):\n",
      " #   Column         Non-Null Count  Dtype \n",
      "---  ------         --------------  ----- \n",
      " 0   ID_NOTICIA     19459 non-null  int64 \n",
      " 1   DATA_EXTRACAO  19459 non-null  object\n",
      " 2   DESC_JORNAL    19459 non-null  object\n",
      " 3   DESC_TEMA      19459 non-null  object\n",
      " 4   URL_NOTICIA    19459 non-null  object\n",
      " 5   FLAG_EXTRAIDA  19459 non-null  bool  \n",
      "dtypes: bool(1), int64(1), object(4)\n",
      "memory usage: 779.2+ KB\n"
     ]
    }
   ],
   "source": [
    "# Verificando os metadados da base\n",
    "df_url.info()"
   ]
  },
  {
   "cell_type": "code",
   "execution_count": 13,
   "id": "52467777",
   "metadata": {},
   "outputs": [
    {
     "name": "stdout",
     "output_type": "stream",
     "text": [
      "Tipos de dados e sua frequência\n",
      "object    4\n",
      "int64     1\n",
      "bool      1\n",
      "dtype: int64\n"
     ]
    }
   ],
   "source": [
    "# Verificando os tipos de dados.\n",
    "print(\"Tipos de dados e sua frequência\\n{}\".format(df_url.dtypes.value_counts()))"
   ]
  },
  {
   "cell_type": "code",
   "execution_count": 14,
   "id": "9a66f61c",
   "metadata": {},
   "outputs": [
    {
     "data": {
      "text/html": [
       "<div>\n",
       "<style scoped>\n",
       "    .dataframe tbody tr th:only-of-type {\n",
       "        vertical-align: middle;\n",
       "    }\n",
       "\n",
       "    .dataframe tbody tr th {\n",
       "        vertical-align: top;\n",
       "    }\n",
       "\n",
       "    .dataframe thead th {\n",
       "        text-align: right;\n",
       "    }\n",
       "</style>\n",
       "<table border=\"1\" class=\"dataframe\">\n",
       "  <thead>\n",
       "    <tr style=\"text-align: right;\">\n",
       "      <th></th>\n",
       "      <th>ID_NOTICIA</th>\n",
       "      <th>DATA_EXTRACAO</th>\n",
       "      <th>DESC_JORNAL</th>\n",
       "      <th>DESC_TEMA</th>\n",
       "      <th>URL_NOTICIA</th>\n",
       "      <th>FLAG_EXTRAIDA</th>\n",
       "    </tr>\n",
       "  </thead>\n",
       "  <tbody>\n",
       "    <tr>\n",
       "      <th>0</th>\n",
       "      <td>3</td>\n",
       "      <td>2022-09-24</td>\n",
       "      <td>correiobraziliense</td>\n",
       "      <td>home</td>\n",
       "      <td>https://www.correiobraziliense.com.br/politica/2022/09/5039139-tse-identifica-rs-605-milhoes-em-doacoes-suspeitas.html</td>\n",
       "      <td>True</td>\n",
       "    </tr>\n",
       "    <tr>\n",
       "      <th>1</th>\n",
       "      <td>4</td>\n",
       "      <td>2022-09-24</td>\n",
       "      <td>correiobraziliense</td>\n",
       "      <td>home</td>\n",
       "      <td>https://www.correiobraziliense.com.br/cidades-df/2022/09/5039108-confira-a-agenda-dos-candidatos-ao-gdf-para-este-sabado.html</td>\n",
       "      <td>True</td>\n",
       "    </tr>\n",
       "    <tr>\n",
       "      <th>2</th>\n",
       "      <td>261</td>\n",
       "      <td>2022-10-05</td>\n",
       "      <td>correiobraziliense</td>\n",
       "      <td>opiniao</td>\n",
       "      <td>https://www.correiobraziliense.com.br//opiniao/2022/10/5041502-artigo-o-brasil-mudou.html</td>\n",
       "      <td>True</td>\n",
       "    </tr>\n",
       "    <tr>\n",
       "      <th>3</th>\n",
       "      <td>1639</td>\n",
       "      <td>2022-10-13</td>\n",
       "      <td>correiobraziliense</td>\n",
       "      <td>home</td>\n",
       "      <td>https://www.correiobraziliense.com.br/cbforum/testedopezinho.html</td>\n",
       "      <td>True</td>\n",
       "    </tr>\n",
       "    <tr>\n",
       "      <th>4</th>\n",
       "      <td>2156</td>\n",
       "      <td>2022-10-17</td>\n",
       "      <td>correiobraziliense</td>\n",
       "      <td>tecnologia</td>\n",
       "      <td>https://www.correiobraziliense.com.br/tecnologia/2022/10/5044373-ia-vence-os-obstaculos.html</td>\n",
       "      <td>True</td>\n",
       "    </tr>\n",
       "  </tbody>\n",
       "</table>\n",
       "</div>"
      ],
      "text/plain": [
       "   ID_NOTICIA DATA_EXTRACAO         DESC_JORNAL   DESC_TEMA  \\\n",
       "0           3    2022-09-24  correiobraziliense        home   \n",
       "1           4    2022-09-24  correiobraziliense        home   \n",
       "2         261    2022-10-05  correiobraziliense     opiniao   \n",
       "3        1639    2022-10-13  correiobraziliense        home   \n",
       "4        2156    2022-10-17  correiobraziliense  tecnologia   \n",
       "\n",
       "                                                                                                                     URL_NOTICIA  \\\n",
       "0         https://www.correiobraziliense.com.br/politica/2022/09/5039139-tse-identifica-rs-605-milhoes-em-doacoes-suspeitas.html   \n",
       "1  https://www.correiobraziliense.com.br/cidades-df/2022/09/5039108-confira-a-agenda-dos-candidatos-ao-gdf-para-este-sabado.html   \n",
       "2                                      https://www.correiobraziliense.com.br//opiniao/2022/10/5041502-artigo-o-brasil-mudou.html   \n",
       "3                                                              https://www.correiobraziliense.com.br/cbforum/testedopezinho.html   \n",
       "4                                   https://www.correiobraziliense.com.br/tecnologia/2022/10/5044373-ia-vence-os-obstaculos.html   \n",
       "\n",
       "   FLAG_EXTRAIDA  \n",
       "0           True  \n",
       "1           True  \n",
       "2           True  \n",
       "3           True  \n",
       "4           True  "
      ]
     },
     "execution_count": 14,
     "metadata": {},
     "output_type": "execute_result"
    }
   ],
   "source": [
    "# Observando a abse de dados\n",
    "df_url.head()"
   ]
  },
  {
   "cell_type": "code",
   "execution_count": 15,
   "id": "c3187643",
   "metadata": {},
   "outputs": [
    {
     "data": {
      "text/plain": [
       "ID_NOTICIA       0\n",
       "DATA_EXTRACAO    0\n",
       "DESC_JORNAL      0\n",
       "DESC_TEMA        0\n",
       "URL_NOTICIA      0\n",
       "FLAG_EXTRAIDA    0\n",
       "dtype: int64"
      ]
     },
     "execution_count": 15,
     "metadata": {},
     "output_type": "execute_result"
    }
   ],
   "source": [
    "# Verificação da existência de dados ausentes/faltantes\n",
    "df_url.isnull().sum()"
   ]
  },
  {
   "cell_type": "code",
   "execution_count": 16,
   "id": "311c1072",
   "metadata": {},
   "outputs": [
    {
     "data": {
      "text/plain": [
       "0"
      ]
     },
     "execution_count": 16,
     "metadata": {},
     "output_type": "execute_result"
    }
   ],
   "source": [
    "# Verificando dados nulos por registro e retornando a maior quantidade.\n",
    "df_url.isna().sum(axis=1).max()"
   ]
  },
  {
   "cell_type": "markdown",
   "id": "7a8d5b15",
   "metadata": {},
   "source": [
    "<h3 style=\"text-align:left\">TB_TEXTO_NOTICIAS</h3>"
   ]
  },
  {
   "cell_type": "code",
   "execution_count": 17,
   "id": "5764a9a0",
   "metadata": {},
   "outputs": [
    {
     "name": "stdout",
     "output_type": "stream",
     "text": [
      "(19351, 6)\n"
     ]
    }
   ],
   "source": [
    "# Consultando dados anteriores no BD.\n",
    "engine = create_engine(f'postgresql://{user}:{password}@{host}/{dbname}')\n",
    "conn = engine.connect()\n",
    "\n",
    "df_txt = pd.read_sql(text('''select * from tb_texto_noticias;'''), conn)\n",
    "print(df_txt.shape)\n",
    "\n",
    "conn.close()"
   ]
  },
  {
   "cell_type": "code",
   "execution_count": 18,
   "id": "5ba5ef10",
   "metadata": {},
   "outputs": [
    {
     "name": "stdout",
     "output_type": "stream",
     "text": [
      "<class 'pandas.core.frame.DataFrame'>\n",
      "RangeIndex: 19351 entries, 0 to 19350\n",
      "Data columns (total 6 columns):\n",
      " #   Column           Non-Null Count  Dtype \n",
      "---  ------           --------------  ----- \n",
      " 0   ID_NOTICIA       19351 non-null  int64 \n",
      " 1   URL              19351 non-null  object\n",
      " 2   DATA_PUBLICACAO  19052 non-null  object\n",
      " 3   AUTOR            19351 non-null  object\n",
      " 4   TITULO           19351 non-null  object\n",
      " 5   TEXTO            19351 non-null  object\n",
      "dtypes: int64(1), object(5)\n",
      "memory usage: 907.2+ KB\n"
     ]
    }
   ],
   "source": [
    "# Verificando os metadados da base\n",
    "df_txt.info()"
   ]
  },
  {
   "cell_type": "code",
   "execution_count": 19,
   "id": "5190d208",
   "metadata": {},
   "outputs": [
    {
     "name": "stdout",
     "output_type": "stream",
     "text": [
      "Tipos de dados e sua frequência\n",
      "object    5\n",
      "int64     1\n",
      "dtype: int64\n"
     ]
    }
   ],
   "source": [
    "# Verificando os tipos de dados.\n",
    "print(\"Tipos de dados e sua frequência\\n{}\".format(df_txt.dtypes.value_counts()))"
   ]
  },
  {
   "cell_type": "code",
   "execution_count": 20,
   "id": "4a4f8ec5",
   "metadata": {},
   "outputs": [
    {
     "data": {
      "text/html": [
       "<div>\n",
       "<style scoped>\n",
       "    .dataframe tbody tr th:only-of-type {\n",
       "        vertical-align: middle;\n",
       "    }\n",
       "\n",
       "    .dataframe tbody tr th {\n",
       "        vertical-align: top;\n",
       "    }\n",
       "\n",
       "    .dataframe thead th {\n",
       "        text-align: right;\n",
       "    }\n",
       "</style>\n",
       "<table border=\"1\" class=\"dataframe\">\n",
       "  <thead>\n",
       "    <tr style=\"text-align: right;\">\n",
       "      <th></th>\n",
       "      <th>ID_NOTICIA</th>\n",
       "      <th>URL</th>\n",
       "      <th>DATA_PUBLICACAO</th>\n",
       "      <th>AUTOR</th>\n",
       "      <th>TITULO</th>\n",
       "      <th>TEXTO</th>\n",
       "    </tr>\n",
       "  </thead>\n",
       "  <tbody>\n",
       "    <tr>\n",
       "      <th>0</th>\n",
       "      <td>1</td>\n",
       "      <td>https://www.correiobraziliense.com.br/politica/2022/09/5039152-bolsonaro-e-lula-jogam-as-cartas-para-reta-final-da-campanha-eleitoral.html</td>\n",
       "      <td>2022-09-24-0303:55:00-10800</td>\n",
       "      <td>{\"'Ingrid Soares, Victor Correia'\"}</td>\n",
       "      <td>Bolsonaro e Lula jogam as cartas para reta final da campanha eleitoral</td>\n",
       "      <td>A oito dias das eleições, os dois principais candidatos à Presidência, Jair Bolsonaro (PL) e Luiz Inácio Lula da Silva (PT), jogam os últimos lances para a semana final antes do primeiro turno de votação, em 2 de outubro. Mas, se na campanha petista a recomendação é de calçar as \"sandálias da humildade\" e evitar a euforia da cada vez maior possibilidade de vitória no primeiro turno, na do presidente acendeu a luz de emergência.\\n\\nO comitê de campanha tenta uma correção de rumo por causa das seguidas diminuições no percentual de votos apontado pelas pesquisa de opinião. A mais recente, do Datafolha, divulgada na última quinta-feira, mostrou que Bolsonaro está parado com 33% — Lula foi a 47%.\\n\\nFontes da campanha do presidente concluíram que, ao ser impedida a utilização, pelo Tribunal Superior Eleitoral (TSE), das imagens do 7 de Setembro e do discurso na Assembleia Geral das Nações Unidas, frustraram-se os ganhos políticos que eram esperados. Assim, o investimento, agora, passa a ser nas viagens aos maiores colégios eleitorais, como São Paulo, Minas Gerais e Rio de Janeiro, e ao Nordeste, na tentativa de aumentar o desgaste da imagem de Lula.\\n\\nBolsonaro também continuará batendo firme na corrupção durante os governos do PT e enfatizará que o ex-presidente esteve preso por causa disso. O primeiro passo dessa estratégia será dado, hoje, no debate entre os postulantes ao Palácio do Planalto, no SBT, do qual o presidente participará, mas o petista, não.\\n\\nAinda assim, atacar Lula e o PT com todas as forças pode não dar tração suficiente a Bolsonaro. Integrantes da campanha lamentam que ele não tem conseguido atrair novos eleitores por pregar apenas para sua base fiel. Além disso, já detectaram que voltar a atacar as urnas eletrônicas e ressuscitar a necessidade do voto impresso — como defendem alguns dos seus principais auxiliares — nada agrega ao presidente numericamente. Ao contrário: membros menos radicais do QG bolsonarista acreditam que isso só afasta os indecisos, além de não tirar um único voto dos adversários.\\n\\nPara reforçar o apoio a aliados locais — e fazer com que alguns dos mais bem colocados consigam lhe devolver em votos esse atrelamento —, Bolsonaro tem feito, diariamente, lives pelas redes sociais. Mas até mesmo esta estratégia apresenta problemas, pois integrantes do governo avaliam que colar à imagem do presidente pode trazer prejuízos nesta reta final.\\n\\nPara piorar, emergem sinais de dentro do bunker bolsonarista de que a derrota está muito próxima. Como o que passou o coordenador da campanha e ministro da Casa Civil, Ciro Nogueira, que na última quinta-feira anunciou que entraria em férias para colaborar na eleição da ex-mulher, Iracema Portela, a vice-governadora do Piauí. A iniciativa repercutiu pessimamente entre os apoiadores do presidente e dentro do governo, e ele voltou atrás horas depois.\\n\\nJá a campanha de Lula amarra as pontas soltas para a semana decisiva. Mirando nos votos úteis, nos indecisos e tentando reduzir a abstenção, na segunda-feira ocorre o \"último grande ato\" do petista em São Paulo, com direito a tapete vermelho para artistas. O comício terá participações presenciais e à distância, com nomes como Anitta, Caetano Veloso — que anunciou voto no petista, abandonando o presidenciável Ciro Gomes (PDT) —, Ludmilla e Chico Buarque.\\n\\nO objetivo do evento é dar uma demonstração de força e de apoio entre diferentes segmentos — a chamada \"frente ampla\" que Lula vem tentando costurar desde a pré-campanha. Na última segunda, ele conseguiu reunir em uma mesma mesa ex-presidenciáveis de espectros antagônicos, como Luciana Genro (PSol), Marina Silva (Rede) e o economista Henrique Meirelles (União). O petista ainda somou ao seu leque de apoios a nota do ex-presidente Fernando Henrique Cardoso recomendando o voto em candidatos comprometidos com a defesa do Estado Democrático de Direito, com as igualdades e com a defesa do meio ambiente — tudo que Bolsonaro tem se mostrado contrário.\\n\\nEntre os estrategistas da chapa, o maior alvo no momento é a vitória no primeiro turno. As pesquisas divulgadas nesta semana, como a Datafolha de quinta, mostraram um crescimento do petista e uma chance concreta para liquidar a disputa. Segundo o instituto, o ex-presidente subiu de 45% para 47% das intenções de voto, atingindo ainda 50% dos votos válidos. \"Devemos estimular a campanha do Voto por Democracia, Voto Pelo Brasil, para a vitória no primeiro turno!\", disse ao Correio o ex-governador do Piauí e coordenador da campanha de Lula, Wellington Dias, sobre a reta final.\\n\\nEm paralelo ao \"showmício\" da segunda-feira, o PT mobilizou sua militância, em reunião na última quinta-feira, para realizar \"mobilização máxima nas ruas\" hoje e amanhã. A orientação da sigla é a realização de \"caminhadas, carreatas, bandeiraços e adesivações\", com o objetivo de dar visibilidade a Lula e estimular o \"comparecimento do eleitorado\" nas eleições. Isso porque, de acordo com uma fonte próxima ao setor jurí...</td>\n",
       "    </tr>\n",
       "    <tr>\n",
       "      <th>1</th>\n",
       "      <td>2</td>\n",
       "      <td>https://www.correiobraziliense.com.br/politica/2022/09/5039144-disputa-pelo-voto-entre-lula-e-bolsonaro-divide-igrejas-pentecostais.html</td>\n",
       "      <td>2022-09-24-0303:55:00-10800</td>\n",
       "      <td>{\"'Correio Braziliense'\"}</td>\n",
       "      <td>Disputa pelo voto entre Lula e Bolsonaro divide igrejas pentecostais</td>\n",
       "      <td>A disputa pelo voto cristão por Jair Bolsonaro (PL), candidato à reeleição, e por Luiz Inácio Lula da Silva (PT) está rachando as igrejas evangélicas. Enquanto as cúpulas das denominações abraçaram o bolsonarismo e tentam influenciar o voto dos fiéis, evangélicos jovens e de baixa renda rompem com grandes congregações e declaram apoio ao petista. Jovens, mulheres e eleitores de periferia, onde Lula se sai melhor, lideram o movimento. Há, ainda, casos de fiéis que, cansados do debate político, se afastaram dos cultos.\\n\\nNa avaliação do diretor do Observatório Evangélico, Vinicius do Valle, as igrejas evangélicas passam por um \"efeito bumerangue\" nesta campanha. Ele confirmou que o apoio a Bolsonaro por pastores e a politização dos cultos têm afastado o público. \"Muitos deixaram de ir aos cultos, e tivemos uma reação dos fiéis demonstrando desconforto com a discussão eleitoral nos templos. O evangélico quer ver seus valores na política, mas não concorda com a campanha eleitoral nas igrejas\", observou.\\n\\nAo mesmo tempo que a diferença nas pesquisas eleitorais entre os dois candidatos mais bem colocados na disputa presidencial cai no segmento, coordenadores das campanhas intensificam as agendas com líderes e eleitores evangélicos. Nas últimas semanas, Lula se encontrou com religiosos, na Região Metropolitana do Rio. Bolsonaro participou de culto do pastor Silas Malafaia, um de seus apoiadores, na capital fluminense.\\n\\nDo lado dos fiéis, há reclamações sobre o uso político da religião. Eles reclamam do desvio da finalidade das igrejas e de tentativas de imposição de voto por pastores que apoiam Bolsonaro.\\n\\nUma das insatisfeitas é a ativista Débora Amorim, de 34 anos. Desconfortável com a politização da igreja que frequentava, a Metodista, rompeu com a congregação. Ela foi criada em templos evangélicos e, agora, integra o coletivo Novas Narrativas Evangélicas.\\n\\nO grupo tem fiéis de diferentes denominações protestantes. Foi criado para defender a liberdade do voto. Uma das suas estratégias é a produção e divulgação de conteúdo nas redes sociais. Nas últimas semanas, lançou as palavras de ordem #LivrePraVotar e \"Deus não tem candidato\".\\n\\nPara Débora, como a maioria dos evangélicos é formada por mulheres pretas e de periferia, é esse o público simpático à candidatura de Lula. Segundo ela, a tentativa de imposição de valores morais por parte dos pastores midiáticos e de consolidação de uma única narrativa como \"o caminho para a salvação\" tem afastado parte dos fiéis.\\n\\nUm dos idealizadores do movimento, o advogado Daniel Wanderley destacou que existem inúmeros \"crentes\" dispostos a construir e expressar \"novas narrativas evangélicas\". \"São pessoas que estavam sofrendo represálias e diversos desafios dentro de suas comunidades à medida que o bolsonarismo foi se apropriando e instrumentalizando a fé evangélica. O movimento evangélico é muito mais plural\", explica.\\n\\nDani Marinho, 24, evangélica da Igreja Batista do Caminho, foi criada \"dentro da Universal\" — liderada por Edir Macedo, apoiador de Bolsonaro. \"Sempre houve a influência da política na igreja, mas hoje está mais escancarada. Há uma tentativa de imposição de um candidato\", afirma.\\n\\nOs evangélicos representam 31% da população (cerca de 65 milhões de pessoas), segundo pesquisa Datafolha de 2020. De acordo com o Censo Brasileiro, do Instituto Brasileiro de Geografia e Estatísticas (IBGE), 60% (25,3 milhões) dos evangélicos eram pentecostais. Pesquisas mostram que a diferença entre o Lula e Bolsonaro tem recuado, embora permaneça grande. A mais recente rodada do Ipec, de 19 de setembro, mostrou o presidente em estabilidade, com 48% das intenções de voto entre evangélicos. Lula cresceu seis pontos (32%).</td>\n",
       "    </tr>\n",
       "  </tbody>\n",
       "</table>\n",
       "</div>"
      ],
      "text/plain": [
       "   ID_NOTICIA  \\\n",
       "0           1   \n",
       "1           2   \n",
       "\n",
       "                                                                                                                                          URL  \\\n",
       "0  https://www.correiobraziliense.com.br/politica/2022/09/5039152-bolsonaro-e-lula-jogam-as-cartas-para-reta-final-da-campanha-eleitoral.html   \n",
       "1    https://www.correiobraziliense.com.br/politica/2022/09/5039144-disputa-pelo-voto-entre-lula-e-bolsonaro-divide-igrejas-pentecostais.html   \n",
       "\n",
       "               DATA_PUBLICACAO                                AUTOR  \\\n",
       "0  2022-09-24-0303:55:00-10800  {\"'Ingrid Soares, Victor Correia'\"}   \n",
       "1  2022-09-24-0303:55:00-10800            {\"'Correio Braziliense'\"}   \n",
       "\n",
       "                                                                   TITULO  \\\n",
       "0  Bolsonaro e Lula jogam as cartas para reta final da campanha eleitoral   \n",
       "1    Disputa pelo voto entre Lula e Bolsonaro divide igrejas pentecostais   \n",
       "\n",
       "                                                                                                                                                                                                                                                                                                                                                                                                                                                                                                                                                                                                                                                                                                                                                                                                                                                                                                                                                                                                                                                                                                                                                                                                                                                                                                                                                                                                                                                                                                                                                                                                                                                                                                                                                                                                                                                                                                                                                                                                                                                                                                                                                                                                                                                                                                                                                                                                                                                                                                                                                                                                                                                                                                                                                                                                                                                                                                                                                                                                                                                                                                                                                                                                                                                                                                                                                                                                                                                                                                                                                                                                                                                                                                                                                                                                                                                                                                                                                                                                                                                                                                                                                                                                                                                                                                                                                                                                                                                                                                                                                                                                                                                                                                                                                                                                                                                                                                                                                                                                                                                                                                                                                                                                     TEXTO  \n",
       "0  A oito dias das eleições, os dois principais candidatos à Presidência, Jair Bolsonaro (PL) e Luiz Inácio Lula da Silva (PT), jogam os últimos lances para a semana final antes do primeiro turno de votação, em 2 de outubro. Mas, se na campanha petista a recomendação é de calçar as \"sandálias da humildade\" e evitar a euforia da cada vez maior possibilidade de vitória no primeiro turno, na do presidente acendeu a luz de emergência.\\n\\nO comitê de campanha tenta uma correção de rumo por causa das seguidas diminuições no percentual de votos apontado pelas pesquisa de opinião. A mais recente, do Datafolha, divulgada na última quinta-feira, mostrou que Bolsonaro está parado com 33% — Lula foi a 47%.\\n\\nFontes da campanha do presidente concluíram que, ao ser impedida a utilização, pelo Tribunal Superior Eleitoral (TSE), das imagens do 7 de Setembro e do discurso na Assembleia Geral das Nações Unidas, frustraram-se os ganhos políticos que eram esperados. Assim, o investimento, agora, passa a ser nas viagens aos maiores colégios eleitorais, como São Paulo, Minas Gerais e Rio de Janeiro, e ao Nordeste, na tentativa de aumentar o desgaste da imagem de Lula.\\n\\nBolsonaro também continuará batendo firme na corrupção durante os governos do PT e enfatizará que o ex-presidente esteve preso por causa disso. O primeiro passo dessa estratégia será dado, hoje, no debate entre os postulantes ao Palácio do Planalto, no SBT, do qual o presidente participará, mas o petista, não.\\n\\nAinda assim, atacar Lula e o PT com todas as forças pode não dar tração suficiente a Bolsonaro. Integrantes da campanha lamentam que ele não tem conseguido atrair novos eleitores por pregar apenas para sua base fiel. Além disso, já detectaram que voltar a atacar as urnas eletrônicas e ressuscitar a necessidade do voto impresso — como defendem alguns dos seus principais auxiliares — nada agrega ao presidente numericamente. Ao contrário: membros menos radicais do QG bolsonarista acreditam que isso só afasta os indecisos, além de não tirar um único voto dos adversários.\\n\\nPara reforçar o apoio a aliados locais — e fazer com que alguns dos mais bem colocados consigam lhe devolver em votos esse atrelamento —, Bolsonaro tem feito, diariamente, lives pelas redes sociais. Mas até mesmo esta estratégia apresenta problemas, pois integrantes do governo avaliam que colar à imagem do presidente pode trazer prejuízos nesta reta final.\\n\\nPara piorar, emergem sinais de dentro do bunker bolsonarista de que a derrota está muito próxima. Como o que passou o coordenador da campanha e ministro da Casa Civil, Ciro Nogueira, que na última quinta-feira anunciou que entraria em férias para colaborar na eleição da ex-mulher, Iracema Portela, a vice-governadora do Piauí. A iniciativa repercutiu pessimamente entre os apoiadores do presidente e dentro do governo, e ele voltou atrás horas depois.\\n\\nJá a campanha de Lula amarra as pontas soltas para a semana decisiva. Mirando nos votos úteis, nos indecisos e tentando reduzir a abstenção, na segunda-feira ocorre o \"último grande ato\" do petista em São Paulo, com direito a tapete vermelho para artistas. O comício terá participações presenciais e à distância, com nomes como Anitta, Caetano Veloso — que anunciou voto no petista, abandonando o presidenciável Ciro Gomes (PDT) —, Ludmilla e Chico Buarque.\\n\\nO objetivo do evento é dar uma demonstração de força e de apoio entre diferentes segmentos — a chamada \"frente ampla\" que Lula vem tentando costurar desde a pré-campanha. Na última segunda, ele conseguiu reunir em uma mesma mesa ex-presidenciáveis de espectros antagônicos, como Luciana Genro (PSol), Marina Silva (Rede) e o economista Henrique Meirelles (União). O petista ainda somou ao seu leque de apoios a nota do ex-presidente Fernando Henrique Cardoso recomendando o voto em candidatos comprometidos com a defesa do Estado Democrático de Direito, com as igualdades e com a defesa do meio ambiente — tudo que Bolsonaro tem se mostrado contrário.\\n\\nEntre os estrategistas da chapa, o maior alvo no momento é a vitória no primeiro turno. As pesquisas divulgadas nesta semana, como a Datafolha de quinta, mostraram um crescimento do petista e uma chance concreta para liquidar a disputa. Segundo o instituto, o ex-presidente subiu de 45% para 47% das intenções de voto, atingindo ainda 50% dos votos válidos. \"Devemos estimular a campanha do Voto por Democracia, Voto Pelo Brasil, para a vitória no primeiro turno!\", disse ao Correio o ex-governador do Piauí e coordenador da campanha de Lula, Wellington Dias, sobre a reta final.\\n\\nEm paralelo ao \"showmício\" da segunda-feira, o PT mobilizou sua militância, em reunião na última quinta-feira, para realizar \"mobilização máxima nas ruas\" hoje e amanhã. A orientação da sigla é a realização de \"caminhadas, carreatas, bandeiraços e adesivações\", com o objetivo de dar visibilidade a Lula e estimular o \"comparecimento do eleitorado\" nas eleições. Isso porque, de acordo com uma fonte próxima ao setor jurí...  \n",
       "1                                                                                                                                                                                                                                                                                                                                                                                                                                                                                                                                                                                                                                                                                                                                                                                                                                                                                                                                                                                                                                                                                                                                                                                                                                                                                                                        A disputa pelo voto cristão por Jair Bolsonaro (PL), candidato à reeleição, e por Luiz Inácio Lula da Silva (PT) está rachando as igrejas evangélicas. Enquanto as cúpulas das denominações abraçaram o bolsonarismo e tentam influenciar o voto dos fiéis, evangélicos jovens e de baixa renda rompem com grandes congregações e declaram apoio ao petista. Jovens, mulheres e eleitores de periferia, onde Lula se sai melhor, lideram o movimento. Há, ainda, casos de fiéis que, cansados do debate político, se afastaram dos cultos.\\n\\nNa avaliação do diretor do Observatório Evangélico, Vinicius do Valle, as igrejas evangélicas passam por um \"efeito bumerangue\" nesta campanha. Ele confirmou que o apoio a Bolsonaro por pastores e a politização dos cultos têm afastado o público. \"Muitos deixaram de ir aos cultos, e tivemos uma reação dos fiéis demonstrando desconforto com a discussão eleitoral nos templos. O evangélico quer ver seus valores na política, mas não concorda com a campanha eleitoral nas igrejas\", observou.\\n\\nAo mesmo tempo que a diferença nas pesquisas eleitorais entre os dois candidatos mais bem colocados na disputa presidencial cai no segmento, coordenadores das campanhas intensificam as agendas com líderes e eleitores evangélicos. Nas últimas semanas, Lula se encontrou com religiosos, na Região Metropolitana do Rio. Bolsonaro participou de culto do pastor Silas Malafaia, um de seus apoiadores, na capital fluminense.\\n\\nDo lado dos fiéis, há reclamações sobre o uso político da religião. Eles reclamam do desvio da finalidade das igrejas e de tentativas de imposição de voto por pastores que apoiam Bolsonaro.\\n\\nUma das insatisfeitas é a ativista Débora Amorim, de 34 anos. Desconfortável com a politização da igreja que frequentava, a Metodista, rompeu com a congregação. Ela foi criada em templos evangélicos e, agora, integra o coletivo Novas Narrativas Evangélicas.\\n\\nO grupo tem fiéis de diferentes denominações protestantes. Foi criado para defender a liberdade do voto. Uma das suas estratégias é a produção e divulgação de conteúdo nas redes sociais. Nas últimas semanas, lançou as palavras de ordem #LivrePraVotar e \"Deus não tem candidato\".\\n\\nPara Débora, como a maioria dos evangélicos é formada por mulheres pretas e de periferia, é esse o público simpático à candidatura de Lula. Segundo ela, a tentativa de imposição de valores morais por parte dos pastores midiáticos e de consolidação de uma única narrativa como \"o caminho para a salvação\" tem afastado parte dos fiéis.\\n\\nUm dos idealizadores do movimento, o advogado Daniel Wanderley destacou que existem inúmeros \"crentes\" dispostos a construir e expressar \"novas narrativas evangélicas\". \"São pessoas que estavam sofrendo represálias e diversos desafios dentro de suas comunidades à medida que o bolsonarismo foi se apropriando e instrumentalizando a fé evangélica. O movimento evangélico é muito mais plural\", explica.\\n\\nDani Marinho, 24, evangélica da Igreja Batista do Caminho, foi criada \"dentro da Universal\" — liderada por Edir Macedo, apoiador de Bolsonaro. \"Sempre houve a influência da política na igreja, mas hoje está mais escancarada. Há uma tentativa de imposição de um candidato\", afirma.\\n\\nOs evangélicos representam 31% da população (cerca de 65 milhões de pessoas), segundo pesquisa Datafolha de 2020. De acordo com o Censo Brasileiro, do Instituto Brasileiro de Geografia e Estatísticas (IBGE), 60% (25,3 milhões) dos evangélicos eram pentecostais. Pesquisas mostram que a diferença entre o Lula e Bolsonaro tem recuado, embora permaneça grande. A mais recente rodada do Ipec, de 19 de setembro, mostrou o presidente em estabilidade, com 48% das intenções de voto entre evangélicos. Lula cresceu seis pontos (32%).  "
      ]
     },
     "execution_count": 20,
     "metadata": {},
     "output_type": "execute_result"
    }
   ],
   "source": [
    "# Observando a abse de dados\n",
    "df_txt.head(2)"
   ]
  },
  {
   "cell_type": "code",
   "execution_count": 21,
   "id": "7e0c0c80",
   "metadata": {},
   "outputs": [
    {
     "data": {
      "text/plain": [
       "ID_NOTICIA           0\n",
       "URL                  0\n",
       "DATA_PUBLICACAO    299\n",
       "AUTOR                0\n",
       "TITULO               0\n",
       "TEXTO                0\n",
       "dtype: int64"
      ]
     },
     "execution_count": 21,
     "metadata": {},
     "output_type": "execute_result"
    }
   ],
   "source": [
    "# Verificação da existência de dados ausentes/faltantes\n",
    "df_txt.isnull().sum()"
   ]
  },
  {
   "cell_type": "code",
   "execution_count": 22,
   "id": "cd73c2c5",
   "metadata": {
    "scrolled": true
   },
   "outputs": [
    {
     "data": {
      "text/plain": [
       "0    19052\n",
       "1      299\n",
       "dtype: int64"
      ]
     },
     "execution_count": 22,
     "metadata": {},
     "output_type": "execute_result"
    }
   ],
   "source": [
    "# Verificando dados nulos por registro e retornando a maior quantidade.\n",
    "df_txt.isna().sum(axis=1).value_counts()"
   ]
  },
  {
   "cell_type": "markdown",
   "id": "388536a2",
   "metadata": {},
   "source": [
    "<h2 style=\"text-align:left\">Preparação dos Dados</h2>\n",
    "<p align='justify'>Nesta etapa é realizada a preparação dos dados, com o objetivo de ajustar as inconsistências encontradas durante a análise exploratória dos dados, permitindo que na etapa de visualização dos dados, os mesmos estejam de forma adequada a apresentação das informações.</p>"
   ]
  },
  {
   "cell_type": "markdown",
   "id": "f5fdde7e",
   "metadata": {},
   "source": [
    "<h3 style=\"text-align:left\">TB_URL_NOTICIAS</h3>"
   ]
  },
  {
   "cell_type": "code",
   "execution_count": 23,
   "id": "58023900",
   "metadata": {},
   "outputs": [
    {
     "data": {
      "text/plain": [
       "2023-01-25    309\n",
       "2022-10-05    304\n",
       "2022-10-13    296\n",
       "2022-10-10    295\n",
       "2022-11-29    197\n",
       "             ... \n",
       "2022-10-23     74\n",
       "2023-03-26     71\n",
       "2022-10-16     66\n",
       "2022-10-29     64\n",
       "2022-09-24     45\n",
       "Name: DATA_EXTRACAO, Length: 148, dtype: int64"
      ]
     },
     "execution_count": 23,
     "metadata": {},
     "output_type": "execute_result"
    }
   ],
   "source": [
    "df_url[\"DATA_EXTRACAO\"].value_counts()"
   ]
  },
  {
   "cell_type": "code",
   "execution_count": 24,
   "id": "2647b570",
   "metadata": {},
   "outputs": [
    {
     "data": {
      "text/plain": [
       "DATA_EXTRACAO\n",
       "2023-01-25    309\n",
       "2022-10-05    304\n",
       "2022-10-13    296\n",
       "2022-10-10    295\n",
       "2022-11-29    197\n",
       "             ... \n",
       "2022-10-23     74\n",
       "2023-03-26     71\n",
       "2022-10-16     66\n",
       "2022-10-29     64\n",
       "2022-09-24     45\n",
       "Name: ID_NOTICIA, Length: 148, dtype: int64"
      ]
     },
     "execution_count": 24,
     "metadata": {},
     "output_type": "execute_result"
    }
   ],
   "source": [
    "df_url.groupby(by=\"DATA_EXTRACAO\")[\"ID_NOTICIA\"].count().sort_values(ascending=False)"
   ]
  },
  {
   "cell_type": "code",
   "execution_count": 25,
   "id": "8917558e",
   "metadata": {},
   "outputs": [
    {
     "data": {
      "text/plain": [
       "home                  6231\n",
       "diversao-e-arte       1993\n",
       "cidades-df            1822\n",
       "brasil                1784\n",
       "mundo                 1691\n",
       "politica              1591\n",
       "esportes              1274\n",
       "economia              1064\n",
       "ciencia-e-saude        600\n",
       "concursos              407\n",
       "euestudante            368\n",
       "opiniao                284\n",
       "revista-do-correio     117\n",
       "tecnologia              99\n",
       "holofote                87\n",
       "turismo                 45\n",
       "comunidadeei             2\n",
       "Name: DESC_TEMA, dtype: int64"
      ]
     },
     "execution_count": 25,
     "metadata": {},
     "output_type": "execute_result"
    }
   ],
   "source": [
    "df_url[\"DESC_TEMA\"].value_counts()"
   ]
  },
  {
   "cell_type": "code",
   "execution_count": 26,
   "id": "4f458f8f",
   "metadata": {},
   "outputs": [
    {
     "data": {
      "text/plain": [
       "True     19351\n",
       "False      108\n",
       "Name: FLAG_EXTRAIDA, dtype: int64"
      ]
     },
     "execution_count": 26,
     "metadata": {},
     "output_type": "execute_result"
    }
   ],
   "source": [
    "df_url[\"FLAG_EXTRAIDA\"].value_counts()"
   ]
  },
  {
   "cell_type": "code",
   "execution_count": 27,
   "id": "2bffbe49",
   "metadata": {},
   "outputs": [
    {
     "data": {
      "text/plain": [
       "DATA_EXTRACAO  DESC_TEMA         \n",
       "2022-10-10     home                  96\n",
       "2023-01-25     home                  85\n",
       "2023-02-02     home                  67\n",
       "2022-12-06     home                  66\n",
       "2023-01-30     home                  66\n",
       "                                     ..\n",
       "2023-01-29     economia               1\n",
       "2023-03-25     opiniao                1\n",
       "2022-12-11     opiniao                1\n",
       "2023-03-01     concursos              1\n",
       "2023-04-08     revista-do-correio     1\n",
       "Name: ID_NOTICIA, Length: 1724, dtype: int64"
      ]
     },
     "execution_count": 27,
     "metadata": {},
     "output_type": "execute_result"
    }
   ],
   "source": [
    "df_url.groupby(by=[\"DATA_EXTRACAO\", \"DESC_TEMA\"])[\"ID_NOTICIA\"].count().sort_values(ascending=False)"
   ]
  },
  {
   "cell_type": "markdown",
   "id": "9ae7000a",
   "metadata": {},
   "source": [
    "<h3 style=\"text-align:left\">TB_TEXTO_NOTICIAS</h3>"
   ]
  },
  {
   "cell_type": "code",
   "execution_count": 28,
   "id": "a50e4950",
   "metadata": {},
   "outputs": [
    {
     "data": {
      "text/plain": [
       "Index(['ID_NOTICIA', 'URL', 'DATA_PUBLICACAO', 'AUTOR', 'TITULO', 'TEXTO'], dtype='object')"
      ]
     },
     "execution_count": 28,
     "metadata": {},
     "output_type": "execute_result"
    }
   ],
   "source": [
    "df_txt.columns"
   ]
  },
  {
   "cell_type": "code",
   "execution_count": 29,
   "id": "2aef27d7",
   "metadata": {},
   "outputs": [
    {
     "data": {
      "text/plain": [
       "2022-10-12-0306:00:00-10800    28\n",
       "2023-03-19-0306:00:00-10800    25\n",
       "2022-10-09-0306:00:00-10800    24\n",
       "2023-04-02-0306:00:00-10800    23\n",
       "2022-12-18-0306:00:00-10800    23\n",
       "                               ..\n",
       "2022-11-27-0317:55:00-10800     1\n",
       "2022-11-27-0316:39:00-10800     1\n",
       "2022-11-27-0312:05:00-10800     1\n",
       "2022-11-27-0315:31:00-10800     1\n",
       "2023-04-07-0311:17:00-10800     1\n",
       "Name: DATA_PUBLICACAO, Length: 15344, dtype: int64"
      ]
     },
     "execution_count": 29,
     "metadata": {},
     "output_type": "execute_result"
    }
   ],
   "source": [
    "df_txt[\"DATA_PUBLICACAO\"].value_counts()"
   ]
  },
  {
   "cell_type": "code",
   "execution_count": 30,
   "id": "4b2f8df9",
   "metadata": {},
   "outputs": [
    {
     "name": "stdout",
     "output_type": "stream",
     "text": [
      "2022-10-03-0314:47:00-10800\n",
      "\n",
      "2022\n",
      "10\n",
      "03\n",
      "\n",
      "14\n",
      "47\n",
      "00\n"
     ]
    }
   ],
   "source": [
    "registro = 20\n",
    "print(df_txt[\"DATA_PUBLICACAO\"][registro], end=\"\\n\\n\")\n",
    "\n",
    "print(df_txt[\"DATA_PUBLICACAO\"][registro][:4])\n",
    "print(df_txt[\"DATA_PUBLICACAO\"][registro][5:7])\n",
    "print(df_txt[\"DATA_PUBLICACAO\"][registro][8:10], end=\"\\n\\n\")\n",
    "\n",
    "print(df_txt[\"DATA_PUBLICACAO\"][registro][13:15])\n",
    "print(df_txt[\"DATA_PUBLICACAO\"][registro][16:18])\n",
    "print(df_txt[\"DATA_PUBLICACAO\"][registro][19:21])"
   ]
  },
  {
   "cell_type": "code",
   "execution_count": 60,
   "id": "87d40ee2",
   "metadata": {},
   "outputs": [
    {
     "data": {
      "text/html": [
       "<div>\n",
       "<style scoped>\n",
       "    .dataframe tbody tr th:only-of-type {\n",
       "        vertical-align: middle;\n",
       "    }\n",
       "\n",
       "    .dataframe tbody tr th {\n",
       "        vertical-align: top;\n",
       "    }\n",
       "\n",
       "    .dataframe thead th {\n",
       "        text-align: right;\n",
       "    }\n",
       "</style>\n",
       "<table border=\"1\" class=\"dataframe\">\n",
       "  <thead>\n",
       "    <tr style=\"text-align: right;\">\n",
       "      <th></th>\n",
       "      <th>ID_NOTICIA</th>\n",
       "      <th>URL</th>\n",
       "      <th>DATA_PUBLICACAO</th>\n",
       "      <th>AUTOR</th>\n",
       "      <th>TITULO</th>\n",
       "      <th>TEXTO</th>\n",
       "      <th>DATA_PUBLICACAO_AUX</th>\n",
       "      <th>HORA_PUBLICACAO_AUX</th>\n",
       "      <th>DATA_PUBLICACAO_AUX2</th>\n",
       "    </tr>\n",
       "  </thead>\n",
       "  <tbody>\n",
       "    <tr>\n",
       "      <th>0</th>\n",
       "      <td>1</td>\n",
       "      <td>https://www.correiobraziliense.com.br/politica/2022/09/5039152-bolsonaro-e-lula-jogam-as-cartas-para-reta-final-da-campanha-eleitoral.html</td>\n",
       "      <td>2022-09-24-0303:55:00-10800</td>\n",
       "      <td>{\"'Ingrid Soares, Victor Correia'\"}</td>\n",
       "      <td>Bolsonaro e Lula jogam as cartas para reta final da campanha eleitoral</td>\n",
       "      <td>A oito dias das eleições, os dois principais candidatos à Presidência, Jair Bolsonaro (PL) e Luiz Inácio Lula da Silva (PT), jogam os últimos lances para a semana final antes do primeiro turno de votação, em 2 de outubro. Mas, se na campanha petista a recomendação é de calçar as \"sandálias da humildade\" e evitar a euforia da cada vez maior possibilidade de vitória no primeiro turno, na do presidente acendeu a luz de emergência.\\n\\nO comitê de campanha tenta uma correção de rumo por causa das seguidas diminuições no percentual de votos apontado pelas pesquisa de opinião. A mais recente, do Datafolha, divulgada na última quinta-feira, mostrou que Bolsonaro está parado com 33% — Lula foi a 47%.\\n\\nFontes da campanha do presidente concluíram que, ao ser impedida a utilização, pelo Tribunal Superior Eleitoral (TSE), das imagens do 7 de Setembro e do discurso na Assembleia Geral das Nações Unidas, frustraram-se os ganhos políticos que eram esperados. Assim, o investimento, agora, passa a ser nas viagens aos maiores colégios eleitorais, como São Paulo, Minas Gerais e Rio de Janeiro, e ao Nordeste, na tentativa de aumentar o desgaste da imagem de Lula.\\n\\nBolsonaro também continuará batendo firme na corrupção durante os governos do PT e enfatizará que o ex-presidente esteve preso por causa disso. O primeiro passo dessa estratégia será dado, hoje, no debate entre os postulantes ao Palácio do Planalto, no SBT, do qual o presidente participará, mas o petista, não.\\n\\nAinda assim, atacar Lula e o PT com todas as forças pode não dar tração suficiente a Bolsonaro. Integrantes da campanha lamentam que ele não tem conseguido atrair novos eleitores por pregar apenas para sua base fiel. Além disso, já detectaram que voltar a atacar as urnas eletrônicas e ressuscitar a necessidade do voto impresso — como defendem alguns dos seus principais auxiliares — nada agrega ao presidente numericamente. Ao contrário: membros menos radicais do QG bolsonarista acreditam que isso só afasta os indecisos, além de não tirar um único voto dos adversários.\\n\\nPara reforçar o apoio a aliados locais — e fazer com que alguns dos mais bem colocados consigam lhe devolver em votos esse atrelamento —, Bolsonaro tem feito, diariamente, lives pelas redes sociais. Mas até mesmo esta estratégia apresenta problemas, pois integrantes do governo avaliam que colar à imagem do presidente pode trazer prejuízos nesta reta final.\\n\\nPara piorar, emergem sinais de dentro do bunker bolsonarista de que a derrota está muito próxima. Como o que passou o coordenador da campanha e ministro da Casa Civil, Ciro Nogueira, que na última quinta-feira anunciou que entraria em férias para colaborar na eleição da ex-mulher, Iracema Portela, a vice-governadora do Piauí. A iniciativa repercutiu pessimamente entre os apoiadores do presidente e dentro do governo, e ele voltou atrás horas depois.\\n\\nJá a campanha de Lula amarra as pontas soltas para a semana decisiva. Mirando nos votos úteis, nos indecisos e tentando reduzir a abstenção, na segunda-feira ocorre o \"último grande ato\" do petista em São Paulo, com direito a tapete vermelho para artistas. O comício terá participações presenciais e à distância, com nomes como Anitta, Caetano Veloso — que anunciou voto no petista, abandonando o presidenciável Ciro Gomes (PDT) —, Ludmilla e Chico Buarque.\\n\\nO objetivo do evento é dar uma demonstração de força e de apoio entre diferentes segmentos — a chamada \"frente ampla\" que Lula vem tentando costurar desde a pré-campanha. Na última segunda, ele conseguiu reunir em uma mesma mesa ex-presidenciáveis de espectros antagônicos, como Luciana Genro (PSol), Marina Silva (Rede) e o economista Henrique Meirelles (União). O petista ainda somou ao seu leque de apoios a nota do ex-presidente Fernando Henrique Cardoso recomendando o voto em candidatos comprometidos com a defesa do Estado Democrático de Direito, com as igualdades e com a defesa do meio ambiente — tudo que Bolsonaro tem se mostrado contrário.\\n\\nEntre os estrategistas da chapa, o maior alvo no momento é a vitória no primeiro turno. As pesquisas divulgadas nesta semana, como a Datafolha de quinta, mostraram um crescimento do petista e uma chance concreta para liquidar a disputa. Segundo o instituto, o ex-presidente subiu de 45% para 47% das intenções de voto, atingindo ainda 50% dos votos válidos. \"Devemos estimular a campanha do Voto por Democracia, Voto Pelo Brasil, para a vitória no primeiro turno!\", disse ao Correio o ex-governador do Piauí e coordenador da campanha de Lula, Wellington Dias, sobre a reta final.\\n\\nEm paralelo ao \"showmício\" da segunda-feira, o PT mobilizou sua militância, em reunião na última quinta-feira, para realizar \"mobilização máxima nas ruas\" hoje e amanhã. A orientação da sigla é a realização de \"caminhadas, carreatas, bandeiraços e adesivações\", com o objetivo de dar visibilidade a Lula e estimular o \"comparecimento do eleitorado\" nas eleições. Isso porque, de acordo com uma fonte próxima ao setor jurí...</td>\n",
       "      <td>2022-09-24</td>\n",
       "      <td>03:55:00</td>\n",
       "      <td>2022-09-24</td>\n",
       "    </tr>\n",
       "    <tr>\n",
       "      <th>1</th>\n",
       "      <td>2</td>\n",
       "      <td>https://www.correiobraziliense.com.br/politica/2022/09/5039144-disputa-pelo-voto-entre-lula-e-bolsonaro-divide-igrejas-pentecostais.html</td>\n",
       "      <td>2022-09-24-0303:55:00-10800</td>\n",
       "      <td>{\"'Correio Braziliense'\"}</td>\n",
       "      <td>Disputa pelo voto entre Lula e Bolsonaro divide igrejas pentecostais</td>\n",
       "      <td>A disputa pelo voto cristão por Jair Bolsonaro (PL), candidato à reeleição, e por Luiz Inácio Lula da Silva (PT) está rachando as igrejas evangélicas. Enquanto as cúpulas das denominações abraçaram o bolsonarismo e tentam influenciar o voto dos fiéis, evangélicos jovens e de baixa renda rompem com grandes congregações e declaram apoio ao petista. Jovens, mulheres e eleitores de periferia, onde Lula se sai melhor, lideram o movimento. Há, ainda, casos de fiéis que, cansados do debate político, se afastaram dos cultos.\\n\\nNa avaliação do diretor do Observatório Evangélico, Vinicius do Valle, as igrejas evangélicas passam por um \"efeito bumerangue\" nesta campanha. Ele confirmou que o apoio a Bolsonaro por pastores e a politização dos cultos têm afastado o público. \"Muitos deixaram de ir aos cultos, e tivemos uma reação dos fiéis demonstrando desconforto com a discussão eleitoral nos templos. O evangélico quer ver seus valores na política, mas não concorda com a campanha eleitoral nas igrejas\", observou.\\n\\nAo mesmo tempo que a diferença nas pesquisas eleitorais entre os dois candidatos mais bem colocados na disputa presidencial cai no segmento, coordenadores das campanhas intensificam as agendas com líderes e eleitores evangélicos. Nas últimas semanas, Lula se encontrou com religiosos, na Região Metropolitana do Rio. Bolsonaro participou de culto do pastor Silas Malafaia, um de seus apoiadores, na capital fluminense.\\n\\nDo lado dos fiéis, há reclamações sobre o uso político da religião. Eles reclamam do desvio da finalidade das igrejas e de tentativas de imposição de voto por pastores que apoiam Bolsonaro.\\n\\nUma das insatisfeitas é a ativista Débora Amorim, de 34 anos. Desconfortável com a politização da igreja que frequentava, a Metodista, rompeu com a congregação. Ela foi criada em templos evangélicos e, agora, integra o coletivo Novas Narrativas Evangélicas.\\n\\nO grupo tem fiéis de diferentes denominações protestantes. Foi criado para defender a liberdade do voto. Uma das suas estratégias é a produção e divulgação de conteúdo nas redes sociais. Nas últimas semanas, lançou as palavras de ordem #LivrePraVotar e \"Deus não tem candidato\".\\n\\nPara Débora, como a maioria dos evangélicos é formada por mulheres pretas e de periferia, é esse o público simpático à candidatura de Lula. Segundo ela, a tentativa de imposição de valores morais por parte dos pastores midiáticos e de consolidação de uma única narrativa como \"o caminho para a salvação\" tem afastado parte dos fiéis.\\n\\nUm dos idealizadores do movimento, o advogado Daniel Wanderley destacou que existem inúmeros \"crentes\" dispostos a construir e expressar \"novas narrativas evangélicas\". \"São pessoas que estavam sofrendo represálias e diversos desafios dentro de suas comunidades à medida que o bolsonarismo foi se apropriando e instrumentalizando a fé evangélica. O movimento evangélico é muito mais plural\", explica.\\n\\nDani Marinho, 24, evangélica da Igreja Batista do Caminho, foi criada \"dentro da Universal\" — liderada por Edir Macedo, apoiador de Bolsonaro. \"Sempre houve a influência da política na igreja, mas hoje está mais escancarada. Há uma tentativa de imposição de um candidato\", afirma.\\n\\nOs evangélicos representam 31% da população (cerca de 65 milhões de pessoas), segundo pesquisa Datafolha de 2020. De acordo com o Censo Brasileiro, do Instituto Brasileiro de Geografia e Estatísticas (IBGE), 60% (25,3 milhões) dos evangélicos eram pentecostais. Pesquisas mostram que a diferença entre o Lula e Bolsonaro tem recuado, embora permaneça grande. A mais recente rodada do Ipec, de 19 de setembro, mostrou o presidente em estabilidade, com 48% das intenções de voto entre evangélicos. Lula cresceu seis pontos (32%).</td>\n",
       "      <td>2022-09-24</td>\n",
       "      <td>03:55:00</td>\n",
       "      <td>2022-09-24</td>\n",
       "    </tr>\n",
       "  </tbody>\n",
       "</table>\n",
       "</div>"
      ],
      "text/plain": [
       "   ID_NOTICIA  \\\n",
       "0           1   \n",
       "1           2   \n",
       "\n",
       "                                                                                                                                          URL  \\\n",
       "0  https://www.correiobraziliense.com.br/politica/2022/09/5039152-bolsonaro-e-lula-jogam-as-cartas-para-reta-final-da-campanha-eleitoral.html   \n",
       "1    https://www.correiobraziliense.com.br/politica/2022/09/5039144-disputa-pelo-voto-entre-lula-e-bolsonaro-divide-igrejas-pentecostais.html   \n",
       "\n",
       "               DATA_PUBLICACAO                                AUTOR  \\\n",
       "0  2022-09-24-0303:55:00-10800  {\"'Ingrid Soares, Victor Correia'\"}   \n",
       "1  2022-09-24-0303:55:00-10800            {\"'Correio Braziliense'\"}   \n",
       "\n",
       "                                                                   TITULO  \\\n",
       "0  Bolsonaro e Lula jogam as cartas para reta final da campanha eleitoral   \n",
       "1    Disputa pelo voto entre Lula e Bolsonaro divide igrejas pentecostais   \n",
       "\n",
       "                                                                                                                                                                                                                                                                                                                                                                                                                                                                                                                                                                                                                                                                                                                                                                                                                                                                                                                                                                                                                                                                                                                                                                                                                                                                                                                                                                                                                                                                                                                                                                                                                                                                                                                                                                                                                                                                                                                                                                                                                                                                                                                                                                                                                                                                                                                                                                                                                                                                                                                                                                                                                                                                                                                                                                                                                                                                                                                                                                                                                                                                                                                                                                                                                                                                                                                                                                                                                                                                                                                                                                                                                                                                                                                                                                                                                                                                                                                                                                                                                                                                                                                                                                                                                                                                                                                                                                                                                                                                                                                                                                                                                                                                                                                                                                                                                                                                                                                                                                                                                                                                                                                                                                                                     TEXTO  \\\n",
       "0  A oito dias das eleições, os dois principais candidatos à Presidência, Jair Bolsonaro (PL) e Luiz Inácio Lula da Silva (PT), jogam os últimos lances para a semana final antes do primeiro turno de votação, em 2 de outubro. Mas, se na campanha petista a recomendação é de calçar as \"sandálias da humildade\" e evitar a euforia da cada vez maior possibilidade de vitória no primeiro turno, na do presidente acendeu a luz de emergência.\\n\\nO comitê de campanha tenta uma correção de rumo por causa das seguidas diminuições no percentual de votos apontado pelas pesquisa de opinião. A mais recente, do Datafolha, divulgada na última quinta-feira, mostrou que Bolsonaro está parado com 33% — Lula foi a 47%.\\n\\nFontes da campanha do presidente concluíram que, ao ser impedida a utilização, pelo Tribunal Superior Eleitoral (TSE), das imagens do 7 de Setembro e do discurso na Assembleia Geral das Nações Unidas, frustraram-se os ganhos políticos que eram esperados. Assim, o investimento, agora, passa a ser nas viagens aos maiores colégios eleitorais, como São Paulo, Minas Gerais e Rio de Janeiro, e ao Nordeste, na tentativa de aumentar o desgaste da imagem de Lula.\\n\\nBolsonaro também continuará batendo firme na corrupção durante os governos do PT e enfatizará que o ex-presidente esteve preso por causa disso. O primeiro passo dessa estratégia será dado, hoje, no debate entre os postulantes ao Palácio do Planalto, no SBT, do qual o presidente participará, mas o petista, não.\\n\\nAinda assim, atacar Lula e o PT com todas as forças pode não dar tração suficiente a Bolsonaro. Integrantes da campanha lamentam que ele não tem conseguido atrair novos eleitores por pregar apenas para sua base fiel. Além disso, já detectaram que voltar a atacar as urnas eletrônicas e ressuscitar a necessidade do voto impresso — como defendem alguns dos seus principais auxiliares — nada agrega ao presidente numericamente. Ao contrário: membros menos radicais do QG bolsonarista acreditam que isso só afasta os indecisos, além de não tirar um único voto dos adversários.\\n\\nPara reforçar o apoio a aliados locais — e fazer com que alguns dos mais bem colocados consigam lhe devolver em votos esse atrelamento —, Bolsonaro tem feito, diariamente, lives pelas redes sociais. Mas até mesmo esta estratégia apresenta problemas, pois integrantes do governo avaliam que colar à imagem do presidente pode trazer prejuízos nesta reta final.\\n\\nPara piorar, emergem sinais de dentro do bunker bolsonarista de que a derrota está muito próxima. Como o que passou o coordenador da campanha e ministro da Casa Civil, Ciro Nogueira, que na última quinta-feira anunciou que entraria em férias para colaborar na eleição da ex-mulher, Iracema Portela, a vice-governadora do Piauí. A iniciativa repercutiu pessimamente entre os apoiadores do presidente e dentro do governo, e ele voltou atrás horas depois.\\n\\nJá a campanha de Lula amarra as pontas soltas para a semana decisiva. Mirando nos votos úteis, nos indecisos e tentando reduzir a abstenção, na segunda-feira ocorre o \"último grande ato\" do petista em São Paulo, com direito a tapete vermelho para artistas. O comício terá participações presenciais e à distância, com nomes como Anitta, Caetano Veloso — que anunciou voto no petista, abandonando o presidenciável Ciro Gomes (PDT) —, Ludmilla e Chico Buarque.\\n\\nO objetivo do evento é dar uma demonstração de força e de apoio entre diferentes segmentos — a chamada \"frente ampla\" que Lula vem tentando costurar desde a pré-campanha. Na última segunda, ele conseguiu reunir em uma mesma mesa ex-presidenciáveis de espectros antagônicos, como Luciana Genro (PSol), Marina Silva (Rede) e o economista Henrique Meirelles (União). O petista ainda somou ao seu leque de apoios a nota do ex-presidente Fernando Henrique Cardoso recomendando o voto em candidatos comprometidos com a defesa do Estado Democrático de Direito, com as igualdades e com a defesa do meio ambiente — tudo que Bolsonaro tem se mostrado contrário.\\n\\nEntre os estrategistas da chapa, o maior alvo no momento é a vitória no primeiro turno. As pesquisas divulgadas nesta semana, como a Datafolha de quinta, mostraram um crescimento do petista e uma chance concreta para liquidar a disputa. Segundo o instituto, o ex-presidente subiu de 45% para 47% das intenções de voto, atingindo ainda 50% dos votos válidos. \"Devemos estimular a campanha do Voto por Democracia, Voto Pelo Brasil, para a vitória no primeiro turno!\", disse ao Correio o ex-governador do Piauí e coordenador da campanha de Lula, Wellington Dias, sobre a reta final.\\n\\nEm paralelo ao \"showmício\" da segunda-feira, o PT mobilizou sua militância, em reunião na última quinta-feira, para realizar \"mobilização máxima nas ruas\" hoje e amanhã. A orientação da sigla é a realização de \"caminhadas, carreatas, bandeiraços e adesivações\", com o objetivo de dar visibilidade a Lula e estimular o \"comparecimento do eleitorado\" nas eleições. Isso porque, de acordo com uma fonte próxima ao setor jurí...   \n",
       "1                                                                                                                                                                                                                                                                                                                                                                                                                                                                                                                                                                                                                                                                                                                                                                                                                                                                                                                                                                                                                                                                                                                                                                                                                                                                                                                        A disputa pelo voto cristão por Jair Bolsonaro (PL), candidato à reeleição, e por Luiz Inácio Lula da Silva (PT) está rachando as igrejas evangélicas. Enquanto as cúpulas das denominações abraçaram o bolsonarismo e tentam influenciar o voto dos fiéis, evangélicos jovens e de baixa renda rompem com grandes congregações e declaram apoio ao petista. Jovens, mulheres e eleitores de periferia, onde Lula se sai melhor, lideram o movimento. Há, ainda, casos de fiéis que, cansados do debate político, se afastaram dos cultos.\\n\\nNa avaliação do diretor do Observatório Evangélico, Vinicius do Valle, as igrejas evangélicas passam por um \"efeito bumerangue\" nesta campanha. Ele confirmou que o apoio a Bolsonaro por pastores e a politização dos cultos têm afastado o público. \"Muitos deixaram de ir aos cultos, e tivemos uma reação dos fiéis demonstrando desconforto com a discussão eleitoral nos templos. O evangélico quer ver seus valores na política, mas não concorda com a campanha eleitoral nas igrejas\", observou.\\n\\nAo mesmo tempo que a diferença nas pesquisas eleitorais entre os dois candidatos mais bem colocados na disputa presidencial cai no segmento, coordenadores das campanhas intensificam as agendas com líderes e eleitores evangélicos. Nas últimas semanas, Lula se encontrou com religiosos, na Região Metropolitana do Rio. Bolsonaro participou de culto do pastor Silas Malafaia, um de seus apoiadores, na capital fluminense.\\n\\nDo lado dos fiéis, há reclamações sobre o uso político da religião. Eles reclamam do desvio da finalidade das igrejas e de tentativas de imposição de voto por pastores que apoiam Bolsonaro.\\n\\nUma das insatisfeitas é a ativista Débora Amorim, de 34 anos. Desconfortável com a politização da igreja que frequentava, a Metodista, rompeu com a congregação. Ela foi criada em templos evangélicos e, agora, integra o coletivo Novas Narrativas Evangélicas.\\n\\nO grupo tem fiéis de diferentes denominações protestantes. Foi criado para defender a liberdade do voto. Uma das suas estratégias é a produção e divulgação de conteúdo nas redes sociais. Nas últimas semanas, lançou as palavras de ordem #LivrePraVotar e \"Deus não tem candidato\".\\n\\nPara Débora, como a maioria dos evangélicos é formada por mulheres pretas e de periferia, é esse o público simpático à candidatura de Lula. Segundo ela, a tentativa de imposição de valores morais por parte dos pastores midiáticos e de consolidação de uma única narrativa como \"o caminho para a salvação\" tem afastado parte dos fiéis.\\n\\nUm dos idealizadores do movimento, o advogado Daniel Wanderley destacou que existem inúmeros \"crentes\" dispostos a construir e expressar \"novas narrativas evangélicas\". \"São pessoas que estavam sofrendo represálias e diversos desafios dentro de suas comunidades à medida que o bolsonarismo foi se apropriando e instrumentalizando a fé evangélica. O movimento evangélico é muito mais plural\", explica.\\n\\nDani Marinho, 24, evangélica da Igreja Batista do Caminho, foi criada \"dentro da Universal\" — liderada por Edir Macedo, apoiador de Bolsonaro. \"Sempre houve a influência da política na igreja, mas hoje está mais escancarada. Há uma tentativa de imposição de um candidato\", afirma.\\n\\nOs evangélicos representam 31% da população (cerca de 65 milhões de pessoas), segundo pesquisa Datafolha de 2020. De acordo com o Censo Brasileiro, do Instituto Brasileiro de Geografia e Estatísticas (IBGE), 60% (25,3 milhões) dos evangélicos eram pentecostais. Pesquisas mostram que a diferença entre o Lula e Bolsonaro tem recuado, embora permaneça grande. A mais recente rodada do Ipec, de 19 de setembro, mostrou o presidente em estabilidade, com 48% das intenções de voto entre evangélicos. Lula cresceu seis pontos (32%).   \n",
       "\n",
       "  DATA_PUBLICACAO_AUX HORA_PUBLICACAO_AUX DATA_PUBLICACAO_AUX2  \n",
       "0          2022-09-24            03:55:00           2022-09-24  \n",
       "1          2022-09-24            03:55:00           2022-09-24  "
      ]
     },
     "execution_count": 60,
     "metadata": {},
     "output_type": "execute_result"
    }
   ],
   "source": [
    "df_txt[\"DATA_PUBLICACAO_AUX\"] = df_txt[\"DATA_PUBLICACAO\"].apply(lambda x: None if pd.isnull(x) else f\"{str(x)[:4]}-{str(x)[5:7]}-{str(x)[8:10]}\")\n",
    "df_txt[\"HORA_PUBLICACAO_AUX\"] = df_txt[\"DATA_PUBLICACAO\"].apply(lambda x: None if pd.isnull(x) else f\"{str(x)[13:15]}:{str(x)[16:18]}:{str(x)[19:21]}\")\n",
    "df_txt[\"DATA_PUBLICACAO_AUX\"] = pd.to_datetime(df_txt['DATA_PUBLICACAO_AUX'], infer_datetime_format=True, errors='ignore')\n",
    "df_txt.head(2)"
   ]
  },
  {
   "cell_type": "code",
   "execution_count": 57,
   "id": "bc0262b0",
   "metadata": {},
   "outputs": [
    {
     "data": {
      "text/html": [
       "<div>\n",
       "<style scoped>\n",
       "    .dataframe tbody tr th:only-of-type {\n",
       "        vertical-align: middle;\n",
       "    }\n",
       "\n",
       "    .dataframe tbody tr th {\n",
       "        vertical-align: top;\n",
       "    }\n",
       "\n",
       "    .dataframe thead th {\n",
       "        text-align: right;\n",
       "    }\n",
       "</style>\n",
       "<table border=\"1\" class=\"dataframe\">\n",
       "  <thead>\n",
       "    <tr style=\"text-align: right;\">\n",
       "      <th></th>\n",
       "      <th>ID_NOTICIA</th>\n",
       "      <th>URL</th>\n",
       "      <th>DATA_PUBLICACAO</th>\n",
       "      <th>AUTOR</th>\n",
       "      <th>TITULO</th>\n",
       "      <th>TEXTO</th>\n",
       "      <th>DATA_PUBLICACAO_AUX</th>\n",
       "      <th>HORA_PUBLICACAO_AUX</th>\n",
       "      <th>DATA_PUBLICACAO_AUX2</th>\n",
       "    </tr>\n",
       "  </thead>\n",
       "  <tbody>\n",
       "    <tr>\n",
       "      <th>0</th>\n",
       "      <td>1</td>\n",
       "      <td>https://www.correiobraziliense.com.br/politica/2022/09/5039152-bolsonaro-e-lula-jogam-as-cartas-para-reta-final-da-campanha-eleitoral.html</td>\n",
       "      <td>2022-09-24-0303:55:00-10800</td>\n",
       "      <td>{\"'Ingrid Soares, Victor Correia'\"}</td>\n",
       "      <td>Bolsonaro e Lula jogam as cartas para reta final da campanha eleitoral</td>\n",
       "      <td>A oito dias das eleições, os dois principais candidatos à Presidência, Jair Bolsonaro (PL) e Luiz Inácio Lula da Silva (PT), jogam os últimos lances para a semana final antes do primeiro turno de votação, em 2 de outubro. Mas, se na campanha petista a recomendação é de calçar as \"sandálias da humildade\" e evitar a euforia da cada vez maior possibilidade de vitória no primeiro turno, na do presidente acendeu a luz de emergência.\\n\\nO comitê de campanha tenta uma correção de rumo por causa das seguidas diminuições no percentual de votos apontado pelas pesquisa de opinião. A mais recente, do Datafolha, divulgada na última quinta-feira, mostrou que Bolsonaro está parado com 33% — Lula foi a 47%.\\n\\nFontes da campanha do presidente concluíram que, ao ser impedida a utilização, pelo Tribunal Superior Eleitoral (TSE), das imagens do 7 de Setembro e do discurso na Assembleia Geral das Nações Unidas, frustraram-se os ganhos políticos que eram esperados. Assim, o investimento, agora, passa a ser nas viagens aos maiores colégios eleitorais, como São Paulo, Minas Gerais e Rio de Janeiro, e ao Nordeste, na tentativa de aumentar o desgaste da imagem de Lula.\\n\\nBolsonaro também continuará batendo firme na corrupção durante os governos do PT e enfatizará que o ex-presidente esteve preso por causa disso. O primeiro passo dessa estratégia será dado, hoje, no debate entre os postulantes ao Palácio do Planalto, no SBT, do qual o presidente participará, mas o petista, não.\\n\\nAinda assim, atacar Lula e o PT com todas as forças pode não dar tração suficiente a Bolsonaro. Integrantes da campanha lamentam que ele não tem conseguido atrair novos eleitores por pregar apenas para sua base fiel. Além disso, já detectaram que voltar a atacar as urnas eletrônicas e ressuscitar a necessidade do voto impresso — como defendem alguns dos seus principais auxiliares — nada agrega ao presidente numericamente. Ao contrário: membros menos radicais do QG bolsonarista acreditam que isso só afasta os indecisos, além de não tirar um único voto dos adversários.\\n\\nPara reforçar o apoio a aliados locais — e fazer com que alguns dos mais bem colocados consigam lhe devolver em votos esse atrelamento —, Bolsonaro tem feito, diariamente, lives pelas redes sociais. Mas até mesmo esta estratégia apresenta problemas, pois integrantes do governo avaliam que colar à imagem do presidente pode trazer prejuízos nesta reta final.\\n\\nPara piorar, emergem sinais de dentro do bunker bolsonarista de que a derrota está muito próxima. Como o que passou o coordenador da campanha e ministro da Casa Civil, Ciro Nogueira, que na última quinta-feira anunciou que entraria em férias para colaborar na eleição da ex-mulher, Iracema Portela, a vice-governadora do Piauí. A iniciativa repercutiu pessimamente entre os apoiadores do presidente e dentro do governo, e ele voltou atrás horas depois.\\n\\nJá a campanha de Lula amarra as pontas soltas para a semana decisiva. Mirando nos votos úteis, nos indecisos e tentando reduzir a abstenção, na segunda-feira ocorre o \"último grande ato\" do petista em São Paulo, com direito a tapete vermelho para artistas. O comício terá participações presenciais e à distância, com nomes como Anitta, Caetano Veloso — que anunciou voto no petista, abandonando o presidenciável Ciro Gomes (PDT) —, Ludmilla e Chico Buarque.\\n\\nO objetivo do evento é dar uma demonstração de força e de apoio entre diferentes segmentos — a chamada \"frente ampla\" que Lula vem tentando costurar desde a pré-campanha. Na última segunda, ele conseguiu reunir em uma mesma mesa ex-presidenciáveis de espectros antagônicos, como Luciana Genro (PSol), Marina Silva (Rede) e o economista Henrique Meirelles (União). O petista ainda somou ao seu leque de apoios a nota do ex-presidente Fernando Henrique Cardoso recomendando o voto em candidatos comprometidos com a defesa do Estado Democrático de Direito, com as igualdades e com a defesa do meio ambiente — tudo que Bolsonaro tem se mostrado contrário.\\n\\nEntre os estrategistas da chapa, o maior alvo no momento é a vitória no primeiro turno. As pesquisas divulgadas nesta semana, como a Datafolha de quinta, mostraram um crescimento do petista e uma chance concreta para liquidar a disputa. Segundo o instituto, o ex-presidente subiu de 45% para 47% das intenções de voto, atingindo ainda 50% dos votos válidos. \"Devemos estimular a campanha do Voto por Democracia, Voto Pelo Brasil, para a vitória no primeiro turno!\", disse ao Correio o ex-governador do Piauí e coordenador da campanha de Lula, Wellington Dias, sobre a reta final.\\n\\nEm paralelo ao \"showmício\" da segunda-feira, o PT mobilizou sua militância, em reunião na última quinta-feira, para realizar \"mobilização máxima nas ruas\" hoje e amanhã. A orientação da sigla é a realização de \"caminhadas, carreatas, bandeiraços e adesivações\", com o objetivo de dar visibilidade a Lula e estimular o \"comparecimento do eleitorado\" nas eleições. Isso porque, de acordo com uma fonte próxima ao setor jurí...</td>\n",
       "      <td>2022-09-24</td>\n",
       "      <td>03:55:00</td>\n",
       "      <td>2022-09-24</td>\n",
       "    </tr>\n",
       "    <tr>\n",
       "      <th>1</th>\n",
       "      <td>2</td>\n",
       "      <td>https://www.correiobraziliense.com.br/politica/2022/09/5039144-disputa-pelo-voto-entre-lula-e-bolsonaro-divide-igrejas-pentecostais.html</td>\n",
       "      <td>2022-09-24-0303:55:00-10800</td>\n",
       "      <td>{\"'Correio Braziliense'\"}</td>\n",
       "      <td>Disputa pelo voto entre Lula e Bolsonaro divide igrejas pentecostais</td>\n",
       "      <td>A disputa pelo voto cristão por Jair Bolsonaro (PL), candidato à reeleição, e por Luiz Inácio Lula da Silva (PT) está rachando as igrejas evangélicas. Enquanto as cúpulas das denominações abraçaram o bolsonarismo e tentam influenciar o voto dos fiéis, evangélicos jovens e de baixa renda rompem com grandes congregações e declaram apoio ao petista. Jovens, mulheres e eleitores de periferia, onde Lula se sai melhor, lideram o movimento. Há, ainda, casos de fiéis que, cansados do debate político, se afastaram dos cultos.\\n\\nNa avaliação do diretor do Observatório Evangélico, Vinicius do Valle, as igrejas evangélicas passam por um \"efeito bumerangue\" nesta campanha. Ele confirmou que o apoio a Bolsonaro por pastores e a politização dos cultos têm afastado o público. \"Muitos deixaram de ir aos cultos, e tivemos uma reação dos fiéis demonstrando desconforto com a discussão eleitoral nos templos. O evangélico quer ver seus valores na política, mas não concorda com a campanha eleitoral nas igrejas\", observou.\\n\\nAo mesmo tempo que a diferença nas pesquisas eleitorais entre os dois candidatos mais bem colocados na disputa presidencial cai no segmento, coordenadores das campanhas intensificam as agendas com líderes e eleitores evangélicos. Nas últimas semanas, Lula se encontrou com religiosos, na Região Metropolitana do Rio. Bolsonaro participou de culto do pastor Silas Malafaia, um de seus apoiadores, na capital fluminense.\\n\\nDo lado dos fiéis, há reclamações sobre o uso político da religião. Eles reclamam do desvio da finalidade das igrejas e de tentativas de imposição de voto por pastores que apoiam Bolsonaro.\\n\\nUma das insatisfeitas é a ativista Débora Amorim, de 34 anos. Desconfortável com a politização da igreja que frequentava, a Metodista, rompeu com a congregação. Ela foi criada em templos evangélicos e, agora, integra o coletivo Novas Narrativas Evangélicas.\\n\\nO grupo tem fiéis de diferentes denominações protestantes. Foi criado para defender a liberdade do voto. Uma das suas estratégias é a produção e divulgação de conteúdo nas redes sociais. Nas últimas semanas, lançou as palavras de ordem #LivrePraVotar e \"Deus não tem candidato\".\\n\\nPara Débora, como a maioria dos evangélicos é formada por mulheres pretas e de periferia, é esse o público simpático à candidatura de Lula. Segundo ela, a tentativa de imposição de valores morais por parte dos pastores midiáticos e de consolidação de uma única narrativa como \"o caminho para a salvação\" tem afastado parte dos fiéis.\\n\\nUm dos idealizadores do movimento, o advogado Daniel Wanderley destacou que existem inúmeros \"crentes\" dispostos a construir e expressar \"novas narrativas evangélicas\". \"São pessoas que estavam sofrendo represálias e diversos desafios dentro de suas comunidades à medida que o bolsonarismo foi se apropriando e instrumentalizando a fé evangélica. O movimento evangélico é muito mais plural\", explica.\\n\\nDani Marinho, 24, evangélica da Igreja Batista do Caminho, foi criada \"dentro da Universal\" — liderada por Edir Macedo, apoiador de Bolsonaro. \"Sempre houve a influência da política na igreja, mas hoje está mais escancarada. Há uma tentativa de imposição de um candidato\", afirma.\\n\\nOs evangélicos representam 31% da população (cerca de 65 milhões de pessoas), segundo pesquisa Datafolha de 2020. De acordo com o Censo Brasileiro, do Instituto Brasileiro de Geografia e Estatísticas (IBGE), 60% (25,3 milhões) dos evangélicos eram pentecostais. Pesquisas mostram que a diferença entre o Lula e Bolsonaro tem recuado, embora permaneça grande. A mais recente rodada do Ipec, de 19 de setembro, mostrou o presidente em estabilidade, com 48% das intenções de voto entre evangélicos. Lula cresceu seis pontos (32%).</td>\n",
       "      <td>2022-09-24</td>\n",
       "      <td>03:55:00</td>\n",
       "      <td>2022-09-24</td>\n",
       "    </tr>\n",
       "  </tbody>\n",
       "</table>\n",
       "</div>"
      ],
      "text/plain": [
       "   ID_NOTICIA  \\\n",
       "0           1   \n",
       "1           2   \n",
       "\n",
       "                                                                                                                                          URL  \\\n",
       "0  https://www.correiobraziliense.com.br/politica/2022/09/5039152-bolsonaro-e-lula-jogam-as-cartas-para-reta-final-da-campanha-eleitoral.html   \n",
       "1    https://www.correiobraziliense.com.br/politica/2022/09/5039144-disputa-pelo-voto-entre-lula-e-bolsonaro-divide-igrejas-pentecostais.html   \n",
       "\n",
       "               DATA_PUBLICACAO                                AUTOR  \\\n",
       "0  2022-09-24-0303:55:00-10800  {\"'Ingrid Soares, Victor Correia'\"}   \n",
       "1  2022-09-24-0303:55:00-10800            {\"'Correio Braziliense'\"}   \n",
       "\n",
       "                                                                   TITULO  \\\n",
       "0  Bolsonaro e Lula jogam as cartas para reta final da campanha eleitoral   \n",
       "1    Disputa pelo voto entre Lula e Bolsonaro divide igrejas pentecostais   \n",
       "\n",
       "                                                                                                                                                                                                                                                                                                                                                                                                                                                                                                                                                                                                                                                                                                                                                                                                                                                                                                                                                                                                                                                                                                                                                                                                                                                                                                                                                                                                                                                                                                                                                                                                                                                                                                                                                                                                                                                                                                                                                                                                                                                                                                                                                                                                                                                                                                                                                                                                                                                                                                                                                                                                                                                                                                                                                                                                                                                                                                                                                                                                                                                                                                                                                                                                                                                                                                                                                                                                                                                                                                                                                                                                                                                                                                                                                                                                                                                                                                                                                                                                                                                                                                                                                                                                                                                                                                                                                                                                                                                                                                                                                                                                                                                                                                                                                                                                                                                                                                                                                                                                                                                                                                                                                                                                     TEXTO  \\\n",
       "0  A oito dias das eleições, os dois principais candidatos à Presidência, Jair Bolsonaro (PL) e Luiz Inácio Lula da Silva (PT), jogam os últimos lances para a semana final antes do primeiro turno de votação, em 2 de outubro. Mas, se na campanha petista a recomendação é de calçar as \"sandálias da humildade\" e evitar a euforia da cada vez maior possibilidade de vitória no primeiro turno, na do presidente acendeu a luz de emergência.\\n\\nO comitê de campanha tenta uma correção de rumo por causa das seguidas diminuições no percentual de votos apontado pelas pesquisa de opinião. A mais recente, do Datafolha, divulgada na última quinta-feira, mostrou que Bolsonaro está parado com 33% — Lula foi a 47%.\\n\\nFontes da campanha do presidente concluíram que, ao ser impedida a utilização, pelo Tribunal Superior Eleitoral (TSE), das imagens do 7 de Setembro e do discurso na Assembleia Geral das Nações Unidas, frustraram-se os ganhos políticos que eram esperados. Assim, o investimento, agora, passa a ser nas viagens aos maiores colégios eleitorais, como São Paulo, Minas Gerais e Rio de Janeiro, e ao Nordeste, na tentativa de aumentar o desgaste da imagem de Lula.\\n\\nBolsonaro também continuará batendo firme na corrupção durante os governos do PT e enfatizará que o ex-presidente esteve preso por causa disso. O primeiro passo dessa estratégia será dado, hoje, no debate entre os postulantes ao Palácio do Planalto, no SBT, do qual o presidente participará, mas o petista, não.\\n\\nAinda assim, atacar Lula e o PT com todas as forças pode não dar tração suficiente a Bolsonaro. Integrantes da campanha lamentam que ele não tem conseguido atrair novos eleitores por pregar apenas para sua base fiel. Além disso, já detectaram que voltar a atacar as urnas eletrônicas e ressuscitar a necessidade do voto impresso — como defendem alguns dos seus principais auxiliares — nada agrega ao presidente numericamente. Ao contrário: membros menos radicais do QG bolsonarista acreditam que isso só afasta os indecisos, além de não tirar um único voto dos adversários.\\n\\nPara reforçar o apoio a aliados locais — e fazer com que alguns dos mais bem colocados consigam lhe devolver em votos esse atrelamento —, Bolsonaro tem feito, diariamente, lives pelas redes sociais. Mas até mesmo esta estratégia apresenta problemas, pois integrantes do governo avaliam que colar à imagem do presidente pode trazer prejuízos nesta reta final.\\n\\nPara piorar, emergem sinais de dentro do bunker bolsonarista de que a derrota está muito próxima. Como o que passou o coordenador da campanha e ministro da Casa Civil, Ciro Nogueira, que na última quinta-feira anunciou que entraria em férias para colaborar na eleição da ex-mulher, Iracema Portela, a vice-governadora do Piauí. A iniciativa repercutiu pessimamente entre os apoiadores do presidente e dentro do governo, e ele voltou atrás horas depois.\\n\\nJá a campanha de Lula amarra as pontas soltas para a semana decisiva. Mirando nos votos úteis, nos indecisos e tentando reduzir a abstenção, na segunda-feira ocorre o \"último grande ato\" do petista em São Paulo, com direito a tapete vermelho para artistas. O comício terá participações presenciais e à distância, com nomes como Anitta, Caetano Veloso — que anunciou voto no petista, abandonando o presidenciável Ciro Gomes (PDT) —, Ludmilla e Chico Buarque.\\n\\nO objetivo do evento é dar uma demonstração de força e de apoio entre diferentes segmentos — a chamada \"frente ampla\" que Lula vem tentando costurar desde a pré-campanha. Na última segunda, ele conseguiu reunir em uma mesma mesa ex-presidenciáveis de espectros antagônicos, como Luciana Genro (PSol), Marina Silva (Rede) e o economista Henrique Meirelles (União). O petista ainda somou ao seu leque de apoios a nota do ex-presidente Fernando Henrique Cardoso recomendando o voto em candidatos comprometidos com a defesa do Estado Democrático de Direito, com as igualdades e com a defesa do meio ambiente — tudo que Bolsonaro tem se mostrado contrário.\\n\\nEntre os estrategistas da chapa, o maior alvo no momento é a vitória no primeiro turno. As pesquisas divulgadas nesta semana, como a Datafolha de quinta, mostraram um crescimento do petista e uma chance concreta para liquidar a disputa. Segundo o instituto, o ex-presidente subiu de 45% para 47% das intenções de voto, atingindo ainda 50% dos votos válidos. \"Devemos estimular a campanha do Voto por Democracia, Voto Pelo Brasil, para a vitória no primeiro turno!\", disse ao Correio o ex-governador do Piauí e coordenador da campanha de Lula, Wellington Dias, sobre a reta final.\\n\\nEm paralelo ao \"showmício\" da segunda-feira, o PT mobilizou sua militância, em reunião na última quinta-feira, para realizar \"mobilização máxima nas ruas\" hoje e amanhã. A orientação da sigla é a realização de \"caminhadas, carreatas, bandeiraços e adesivações\", com o objetivo de dar visibilidade a Lula e estimular o \"comparecimento do eleitorado\" nas eleições. Isso porque, de acordo com uma fonte próxima ao setor jurí...   \n",
       "1                                                                                                                                                                                                                                                                                                                                                                                                                                                                                                                                                                                                                                                                                                                                                                                                                                                                                                                                                                                                                                                                                                                                                                                                                                                                                                                        A disputa pelo voto cristão por Jair Bolsonaro (PL), candidato à reeleição, e por Luiz Inácio Lula da Silva (PT) está rachando as igrejas evangélicas. Enquanto as cúpulas das denominações abraçaram o bolsonarismo e tentam influenciar o voto dos fiéis, evangélicos jovens e de baixa renda rompem com grandes congregações e declaram apoio ao petista. Jovens, mulheres e eleitores de periferia, onde Lula se sai melhor, lideram o movimento. Há, ainda, casos de fiéis que, cansados do debate político, se afastaram dos cultos.\\n\\nNa avaliação do diretor do Observatório Evangélico, Vinicius do Valle, as igrejas evangélicas passam por um \"efeito bumerangue\" nesta campanha. Ele confirmou que o apoio a Bolsonaro por pastores e a politização dos cultos têm afastado o público. \"Muitos deixaram de ir aos cultos, e tivemos uma reação dos fiéis demonstrando desconforto com a discussão eleitoral nos templos. O evangélico quer ver seus valores na política, mas não concorda com a campanha eleitoral nas igrejas\", observou.\\n\\nAo mesmo tempo que a diferença nas pesquisas eleitorais entre os dois candidatos mais bem colocados na disputa presidencial cai no segmento, coordenadores das campanhas intensificam as agendas com líderes e eleitores evangélicos. Nas últimas semanas, Lula se encontrou com religiosos, na Região Metropolitana do Rio. Bolsonaro participou de culto do pastor Silas Malafaia, um de seus apoiadores, na capital fluminense.\\n\\nDo lado dos fiéis, há reclamações sobre o uso político da religião. Eles reclamam do desvio da finalidade das igrejas e de tentativas de imposição de voto por pastores que apoiam Bolsonaro.\\n\\nUma das insatisfeitas é a ativista Débora Amorim, de 34 anos. Desconfortável com a politização da igreja que frequentava, a Metodista, rompeu com a congregação. Ela foi criada em templos evangélicos e, agora, integra o coletivo Novas Narrativas Evangélicas.\\n\\nO grupo tem fiéis de diferentes denominações protestantes. Foi criado para defender a liberdade do voto. Uma das suas estratégias é a produção e divulgação de conteúdo nas redes sociais. Nas últimas semanas, lançou as palavras de ordem #LivrePraVotar e \"Deus não tem candidato\".\\n\\nPara Débora, como a maioria dos evangélicos é formada por mulheres pretas e de periferia, é esse o público simpático à candidatura de Lula. Segundo ela, a tentativa de imposição de valores morais por parte dos pastores midiáticos e de consolidação de uma única narrativa como \"o caminho para a salvação\" tem afastado parte dos fiéis.\\n\\nUm dos idealizadores do movimento, o advogado Daniel Wanderley destacou que existem inúmeros \"crentes\" dispostos a construir e expressar \"novas narrativas evangélicas\". \"São pessoas que estavam sofrendo represálias e diversos desafios dentro de suas comunidades à medida que o bolsonarismo foi se apropriando e instrumentalizando a fé evangélica. O movimento evangélico é muito mais plural\", explica.\\n\\nDani Marinho, 24, evangélica da Igreja Batista do Caminho, foi criada \"dentro da Universal\" — liderada por Edir Macedo, apoiador de Bolsonaro. \"Sempre houve a influência da política na igreja, mas hoje está mais escancarada. Há uma tentativa de imposição de um candidato\", afirma.\\n\\nOs evangélicos representam 31% da população (cerca de 65 milhões de pessoas), segundo pesquisa Datafolha de 2020. De acordo com o Censo Brasileiro, do Instituto Brasileiro de Geografia e Estatísticas (IBGE), 60% (25,3 milhões) dos evangélicos eram pentecostais. Pesquisas mostram que a diferença entre o Lula e Bolsonaro tem recuado, embora permaneça grande. A mais recente rodada do Ipec, de 19 de setembro, mostrou o presidente em estabilidade, com 48% das intenções de voto entre evangélicos. Lula cresceu seis pontos (32%).   \n",
       "\n",
       "  DATA_PUBLICACAO_AUX HORA_PUBLICACAO_AUX DATA_PUBLICACAO_AUX2  \n",
       "0          2022-09-24            03:55:00           2022-09-24  \n",
       "1          2022-09-24            03:55:00           2022-09-24  "
      ]
     },
     "execution_count": 57,
     "metadata": {},
     "output_type": "execute_result"
    }
   ],
   "source": [
    "df_txt[\"DATA_PUBLICACAO_AUX2\"] = pd.to_datetime(df_txt['DATA_PUBLICACAO_AUX'], infer_datetime_format=True, errors='ignore')\n",
    "df_txt.head(2)"
   ]
  },
  {
   "cell_type": "code",
   "execution_count": 61,
   "id": "a762fb70",
   "metadata": {},
   "outputs": [
    {
     "data": {
      "text/html": [
       "<div>\n",
       "<style scoped>\n",
       "    .dataframe tbody tr th:only-of-type {\n",
       "        vertical-align: middle;\n",
       "    }\n",
       "\n",
       "    .dataframe tbody tr th {\n",
       "        vertical-align: top;\n",
       "    }\n",
       "\n",
       "    .dataframe thead th {\n",
       "        text-align: right;\n",
       "    }\n",
       "</style>\n",
       "<table border=\"1\" class=\"dataframe\">\n",
       "  <thead>\n",
       "    <tr style=\"text-align: right;\">\n",
       "      <th></th>\n",
       "      <th>ID_NOTICIA</th>\n",
       "      <th>URL</th>\n",
       "      <th>DATA_PUBLICACAO</th>\n",
       "      <th>AUTOR</th>\n",
       "      <th>TITULO</th>\n",
       "      <th>TEXTO</th>\n",
       "      <th>DATA_PUBLICACAO_AUX</th>\n",
       "      <th>HORA_PUBLICACAO_AUX</th>\n",
       "      <th>DATA_PUBLICACAO_AUX2</th>\n",
       "    </tr>\n",
       "  </thead>\n",
       "  <tbody>\n",
       "    <tr>\n",
       "      <th>205</th>\n",
       "      <td>185</td>\n",
       "      <td>https://www.correiobraziliense.com.br/https://home.kpmg/br/pt/home.html</td>\n",
       "      <td>None</td>\n",
       "      <td>{}</td>\n",
       "      <td></td>\n",
       "      <td></td>\n",
       "      <td>NaT</td>\n",
       "      <td>None</td>\n",
       "      <td>NaT</td>\n",
       "    </tr>\n",
       "    <tr>\n",
       "      <th>1537</th>\n",
       "      <td>1507</td>\n",
       "      <td>http://concursos.correioweb.com.br/app/noticias/2022/10/03/noticiasinterna,43705/pgdf-resultado-da-analise-de-documentos-de-hipossuficientes-esta-disp.shtml</td>\n",
       "      <td>None</td>\n",
       "      <td>{}</td>\n",
       "      <td>PGDF: Resultado da análise de documentos de hipossuficientes está disponível - Concursos</td>\n",
       "      <td>Foi publicado no \\n\\n\\n\\nO resultado provisório foi definido após a análise de documentação dos candidatos que concorrem às vagas. A relação está disponível na página \\n\\n\\n\\n Foi publicado no Diário Oficial do Distrito Federal desta segunda-feira (3/10), a listagem dos candidatos considerados aptos para concorrer na condição de hipossuficientes no concurso público da Procuradoria-Geral do Distrito Federal (PGDF) O resultado provisório foi definido após a análise de documentação dos candidatos que concorrem às vagas. A relação está disponível na página 104 do DODF , na seguinte ordem: número de inscrição e nome do candidato em ordem alfabética.\\n\\nO concurso da PGDF ofertou 65 chances para o cargo de Procurador do Distrito Federal Categoria I, além da formação de cadastro de reserva. Do quantitativo de vagas, 32 foram para ampla concorrência, 13 para pessoas com deficiência, 13 para negros e 7 para pessoas de baixa renda.</td>\n",
       "      <td>NaT</td>\n",
       "      <td>None</td>\n",
       "      <td>NaT</td>\n",
       "    </tr>\n",
       "    <tr>\n",
       "      <th>1539</th>\n",
       "      <td>1509</td>\n",
       "      <td>http://concursos.correioweb.com.br/app/noticias/2022/10/05/noticiasinterna,43714/sejusp-mg-abre-inscricoes-do-concurso-para-agente-de-seguranca.shtml</td>\n",
       "      <td>None</td>\n",
       "      <td>{}</td>\n",
       "      <td>SEJUSP MG abre inscrições do concurso para agente de segurança - Concursos</td>\n",
       "      <td>Como requisito, é necessário ter concluído o ensino médio, em instituição reconhecida pelo Ministério da Educação (MEC), para tomar posse do cargo. A comprovação da escolaridade será feita no ato de posse. \\n\\n\\n\\n\\n\\nOs aprovados receberão o salário inicial de R$ 5.097,15, para a carga horária composta por 40 horas semanais. O resultado final e a homologação do concurso tem a previsão para março de 2024. \\n\\n\\n\\n\\n\\nA data provável da aplicação das provas objetivas é 18 de dezembro deste ano. O exame será composto por 60 questões de múltipla escolha, sendo que cada questão conterá 4 alternativas e apenas 1 resposta correta. Já na prova discursiva, o candidato será submetido a uma redação.\\n\\nO teste de aptidão física será composto por: teste de barra fixa; abdominal; salto à distância; e corrida de 12 minutos. O exame está previsto para maio de 2023.</td>\n",
       "      <td>NaT</td>\n",
       "      <td>None</td>\n",
       "      <td>NaT</td>\n",
       "    </tr>\n",
       "    <tr>\n",
       "      <th>1542</th>\n",
       "      <td>1510</td>\n",
       "      <td>http://concursos.correioweb.com.br/app/noticias/2022/10/05/noticiasinterna,43717/concurso-ifb-veja-as-carreiras-e-vagas-ofertadas-no-certame.shtml</td>\n",
       "      <td>None</td>\n",
       "      <td>{}</td>\n",
       "      <td>Concurso IFB: veja as carreiras e vagas ofertadas no certame - Concursos</td>\n",
       "      <td>As inscrições já estão abertas e podem ser feitas até o dia 17 de outubro, através do site da Fundação Cefetminas. Confira abaixo as carreiras e os requisitos das vagas abertas no certame:\\n\\nAnimação Digital: Diploma de curso superior em nível de graduação, devidamente registrado, de: curso superior de tecnologia em design de animação, produção audiovisual, jogos digitais ou bacharel em animação, cinema de animação, cinema de animação e artes digitais, audiovisual, cinema, imagem e som, rádio e TV, radialismo, cinema e mídias digitais, ciência da computação, design de games ou bacharel em comunicação social com habilitação em audiovisual, cinema, rádio e TV, radialismo, jornalismo, publicidade, bacharel em jogos digitais ou licenciatura em cinema e audiovisual, licenciatura ou bacharelado em artes visuais, expedido por entidade de ensino reconhecida pelo MEC;\\n\\n\\n\\n\\n\\nCaptação, edição e mixagem de áudio: Diploma de curso superior em nível de graduação, devidamente registrado, de: curso superior de tecnologia em produção audiovisual, produção fonográfica ou bacharel em audiovisual, cinema, imagem e som, rádio e TV, radialismo, cinema e mídias digitais, fotografia ou bacharel em comunicação social com habilitação em audiovisual, cinema, rádio e TV, radialismo, jornalismo, publicidade e propaganda ou licenciatura em cinema e audiovisual, bacharelado em engenharia acústica, licenciatura ou bacharelado em música, artes cênicas, expedido por entidade de ensino reconhecida pelo MEC; \\n\\n\\n\\n\\n\\nCinematografia: Diploma de curso superior em nível de graduação, devidamente registrado, de: curso superior de tecnologia em produção de audio e vídeo, fotografia, design gráfico, produção publicitária, produção multimídia ou bacharel em audiovisual, cinema, imagem e som, rádio e TV, cinema e mídias digitais, fotografia ou bacharel em comunicação social com habilitação em audiovisual, jornalismo, publicidade e propaganda, licenciatura em cinema e audiovisual, licenciatura ou bacharelado em artes visuais, expedido por entidade de ensino reconhecida pelo MEC; \\n\\n\\n\\n\\n\\nEdição, videografismo e finalização: Diploma de curso superior em nível de graduação, devidamente registrado, de: curso superior de tecnologia em produção audiovisual, produção publicitária, design gráfico, produção multimídia, fotografia ou bacharel em audiovisual, cinema, imagem e som, rádio e TV, radialismo, cinema e mídias digitais, fotografia, desenho industrial, design gráfico ou bacharel em comunicação social com habilitação em audiovisual, cinema, rádio e TV, radialismo, jornalismo, publicidade e propaganda ou licenciatura em cinema e audiovisual, licenciatura ou bacharelado em artes visuais, expedido por entidade de ensino reconhecida pelo MEC; \\n\\n\\n\\n\\n\\nFundamentos de audiovisual: Diploma de curso superior em nível de graduação, devidamente registrado, de: curso superior de tecnologia em produção audiovisual ou bacharel em audiovisual, cinema, imagem e som, rádio e TV, radialismo, cinema e mídias digitais ou bacharel em comunicação social com habilitação em audiovisual, cinema, rádio e TV, radialismo ou licenciatura em cinema e audiovisual, expedidos por entidade de ensino reconhecida pelo MEC;\\n\\nMatemática: Diploma de curso superior em nível de graduação, devidamente registrado, de licenciatura em matemática, expedido por entidade de ensino reconhecida pelo MEC; \\n\\n\\n\\n\\n\\nMecânica: Diploma de curso superior em nível de graduação, devidamente registrado, de bacharel em engenharia mecânica, expedido por entidade de ensino reconhecida pelo MEC e registro no respectivo conselho de classe;\\n\\n\\n\\n\\n\\nMeio Ambiente: Diploma de curso superior em nível de graduação, devidamente registrado, de bacharel em engenharia ambiental ou engenharia sanitária e ambiental, expedido por entidade de ensino reconhecida pelo MEC e registro no respectivo conselho de classe.</td>\n",
       "      <td>NaT</td>\n",
       "      <td>None</td>\n",
       "      <td>NaT</td>\n",
       "    </tr>\n",
       "    <tr>\n",
       "      <th>1543</th>\n",
       "      <td>1511</td>\n",
       "      <td>http://concursos.correioweb.com.br/app/noticias/2022/10/05/noticiasinterna,43718/concurso-cbm-ro-retificacao-amplia-numero-de-classificados-no-certame.shtml</td>\n",
       "      <td>None</td>\n",
       "      <td>{}</td>\n",
       "      <td>Concurso CBM-RO: retificação amplia número de classificados no certame - Concursos</td>\n",
       "      <td>A mudança amplia o número de classificados na primeira etapa e atende ao Decreto nº 27.409, de 11 de agosto de 2022. Agora o número de classificados passa a ser 80, sendo: Além disso, também foi incluso o subitem 19.18.1 no qual assegura que os três últimos candidatos de cada sala de prova só poderão sair juntos após o registro e assinatura no relatório próprio da seleção.\\n\\n\\n\\nEm ambos os casos os servidores vão cumprir jornada integral de trabalho. A lotação dos aprovados se dará conforme a necessidade e a política de pessoal do Corpo de Bombeiros Militar do Estado de Rondônia.\\n\\n\\n\\n Leia também: Concurso INSS: prazo para envio da documentação é adiado\\n\\nLeia também:SEJUSP MG abre inscrições do concurso para agente de segurança Em ambos os casos os servidores vão cumprir jornada integral de trabalho. A lotação dos aprovados se dará conforme a necessidade e a política de pessoal do Corpo de Bombeiros Militar do Estado de Rondônia.</td>\n",
       "      <td>NaT</td>\n",
       "      <td>None</td>\n",
       "      <td>NaT</td>\n",
       "    </tr>\n",
       "    <tr>\n",
       "      <th>...</th>\n",
       "      <td>...</td>\n",
       "      <td>...</td>\n",
       "      <td>...</td>\n",
       "      <td>...</td>\n",
       "      <td>...</td>\n",
       "      <td>...</td>\n",
       "      <td>...</td>\n",
       "      <td>...</td>\n",
       "      <td>...</td>\n",
       "    </tr>\n",
       "    <tr>\n",
       "      <th>19014</th>\n",
       "      <td>18983</td>\n",
       "      <td>http://concursos.correioweb.com.br/app/noticias/2023/04/05/noticiasinterna,44086/pmdf-convoca-aprovados-de-2018-para-inicio-do-cfp.shtml</td>\n",
       "      <td>None</td>\n",
       "      <td>{}</td>\n",
       "      <td>PMDF convoca aprovados de 2018 para início do CFP - Concursos</td>\n",
       "      <td>Em razão da decisão do Tribunal de Contas do Distrito Federal (TCDF), Decisão nº 326/2022 TCDF, a Polícia Militar do Distrito Federal (PMDF) tornou pública, na edição do Diário Oficial do Distrito Federal desta quarta-feira (5/4), a convocação dos candidatos aprovados no concurso de 2018 para o início do curso de formação de praças (CFP).\\n\\nOs candidatos convocados devem comparecer ao Complexo de Ensino da Polícia Militar (Cepom), situado na QNG, AE 01, de Taguatinga Norte, na próxima segunda-feira (10/04), às 8h, para o início do curso.\\n\\nEm 2018, a PMDF realizou seu último concurso público, com 2 mil vagas para soldados, de nível superior. Além da escolaridade, foi exigida idade máxima de 30 anos e Carteira Nacional de Habilitação na categoria B. O certame também abriu 18 vagas na função de músico, com especialidade em corneta, clarineta, saxofone, trompa, trompete e trombone.\\n\\nOs candidatos passaram por prova objetiva, redação, avaliação física, exames biométricos e avaliação médica, sindicância de vida pregressa, avaliação psicológica e curso de formação. Durante o curso de formação, os ganhos foram de R$ 6.095,41 para soldados e de R$ 4.119,22 para músicos.\\n\\n\\n\\n*Estagiária sob supervisão de Pedro Grigori.</td>\n",
       "      <td>NaT</td>\n",
       "      <td>None</td>\n",
       "      <td>NaT</td>\n",
       "    </tr>\n",
       "    <tr>\n",
       "      <th>19051</th>\n",
       "      <td>19029</td>\n",
       "      <td>http://concursos.correioweb.com.br/app/noticias/2023/04/05/noticiasinterna,44087/ses-df-retifica-lista-de-heteroidentificacao-do-concurso-para-nivel-su.shtml</td>\n",
       "      <td>None</td>\n",
       "      <td>{}</td>\n",
       "      <td>SES-DF retifica lista de heteroidentificação do concurso para nível superior - Concursos</td>\n",
       "      <td>A retificação do resultado final do procedimento de heteroidentificação étnico-racial de candidatos aprovados em concurso da Secretaria de Saúde do Distrito Federal (SES-DF) foi publicado na edição desta quarta-feira (5/4) do Diário Oficial do Distrito Federal. O resultado é referente aos cargos de médico, cirurgião dentista e enfermeiro nos termos dos editais nº 13, 14 e 15, de 25 de março de 2022.\\n\\nVale lembrar que houve duas convocações para a referida etapa, sendo a segunda para vagas remanescentes realizada em fevereiro deste ano. \\n\\n\\n\\n Ao todo, o certame oferta 381 oportunidades para as carreiras de médico (diversas especialidades), enfermeiro e cirurgião-dentista. Foram publicados três editais, um para cada carreira. Os aprovados na carreira de médico receberão o salário inicial de R$ 12.654,00 (médico família e comunidade) e R$ 6.327,00 (demais especialidades). Já para a carreira de enfermeiro, o salário é de R$ 3.055,00. Os cirurgiões-dentistas serão remunerados com o valor de R$ 4.250,00. \\n\\n\\n\\n*Estagiária sob supervisão de Pedro Grigori Vale lembrar que houve duas convocações para a referida etapa, sendo a segunda para vagas remanescentes realizada em fevereiro deste ano.Os aprovados na carreira de médico receberão o salário inicial de R$ 12.654,00 (médico família e comunidade) e R$ 6.327,00 (demais especialidades). Já para a carreira de enfermeiro, o salário é de R$ 3.055,00. Os cirurgiões-dentistas serão remunerados com o valor de R$ 4.250,00.*Estagiária sob supervisão de Pedro Grigori O resultado final saiu no DODF de 24 de março. Vale lembrar que houve duas convocações para a referida etapa, sendo a segunda para vagas remanescentes realizada em fevereiro deste ano.Os aprovados na carreira de médico receberão o salário inicial de R$ 12.654,00 (médico família e comunidade) e R$ 6.327,00 (demais especialidades). Já para a carreira de enfermeiro, o salário é de R$ 3.055,00. Os cirurgiões-dentistas serão remunerados com o valor de R$ 4.250,00.*Estagiária sob supervisão de Pedro Grigori</td>\n",
       "      <td>NaT</td>\n",
       "      <td>None</td>\n",
       "      <td>NaT</td>\n",
       "    </tr>\n",
       "    <tr>\n",
       "      <th>19197</th>\n",
       "      <td>19180</td>\n",
       "      <td>http://concursos.correioweb.com.br/app/noticias/2023/04/06/noticiasinterna,44090/secretaria-do-rj-lanca-edital-com-787-vagas-e-salarios-ate-r-6-mil.shtml</td>\n",
       "      <td>None</td>\n",
       "      <td>{}</td>\n",
       "      <td>Secretaria do RJ lança edital com 787 vagas e salários até R$ 6 mil - Concursos</td>\n",
       "      <td>Um novo edital de processo seletivo para ingresso na Secretaria Municipal de Educação do Rio de Janeiro foi lançado, nesta quarta-feira (5/4). O documento foi publicado no Diário Oficial do município, e pode ser conferido na íntegra a partir da página 75.\\n• professor para a educação infantil 22h e 30 minutos e professor para o ensino fundamental – anos iniciais 22h e 30 minutos: R$ 3.385,44; e\\n• professor para a educação infantil 40h e professor para o ensino fundamental: R$ 6.018,55.\\n\\nO processo seletivo será composto apenas de uma etapa: prova de títulos e experiência profissional, de caráter eliminatório e classificatório. A classificação será divida em dois grupos em diferentes listas (uma para professores das redes estadual e municipal de ensino e outra com professores em geral).\\n\\nAs inscrições ficarão abertas durante o período de 10 a 17 de abril. Ela será dividia em duas etapas; preenchimento da ficha de inscrição, disponível na página oficial da seleção ; e encaminhamento da documentação comprobatória da habilitação necessária ao exercício da função, conforme item 3.1.1 do edital, além de comprovante da titulação e da experiência informadas, por meio do Portal Carioca Digital (ambas as etapas devem ser concluídas no prazo de inscrição). Não é cobrado taxa de participação.</td>\n",
       "      <td>NaT</td>\n",
       "      <td>None</td>\n",
       "      <td>NaT</td>\n",
       "    </tr>\n",
       "    <tr>\n",
       "      <th>19198</th>\n",
       "      <td>19181</td>\n",
       "      <td>http://concursos.correioweb.com.br/app/noticias/2023/04/06/noticiasinterna,44089/dpe-sp-abre-concurso-publico-com-salario-de-r-7-5-mil.shtml</td>\n",
       "      <td>None</td>\n",
       "      <td>{}</td>\n",
       "      <td>DPE-SP abre concurso público com salário de R$ 7,5 mil - Concursos</td>\n",
       "      <td>O período de inscrições ficará aberto entre 13 de abril 24 de maio de 2023. As inscrições poderão ser realizadas por meio do site da Fundação Vunesp , banca organizadora do concurso.O valor da taxa de inscrição é de R$ 117. O resultado final do concurso, após decididos todos os recursos interpostos, será homologado pela Defensoria Pública do Estado de São Paulo e publicado no Diário Oficial do Estado de São Paulo em quatro listas (geral e específicas), em ordem classificatória, com a nota final.</td>\n",
       "      <td>NaT</td>\n",
       "      <td>None</td>\n",
       "      <td>NaT</td>\n",
       "    </tr>\n",
       "    <tr>\n",
       "      <th>19199</th>\n",
       "      <td>19182</td>\n",
       "      <td>http://concursos.correioweb.com.br/app/noticias/2023/04/06/noticiasinterna,44088/bombeiros-pi-novo-edital-de-concurso-e-publicado-com-400-vagas.shtml</td>\n",
       "      <td>None</td>\n",
       "      <td>{}</td>\n",
       "      <td>Bombeiros PI: novo edital de concurso é publicado com 400 vagas - Concursos</td>\n",
       "      <td>O Corpo de Bombeiros Militar do Piauí (CBMEPI) lançou novo concurso público para soldado, cargo de nível superior. Ao todo, são ofertadas 400 vagas, sendo 200 vagas para homens e 200 para mulheres. O valor da remuneração inicial é de e R$ 3.817,73.\\n\\n\\n\\nO certame constará de cinco etapas, sendo elas: prova escrita objetiva e dissertativa, exame de saúde (médico e odontológico), exame de aptidão física, avaliação psicológica e investigação social.\\n\\nA primeira etapa, de caráter eliminatório e classificatório, com duração de cinco horas, consistirá de uma prova escrita objetiva do tipo múltipla escolha, contendo 60 questões, totalizando 80 pontos; e de uma prova escrita dissertativa, na qual o candidato deve demonstrar domínio da modalidade escrita formal da língua portuguesa. O exames serão aplicadas em 21 de maio.</td>\n",
       "      <td>NaT</td>\n",
       "      <td>None</td>\n",
       "      <td>NaT</td>\n",
       "    </tr>\n",
       "  </tbody>\n",
       "</table>\n",
       "<p>299 rows × 9 columns</p>\n",
       "</div>"
      ],
      "text/plain": [
       "       ID_NOTICIA  \\\n",
       "205           185   \n",
       "1537         1507   \n",
       "1539         1509   \n",
       "1542         1510   \n",
       "1543         1511   \n",
       "...           ...   \n",
       "19014       18983   \n",
       "19051       19029   \n",
       "19197       19180   \n",
       "19198       19181   \n",
       "19199       19182   \n",
       "\n",
       "                                                                                                                                                                 URL  \\\n",
       "205                                                                                          https://www.correiobraziliense.com.br/https://home.kpmg/br/pt/home.html   \n",
       "1537    http://concursos.correioweb.com.br/app/noticias/2022/10/03/noticiasinterna,43705/pgdf-resultado-da-analise-de-documentos-de-hipossuficientes-esta-disp.shtml   \n",
       "1539           http://concursos.correioweb.com.br/app/noticias/2022/10/05/noticiasinterna,43714/sejusp-mg-abre-inscricoes-do-concurso-para-agente-de-seguranca.shtml   \n",
       "1542              http://concursos.correioweb.com.br/app/noticias/2022/10/05/noticiasinterna,43717/concurso-ifb-veja-as-carreiras-e-vagas-ofertadas-no-certame.shtml   \n",
       "1543    http://concursos.correioweb.com.br/app/noticias/2022/10/05/noticiasinterna,43718/concurso-cbm-ro-retificacao-amplia-numero-de-classificados-no-certame.shtml   \n",
       "...                                                                                                                                                              ...   \n",
       "19014                       http://concursos.correioweb.com.br/app/noticias/2023/04/05/noticiasinterna,44086/pmdf-convoca-aprovados-de-2018-para-inicio-do-cfp.shtml   \n",
       "19051  http://concursos.correioweb.com.br/app/noticias/2023/04/05/noticiasinterna,44087/ses-df-retifica-lista-de-heteroidentificacao-do-concurso-para-nivel-su.shtml   \n",
       "19197      http://concursos.correioweb.com.br/app/noticias/2023/04/06/noticiasinterna,44090/secretaria-do-rj-lanca-edital-com-787-vagas-e-salarios-ate-r-6-mil.shtml   \n",
       "19198                   http://concursos.correioweb.com.br/app/noticias/2023/04/06/noticiasinterna,44089/dpe-sp-abre-concurso-publico-com-salario-de-r-7-5-mil.shtml   \n",
       "19199          http://concursos.correioweb.com.br/app/noticias/2023/04/06/noticiasinterna,44088/bombeiros-pi-novo-edital-de-concurso-e-publicado-com-400-vagas.shtml   \n",
       "\n",
       "      DATA_PUBLICACAO AUTOR  \\\n",
       "205              None    {}   \n",
       "1537             None    {}   \n",
       "1539             None    {}   \n",
       "1542             None    {}   \n",
       "1543             None    {}   \n",
       "...               ...   ...   \n",
       "19014            None    {}   \n",
       "19051            None    {}   \n",
       "19197            None    {}   \n",
       "19198            None    {}   \n",
       "19199            None    {}   \n",
       "\n",
       "                                                                                         TITULO  \\\n",
       "205                                                                                               \n",
       "1537   PGDF: Resultado da análise de documentos de hipossuficientes está disponível - Concursos   \n",
       "1539                 SEJUSP MG abre inscrições do concurso para agente de segurança - Concursos   \n",
       "1542                   Concurso IFB: veja as carreiras e vagas ofertadas no certame - Concursos   \n",
       "1543         Concurso CBM-RO: retificação amplia número de classificados no certame - Concursos   \n",
       "...                                                                                         ...   \n",
       "19014                             PMDF convoca aprovados de 2018 para início do CFP - Concursos   \n",
       "19051  SES-DF retifica lista de heteroidentificação do concurso para nível superior - Concursos   \n",
       "19197           Secretaria do RJ lança edital com 787 vagas e salários até R$ 6 mil - Concursos   \n",
       "19198                        DPE-SP abre concurso público com salário de R$ 7,5 mil - Concursos   \n",
       "19199               Bombeiros PI: novo edital de concurso é publicado com 400 vagas - Concursos   \n",
       "\n",
       "                                                                                                                                                                                                                                                                                                                                                                                                                                                                                                                                                                                                                                                                                                                                                                                                                                                                                                                                                                                                                                                                                                                                                                                                                                                                                                                                                                                                                                                                                                                                                                                                                                                                                                                                                                                                                                                                                                                                                                                                                                                                                                                                                                                                                                                                                                                                                                                                                                                                                                                                                                                                                                                                                                                                                                                                                                                                                                                                                                                                                                                                                                                                                                                                                                                                                                                                                                                                                                                                                                                                                                                                                                                                                                                                                                                                                                                                                                                                                                                                                                                 TEXTO  \\\n",
       "205                                                                                                                                                                                                                                                                                                                                                                                                                                                                                                                                                                                                                                                                                                                                                                                                                                                                                                                                                                                                                                                                                                                                                                                                                                                                                                                                                                                                                                                                                                                                                                                                                                                                                                                                                                                                                                                                                                                                                                                                                                                                                                                                                                                                                                                                                                                                                                                                                                                                                                                                                                                                                                                                                                                                                                                                                                                                                                                                                                                                                                                                                                                                                                                                                                                                                                                                                                                                                                                                                                                                                                                                                                                                                                                                                                                                                                                                                                                                                                                                                                                      \n",
       "1537                                                                                                                                                                                                                                                                                                                                                                                                                                                                                                                                                                                                                                                                                                                                                                                                                                                                                                                                                                                                                                                                                                                                                                                                                                                                                                                                                                                                                                                                                                                                                                                                                                                                                                                                                                                                                                                                                                                                                                                                                                                                                                                                                                                                                                                                                                                                                                                                                                                                                                                                                                                                                                                                                                                                                                                                                                                                                                                                                                                                                                                                           Foi publicado no \\n\\n\\n\\nO resultado provisório foi definido após a análise de documentação dos candidatos que concorrem às vagas. A relação está disponível na página \\n\\n\\n\\n Foi publicado no Diário Oficial do Distrito Federal desta segunda-feira (3/10), a listagem dos candidatos considerados aptos para concorrer na condição de hipossuficientes no concurso público da Procuradoria-Geral do Distrito Federal (PGDF) O resultado provisório foi definido após a análise de documentação dos candidatos que concorrem às vagas. A relação está disponível na página 104 do DODF , na seguinte ordem: número de inscrição e nome do candidato em ordem alfabética.\\n\\nO concurso da PGDF ofertou 65 chances para o cargo de Procurador do Distrito Federal Categoria I, além da formação de cadastro de reserva. Do quantitativo de vagas, 32 foram para ampla concorrência, 13 para pessoas com deficiência, 13 para negros e 7 para pessoas de baixa renda.   \n",
       "1539                                                                                                                                                                                                                                                                                                                                                                                                                                                                                                                                                                                                                                                                                                                                                                                                                                                                                                                                                                                                                                                                                                                                                                                                                                                                                                                                                                                                                                                                                                                                                                                                                                                                                                                                                                                                                                                                                                                                                                                                                                                                                                                                                                                                                                                                                                                                                                                                                                                                                                                                                                                                                                                                                                                                                                                                                                                                                                                                                                                                                                                                                                                                                   Como requisito, é necessário ter concluído o ensino médio, em instituição reconhecida pelo Ministério da Educação (MEC), para tomar posse do cargo. A comprovação da escolaridade será feita no ato de posse. \\n\\n\\n\\n\\n\\nOs aprovados receberão o salário inicial de R$ 5.097,15, para a carga horária composta por 40 horas semanais. O resultado final e a homologação do concurso tem a previsão para março de 2024. \\n\\n\\n\\n\\n\\nA data provável da aplicação das provas objetivas é 18 de dezembro deste ano. O exame será composto por 60 questões de múltipla escolha, sendo que cada questão conterá 4 alternativas e apenas 1 resposta correta. Já na prova discursiva, o candidato será submetido a uma redação.\\n\\nO teste de aptidão física será composto por: teste de barra fixa; abdominal; salto à distância; e corrida de 12 minutos. O exame está previsto para maio de 2023.   \n",
       "1542   As inscrições já estão abertas e podem ser feitas até o dia 17 de outubro, através do site da Fundação Cefetminas. Confira abaixo as carreiras e os requisitos das vagas abertas no certame:\\n\\nAnimação Digital: Diploma de curso superior em nível de graduação, devidamente registrado, de: curso superior de tecnologia em design de animação, produção audiovisual, jogos digitais ou bacharel em animação, cinema de animação, cinema de animação e artes digitais, audiovisual, cinema, imagem e som, rádio e TV, radialismo, cinema e mídias digitais, ciência da computação, design de games ou bacharel em comunicação social com habilitação em audiovisual, cinema, rádio e TV, radialismo, jornalismo, publicidade, bacharel em jogos digitais ou licenciatura em cinema e audiovisual, licenciatura ou bacharelado em artes visuais, expedido por entidade de ensino reconhecida pelo MEC;\\n\\n\\n\\n\\n\\nCaptação, edição e mixagem de áudio: Diploma de curso superior em nível de graduação, devidamente registrado, de: curso superior de tecnologia em produção audiovisual, produção fonográfica ou bacharel em audiovisual, cinema, imagem e som, rádio e TV, radialismo, cinema e mídias digitais, fotografia ou bacharel em comunicação social com habilitação em audiovisual, cinema, rádio e TV, radialismo, jornalismo, publicidade e propaganda ou licenciatura em cinema e audiovisual, bacharelado em engenharia acústica, licenciatura ou bacharelado em música, artes cênicas, expedido por entidade de ensino reconhecida pelo MEC; \\n\\n\\n\\n\\n\\nCinematografia: Diploma de curso superior em nível de graduação, devidamente registrado, de: curso superior de tecnologia em produção de audio e vídeo, fotografia, design gráfico, produção publicitária, produção multimídia ou bacharel em audiovisual, cinema, imagem e som, rádio e TV, cinema e mídias digitais, fotografia ou bacharel em comunicação social com habilitação em audiovisual, jornalismo, publicidade e propaganda, licenciatura em cinema e audiovisual, licenciatura ou bacharelado em artes visuais, expedido por entidade de ensino reconhecida pelo MEC; \\n\\n\\n\\n\\n\\nEdição, videografismo e finalização: Diploma de curso superior em nível de graduação, devidamente registrado, de: curso superior de tecnologia em produção audiovisual, produção publicitária, design gráfico, produção multimídia, fotografia ou bacharel em audiovisual, cinema, imagem e som, rádio e TV, radialismo, cinema e mídias digitais, fotografia, desenho industrial, design gráfico ou bacharel em comunicação social com habilitação em audiovisual, cinema, rádio e TV, radialismo, jornalismo, publicidade e propaganda ou licenciatura em cinema e audiovisual, licenciatura ou bacharelado em artes visuais, expedido por entidade de ensino reconhecida pelo MEC; \\n\\n\\n\\n\\n\\nFundamentos de audiovisual: Diploma de curso superior em nível de graduação, devidamente registrado, de: curso superior de tecnologia em produção audiovisual ou bacharel em audiovisual, cinema, imagem e som, rádio e TV, radialismo, cinema e mídias digitais ou bacharel em comunicação social com habilitação em audiovisual, cinema, rádio e TV, radialismo ou licenciatura em cinema e audiovisual, expedidos por entidade de ensino reconhecida pelo MEC;\\n\\nMatemática: Diploma de curso superior em nível de graduação, devidamente registrado, de licenciatura em matemática, expedido por entidade de ensino reconhecida pelo MEC; \\n\\n\\n\\n\\n\\nMecânica: Diploma de curso superior em nível de graduação, devidamente registrado, de bacharel em engenharia mecânica, expedido por entidade de ensino reconhecida pelo MEC e registro no respectivo conselho de classe;\\n\\n\\n\\n\\n\\nMeio Ambiente: Diploma de curso superior em nível de graduação, devidamente registrado, de bacharel em engenharia ambiental ou engenharia sanitária e ambiental, expedido por entidade de ensino reconhecida pelo MEC e registro no respectivo conselho de classe.   \n",
       "1543                                                                                                                                                                                                                                                                                                                                                                                                                                                                                                                                                                                                                                                                                                                                                                                                                                                                                                                                                                                                                                                                                                                                                                                                                                                                                                                                                                                                                                                                                                                                                                                                                                                                                                                                                                                                                                                                                                                                                                                                                                                                                                                                                                                                                                                                                                                                                                                                                                                                                                                                                                                                                                                                                                                                                                                                                                                                                                                                                                                                                                                            A mudança amplia o número de classificados na primeira etapa e atende ao Decreto nº 27.409, de 11 de agosto de 2022. Agora o número de classificados passa a ser 80, sendo: Além disso, também foi incluso o subitem 19.18.1 no qual assegura que os três últimos candidatos de cada sala de prova só poderão sair juntos após o registro e assinatura no relatório próprio da seleção.\\n\\n\\n\\nEm ambos os casos os servidores vão cumprir jornada integral de trabalho. A lotação dos aprovados se dará conforme a necessidade e a política de pessoal do Corpo de Bombeiros Militar do Estado de Rondônia.\\n\\n\\n\\n Leia também: Concurso INSS: prazo para envio da documentação é adiado\\n\\nLeia também:SEJUSP MG abre inscrições do concurso para agente de segurança Em ambos os casos os servidores vão cumprir jornada integral de trabalho. A lotação dos aprovados se dará conforme a necessidade e a política de pessoal do Corpo de Bombeiros Militar do Estado de Rondônia.   \n",
       "...                                                                                                                                                                                                                                                                                                                                                                                                                                                                                                                                                                                                                                                                                                                                                                                                                                                                                                                                                                                                                                                                                                                                                                                                                                                                                                                                                                                                                                                                                                                                                                                                                                                                                                                                                                                                                                                                                                                                                                                                                                                                                                                                                                                                                                                                                                                                                                                                                                                                                                                                                                                                                                                                                                                                                                                                                                                                                                                                                                                                                                                                                                                                                                                                                                                                                                                                                                                                                                                                                                                                                                                                                                                                                                                                                                                                                                                                                                                                                                                                                                                ...   \n",
       "19014                                                                                                                                                                                                                                                                                                                                                                                                                                                                                                                                                                                                                                                                                                                                                                                                                                                                                                                                                                                                                                                                                                                                                                                                                                                                                                                                                                                                                                                                                                                                                                                                                                                                                                                                                                                                                                                                                                                                                                                                                                                                                                                                                                                                                                                                                                                                                                                                                                                                                                                                                                                                                                                                                                                                                             Em razão da decisão do Tribunal de Contas do Distrito Federal (TCDF), Decisão nº 326/2022 TCDF, a Polícia Militar do Distrito Federal (PMDF) tornou pública, na edição do Diário Oficial do Distrito Federal desta quarta-feira (5/4), a convocação dos candidatos aprovados no concurso de 2018 para o início do curso de formação de praças (CFP).\\n\\nOs candidatos convocados devem comparecer ao Complexo de Ensino da Polícia Militar (Cepom), situado na QNG, AE 01, de Taguatinga Norte, na próxima segunda-feira (10/04), às 8h, para o início do curso.\\n\\nEm 2018, a PMDF realizou seu último concurso público, com 2 mil vagas para soldados, de nível superior. Além da escolaridade, foi exigida idade máxima de 30 anos e Carteira Nacional de Habilitação na categoria B. O certame também abriu 18 vagas na função de músico, com especialidade em corneta, clarineta, saxofone, trompa, trompete e trombone.\\n\\nOs candidatos passaram por prova objetiva, redação, avaliação física, exames biométricos e avaliação médica, sindicância de vida pregressa, avaliação psicológica e curso de formação. Durante o curso de formação, os ganhos foram de R$ 6.095,41 para soldados e de R$ 4.119,22 para músicos.\\n\\n\\n\\n*Estagiária sob supervisão de Pedro Grigori.   \n",
       "19051                                                                                                                                                                                                                                                                                                                                                                                                                                                                                                                                                                                                                                                                                                                                                                                                                                                                                                                                                                                                                                                                                                                                                                                                                                                                                                                                                                                                                                                                                                                                                                                                                                                                                                                                                                                                                                                                                                                            A retificação do resultado final do procedimento de heteroidentificação étnico-racial de candidatos aprovados em concurso da Secretaria de Saúde do Distrito Federal (SES-DF) foi publicado na edição desta quarta-feira (5/4) do Diário Oficial do Distrito Federal. O resultado é referente aos cargos de médico, cirurgião dentista e enfermeiro nos termos dos editais nº 13, 14 e 15, de 25 de março de 2022.\\n\\nVale lembrar que houve duas convocações para a referida etapa, sendo a segunda para vagas remanescentes realizada em fevereiro deste ano. \\n\\n\\n\\n Ao todo, o certame oferta 381 oportunidades para as carreiras de médico (diversas especialidades), enfermeiro e cirurgião-dentista. Foram publicados três editais, um para cada carreira. Os aprovados na carreira de médico receberão o salário inicial de R$ 12.654,00 (médico família e comunidade) e R$ 6.327,00 (demais especialidades). Já para a carreira de enfermeiro, o salário é de R$ 3.055,00. Os cirurgiões-dentistas serão remunerados com o valor de R$ 4.250,00. \\n\\n\\n\\n*Estagiária sob supervisão de Pedro Grigori Vale lembrar que houve duas convocações para a referida etapa, sendo a segunda para vagas remanescentes realizada em fevereiro deste ano.Os aprovados na carreira de médico receberão o salário inicial de R$ 12.654,00 (médico família e comunidade) e R$ 6.327,00 (demais especialidades). Já para a carreira de enfermeiro, o salário é de R$ 3.055,00. Os cirurgiões-dentistas serão remunerados com o valor de R$ 4.250,00.*Estagiária sob supervisão de Pedro Grigori O resultado final saiu no DODF de 24 de março. Vale lembrar que houve duas convocações para a referida etapa, sendo a segunda para vagas remanescentes realizada em fevereiro deste ano.Os aprovados na carreira de médico receberão o salário inicial de R$ 12.654,00 (médico família e comunidade) e R$ 6.327,00 (demais especialidades). Já para a carreira de enfermeiro, o salário é de R$ 3.055,00. Os cirurgiões-dentistas serão remunerados com o valor de R$ 4.250,00.*Estagiária sob supervisão de Pedro Grigori   \n",
       "19197                                                                                                                                                                                                                                                                                                                                                                                                                                                                                                                                                                                                                                                                                                                                                                                                                                                                                                                                                                                                                                                                                                                                                                                                                                                                                                                                                                                                                                                                                                                                                                                                                                                                                                                                                                                                                                                                                                                                                                                                                                                                                                                                                                                                                                                                                                                                                                                                                                                                                                                                                                                                                                                                                       Um novo edital de processo seletivo para ingresso na Secretaria Municipal de Educação do Rio de Janeiro foi lançado, nesta quarta-feira (5/4). O documento foi publicado no Diário Oficial do município, e pode ser conferido na íntegra a partir da página 75.\\n• professor para a educação infantil 22h e 30 minutos e professor para o ensino fundamental – anos iniciais 22h e 30 minutos: R$ 3.385,44; e\\n• professor para a educação infantil 40h e professor para o ensino fundamental: R$ 6.018,55.\\n\\nO processo seletivo será composto apenas de uma etapa: prova de títulos e experiência profissional, de caráter eliminatório e classificatório. A classificação será divida em dois grupos em diferentes listas (uma para professores das redes estadual e municipal de ensino e outra com professores em geral).\\n\\nAs inscrições ficarão abertas durante o período de 10 a 17 de abril. Ela será dividia em duas etapas; preenchimento da ficha de inscrição, disponível na página oficial da seleção ; e encaminhamento da documentação comprobatória da habilitação necessária ao exercício da função, conforme item 3.1.1 do edital, além de comprovante da titulação e da experiência informadas, por meio do Portal Carioca Digital (ambas as etapas devem ser concluídas no prazo de inscrição). Não é cobrado taxa de participação.   \n",
       "19198                                                                                                                                                                                                                                                                                                                                                                                                                                                                                                                                                                                                                                                                                                                                                                                                                                                                                                                                                                                                                                                                                                                                                                                                                                                                                                                                                                                                                                                                                                                                                                                                                                                                                                                                                                                                                                                                                                                                                                                                                                                                                                                                                                                                                                                                                                                                                                                                                                                                                                                                                                                                                                                                                                                                                                                                                                                                                                                                                                                                                                                                                                                                                                                                                                                                                                                                                                                                                                                                                                                             O período de inscrições ficará aberto entre 13 de abril 24 de maio de 2023. As inscrições poderão ser realizadas por meio do site da Fundação Vunesp , banca organizadora do concurso.O valor da taxa de inscrição é de R$ 117. O resultado final do concurso, após decididos todos os recursos interpostos, será homologado pela Defensoria Pública do Estado de São Paulo e publicado no Diário Oficial do Estado de São Paulo em quatro listas (geral e específicas), em ordem classificatória, com a nota final.   \n",
       "19199                                                                                                                                                                                                                                                                                                                                                                                                                                                                                                                                                                                                                                                                                                                                                                                                                                                                                                                                                                                                                                                                                                                                                                                                                                                                                                                                                                                                                                                                                                                                                                                                                                                                                                                                                                                                                                                                                                                                                                                                                                                                                                                                                                                                                                                                                                                                                                                                                                                                                                                                                                                                                                                                                                                                                                                                                                                                                                                                                                                                                                                                                                                                                                                     O Corpo de Bombeiros Militar do Piauí (CBMEPI) lançou novo concurso público para soldado, cargo de nível superior. Ao todo, são ofertadas 400 vagas, sendo 200 vagas para homens e 200 para mulheres. O valor da remuneração inicial é de e R$ 3.817,73.\\n\\n\\n\\nO certame constará de cinco etapas, sendo elas: prova escrita objetiva e dissertativa, exame de saúde (médico e odontológico), exame de aptidão física, avaliação psicológica e investigação social.\\n\\nA primeira etapa, de caráter eliminatório e classificatório, com duração de cinco horas, consistirá de uma prova escrita objetiva do tipo múltipla escolha, contendo 60 questões, totalizando 80 pontos; e de uma prova escrita dissertativa, na qual o candidato deve demonstrar domínio da modalidade escrita formal da língua portuguesa. O exames serão aplicadas em 21 de maio.   \n",
       "\n",
       "      DATA_PUBLICACAO_AUX HORA_PUBLICACAO_AUX DATA_PUBLICACAO_AUX2  \n",
       "205                   NaT                None                  NaT  \n",
       "1537                  NaT                None                  NaT  \n",
       "1539                  NaT                None                  NaT  \n",
       "1542                  NaT                None                  NaT  \n",
       "1543                  NaT                None                  NaT  \n",
       "...                   ...                 ...                  ...  \n",
       "19014                 NaT                None                  NaT  \n",
       "19051                 NaT                None                  NaT  \n",
       "19197                 NaT                None                  NaT  \n",
       "19198                 NaT                None                  NaT  \n",
       "19199                 NaT                None                  NaT  \n",
       "\n",
       "[299 rows x 9 columns]"
      ]
     },
     "execution_count": 61,
     "metadata": {},
     "output_type": "execute_result"
    }
   ],
   "source": [
    "df_txt.loc[df_txt['DATA_PUBLICACAO'].isnull()]"
   ]
  },
  {
   "cell_type": "code",
   "execution_count": 62,
   "id": "93151093",
   "metadata": {},
   "outputs": [
    {
     "name": "stdout",
     "output_type": "stream",
     "text": [
      "<class 'pandas.core.frame.DataFrame'>\n",
      "RangeIndex: 19351 entries, 0 to 19350\n",
      "Data columns (total 9 columns):\n",
      " #   Column                Non-Null Count  Dtype         \n",
      "---  ------                --------------  -----         \n",
      " 0   ID_NOTICIA            19351 non-null  int64         \n",
      " 1   URL                   19351 non-null  object        \n",
      " 2   DATA_PUBLICACAO       19052 non-null  object        \n",
      " 3   AUTOR                 19351 non-null  object        \n",
      " 4   TITULO                19351 non-null  object        \n",
      " 5   TEXTO                 19351 non-null  object        \n",
      " 6   DATA_PUBLICACAO_AUX   19052 non-null  datetime64[ns]\n",
      " 7   HORA_PUBLICACAO_AUX   19052 non-null  object        \n",
      " 8   DATA_PUBLICACAO_AUX2  19052 non-null  datetime64[ns]\n",
      "dtypes: datetime64[ns](2), int64(1), object(6)\n",
      "memory usage: 1.3+ MB\n"
     ]
    }
   ],
   "source": [
    "df_txt.info()"
   ]
  },
  {
   "cell_type": "code",
   "execution_count": null,
   "id": "a90d2638",
   "metadata": {},
   "outputs": [],
   "source": []
  },
  {
   "cell_type": "code",
   "execution_count": 68,
   "id": "22cb9b34",
   "metadata": {},
   "outputs": [
    {
     "data": {
      "text/plain": [
       "<AxesSubplot:>"
      ]
     },
     "execution_count": 68,
     "metadata": {},
     "output_type": "execute_result"
    },
    {
     "data": {
      "image/png": "[encoded data removed]",
      "text/plain": [
       "<Figure size 1200x600 with 1 Axes>"
      ]
     },
     "metadata": {},
     "output_type": "display_data"
    }
   ],
   "source": [
    "plt.figure(figsize=(12,6))\n",
    "sns.barplot(x=df_txt['DATA_PUBLICACAO_AUX'].value_counts().index,\n",
    "              y=df_txt['DATA_PUBLICACAO_AUX'].value_counts().values,\n",
    "           order=df_txt['DATA_PUBLICACAO_AUX'].value_counts(ascending=False).index) #, palette=paleta_netflix)"
   ]
  },
  {
   "cell_type": "code",
   "execution_count": null,
   "id": "c7e229e3",
   "metadata": {},
   "outputs": [],
   "source": [
    "# Proporção por ano adicionado e tipo\n",
    "plt.figure(figsize=(12,4))\n",
    "sns.lineplot(data=df_txt, x='DATA_PUBLICACAO_AUX', y='qtd', hue='type', palette=paleta_netflix[:2])\n",
    "plt.title(\"Proporção por ano adicionado na Netflix e tipo\")\n",
    "plt.xlabel(None)\n",
    "plt.ylabel(None)\n",
    "plt.show()"
   ]
  },
  {
   "cell_type": "code",
   "execution_count": null,
   "id": "e1040ebc",
   "metadata": {},
   "outputs": [],
   "source": []
  },
  {
   "cell_type": "code",
   "execution_count": null,
   "id": "d82e149f",
   "metadata": {},
   "outputs": [],
   "source": []
  },
  {
   "cell_type": "code",
   "execution_count": null,
   "id": "7b0b0a4c",
   "metadata": {},
   "outputs": [],
   "source": []
  },
  {
   "cell_type": "code",
   "execution_count": null,
   "id": "8fc8f3e8",
   "metadata": {},
   "outputs": [],
   "source": []
  },
  {
   "cell_type": "code",
   "execution_count": null,
   "id": "347eca02",
   "metadata": {},
   "outputs": [],
   "source": []
  },
  {
   "cell_type": "code",
   "execution_count": 33,
   "id": "79ca42a6",
   "metadata": {},
   "outputs": [],
   "source": [
    "# file_name = \"tb_texto_noticias\"\n",
    "# extensao = \".txt\"\n",
    "\n",
    "# df_txt.to_csv(path+file_name+\"_tab\"+\"_utf8\"+extensao, sep='\\t', encoding='utf-8')\n",
    "# df_txt.to_csv(path+file_name+extensao, sep='|', encoding='utf-8', index=False)\n",
    "# df_txt.to_csv(path+file_name+\"_bardup\"+\"_utf8\"+extensao, sep=';', encoding='utf-8')\n",
    "\n",
    "# df_txt.to_csv(path+file_name+\"_tab\"+\"_latin1\"+extensao, sep='\\t', encoding ='latin1')\n",
    "# df_txt.to_csv(path+file_name+extensao, sep='|', encoding ='not utf-8', index=False)\n",
    "# df_txt.to_csv(path+file_name+\"_bardup\"+\"_latin1\"+extensao, sep=';', encoding ='latin1')"
   ]
  },
  {
   "cell_type": "code",
   "execution_count": null,
   "id": "d5dea47e",
   "metadata": {},
   "outputs": [],
   "source": []
  }
 ],
 "metadata": {
  "kernelspec": {
   "display_name": "Python 3 (ipykernel)",
   "language": "python",
   "name": "python3"
  },
  "language_info": {
   "codemirror_mode": {
    "name": "ipython",
    "version": 3
   },
   "file_extension": ".py",
   "mimetype": "text/x-python",
   "name": "python",
   "nbconvert_exporter": "python",
   "pygments_lexer": "ipython3",
   "version": "3.10.6"
  },
  "vscode": {
   "interpreter": {
    "hash": "fe5c79b9637b4bf06a1aadc79201f875472c6ad2eab27a695c0b9de7739129c6"
   }
  }
 },
 "nbformat": 4,
 "nbformat_minor": 5
}
