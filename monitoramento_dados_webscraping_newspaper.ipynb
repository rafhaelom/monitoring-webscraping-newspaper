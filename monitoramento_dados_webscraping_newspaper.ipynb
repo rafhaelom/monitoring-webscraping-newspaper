{
 "cells": [
  {
   "cell_type": "code",
   "execution_count": 21,
   "id": "9d71abd4",
   "metadata": {},
   "outputs": [],
   "source": [
    "# Importa Bibliotecas.\n",
    "import os\n",
    "import sys\n",
    "from dotenv import load_dotenv\n",
    "import time\n",
    "import re\n",
    "from datetime import date\n",
    "\n",
    "import pandas as pd\n",
    "import numpy as np\n",
    "#import requests\n",
    "\n",
    "#from bs4 import BeautifulSoup\n",
    "import psycopg2 \n",
    "import sqlalchemy               \n",
    "from sqlalchemy import create_engine\n",
    "from sqlalchemy import text\n",
    "\n",
    "load_dotenv()\n",
    "\n",
    "# Parametros do Pandas, limitando a quantidade máxima e a largura das colunas.\n",
    "pd.set_option('max_colwidth', 5000)"
   ]
  },
  {
   "cell_type": "code",
   "execution_count": 22,
   "id": "a963e947",
   "metadata": {},
   "outputs": [],
   "source": [
    "# Credenciais banco\n",
    "host=os.getenv('BD_POSTGRESQL_HOST')\n",
    "port=os.getenv('BD_POSTGRESQL_PORT')\n",
    "dbname=os.getenv('BD_POSTGRESQL_DBNAME')\n",
    "user=os.getenv('BD_POSTGRESQL_USE')\n",
    "password=os.getenv('BD_POSTGRESQL_PASSWORD')"
   ]
  },
  {
   "cell_type": "code",
   "execution_count": 23,
   "id": "0e6dd918",
   "metadata": {},
   "outputs": [],
   "source": [
    "path = \"C:/Users/Usuario/Documents/GitHub/monitoring-webscraping-newspaper/dados/\""
   ]
  },
  {
   "cell_type": "code",
   "execution_count": 24,
   "id": "673694e3",
   "metadata": {},
   "outputs": [],
   "source": [
    "# Consultando dados anteriores no BD.\n",
    "engine = create_engine(f'postgresql://{user}:{password}@{host}/{dbname}')\n",
    "conn = engine.connect()\n",
    "\n",
    "df_url = pd.read_sql(text('''select * from tb_url_noticias;'''), conn)\n",
    "df_url.shape\n",
    "\n",
    "conn.close()"
   ]
  },
  {
   "cell_type": "code",
   "execution_count": 25,
   "id": "f4a21eed",
   "metadata": {},
   "outputs": [
    {
     "data": {
      "text/html": [
       "<div>\n",
       "<style scoped>\n",
       "    .dataframe tbody tr th:only-of-type {\n",
       "        vertical-align: middle;\n",
       "    }\n",
       "\n",
       "    .dataframe tbody tr th {\n",
       "        vertical-align: top;\n",
       "    }\n",
       "\n",
       "    .dataframe thead th {\n",
       "        text-align: right;\n",
       "    }\n",
       "</style>\n",
       "<table border=\"1\" class=\"dataframe\">\n",
       "  <thead>\n",
       "    <tr style=\"text-align: right;\">\n",
       "      <th></th>\n",
       "      <th>ID_NOTICIA</th>\n",
       "      <th>DATA_EXTRACAO</th>\n",
       "      <th>DESC_JORNAL</th>\n",
       "      <th>DESC_TEMA</th>\n",
       "      <th>URL_NOTICIA</th>\n",
       "      <th>FLAG_EXTRAIDA</th>\n",
       "    </tr>\n",
       "  </thead>\n",
       "  <tbody>\n",
       "    <tr>\n",
       "      <th>0</th>\n",
       "      <td>3</td>\n",
       "      <td>2022-09-24</td>\n",
       "      <td>correiobraziliense</td>\n",
       "      <td>home</td>\n",
       "      <td>https://www.correiobraziliense.com.br/politica/2022/09/5039139-tse-identifica-rs-605-milhoes-em-doacoes-suspeitas.html</td>\n",
       "      <td>True</td>\n",
       "    </tr>\n",
       "    <tr>\n",
       "      <th>1</th>\n",
       "      <td>4</td>\n",
       "      <td>2022-09-24</td>\n",
       "      <td>correiobraziliense</td>\n",
       "      <td>home</td>\n",
       "      <td>https://www.correiobraziliense.com.br/cidades-df/2022/09/5039108-confira-a-agenda-dos-candidatos-ao-gdf-para-este-sabado.html</td>\n",
       "      <td>True</td>\n",
       "    </tr>\n",
       "    <tr>\n",
       "      <th>2</th>\n",
       "      <td>261</td>\n",
       "      <td>2022-10-05</td>\n",
       "      <td>correiobraziliense</td>\n",
       "      <td>opiniao</td>\n",
       "      <td>https://www.correiobraziliense.com.br//opiniao/2022/10/5041502-artigo-o-brasil-mudou.html</td>\n",
       "      <td>True</td>\n",
       "    </tr>\n",
       "    <tr>\n",
       "      <th>3</th>\n",
       "      <td>1639</td>\n",
       "      <td>2022-10-13</td>\n",
       "      <td>correiobraziliense</td>\n",
       "      <td>home</td>\n",
       "      <td>https://www.correiobraziliense.com.br/cbforum/testedopezinho.html</td>\n",
       "      <td>True</td>\n",
       "    </tr>\n",
       "    <tr>\n",
       "      <th>4</th>\n",
       "      <td>2156</td>\n",
       "      <td>2022-10-17</td>\n",
       "      <td>correiobraziliense</td>\n",
       "      <td>tecnologia</td>\n",
       "      <td>https://www.correiobraziliense.com.br/tecnologia/2022/10/5044373-ia-vence-os-obstaculos.html</td>\n",
       "      <td>True</td>\n",
       "    </tr>\n",
       "  </tbody>\n",
       "</table>\n",
       "</div>"
      ],
      "text/plain": [
       "   ID_NOTICIA DATA_EXTRACAO         DESC_JORNAL   DESC_TEMA  \\\n",
       "0           3    2022-09-24  correiobraziliense        home   \n",
       "1           4    2022-09-24  correiobraziliense        home   \n",
       "2         261    2022-10-05  correiobraziliense     opiniao   \n",
       "3        1639    2022-10-13  correiobraziliense        home   \n",
       "4        2156    2022-10-17  correiobraziliense  tecnologia   \n",
       "\n",
       "                                                                                                                     URL_NOTICIA  \\\n",
       "0         https://www.correiobraziliense.com.br/politica/2022/09/5039139-tse-identifica-rs-605-milhoes-em-doacoes-suspeitas.html   \n",
       "1  https://www.correiobraziliense.com.br/cidades-df/2022/09/5039108-confira-a-agenda-dos-candidatos-ao-gdf-para-este-sabado.html   \n",
       "2                                      https://www.correiobraziliense.com.br//opiniao/2022/10/5041502-artigo-o-brasil-mudou.html   \n",
       "3                                                              https://www.correiobraziliense.com.br/cbforum/testedopezinho.html   \n",
       "4                                   https://www.correiobraziliense.com.br/tecnologia/2022/10/5044373-ia-vence-os-obstaculos.html   \n",
       "\n",
       "   FLAG_EXTRAIDA  \n",
       "0           True  \n",
       "1           True  \n",
       "2           True  \n",
       "3           True  \n",
       "4           True  "
      ]
     },
     "execution_count": 25,
     "metadata": {},
     "output_type": "execute_result"
    }
   ],
   "source": [
    "df_url.head()"
   ]
  },
  {
   "cell_type": "code",
   "execution_count": null,
   "id": "52467777",
   "metadata": {},
   "outputs": [],
   "source": []
  },
  {
   "cell_type": "code",
   "execution_count": null,
   "id": "9a66f61c",
   "metadata": {},
   "outputs": [],
   "source": []
  },
  {
   "cell_type": "code",
   "execution_count": 26,
   "id": "5764a9a0",
   "metadata": {},
   "outputs": [],
   "source": [
    "# Consultando dados anteriores no BD.\n",
    "engine = create_engine(f'postgresql://{user}:{password}@{host}/{dbname}')\n",
    "conn = engine.connect()\n",
    "\n",
    "df_txt = pd.read_sql(text('''select * from tb_texto_noticias \n",
    "                            where \"DATA_PUBLICACAO\" between '2023-02-01-0000:000:00-10800' \n",
    "                            AND '2023-02-30-0000:00:00-10800';'''), conn)\n",
    "df_txt.shape\n",
    "\n",
    "conn.close()"
   ]
  },
  {
   "cell_type": "code",
   "execution_count": 27,
   "id": "5ba5ef10",
   "metadata": {},
   "outputs": [
    {
     "data": {
      "text/html": [
       "<div>\n",
       "<style scoped>\n",
       "    .dataframe tbody tr th:only-of-type {\n",
       "        vertical-align: middle;\n",
       "    }\n",
       "\n",
       "    .dataframe tbody tr th {\n",
       "        vertical-align: top;\n",
       "    }\n",
       "\n",
       "    .dataframe thead th {\n",
       "        text-align: right;\n",
       "    }\n",
       "</style>\n",
       "<table border=\"1\" class=\"dataframe\">\n",
       "  <thead>\n",
       "    <tr style=\"text-align: right;\">\n",
       "      <th></th>\n",
       "      <th>ID_NOTICIA</th>\n",
       "      <th>URL</th>\n",
       "      <th>DATA_PUBLICACAO</th>\n",
       "      <th>AUTOR</th>\n",
       "      <th>TITULO</th>\n",
       "      <th>TEXTO</th>\n",
       "    </tr>\n",
       "  </thead>\n",
       "  <tbody>\n",
       "    <tr>\n",
       "      <th>0</th>\n",
       "      <td>12798</td>\n",
       "      <td>https://www.correiobraziliense.com.br/politica/2023/02/5073967-sede-da-oab-rj-e-esvaziada-apos-ameaca-de-bomba.html</td>\n",
       "      <td>2023-02-15-0317:01:00-10800</td>\n",
       "      <td>{\"'Agência Estado'\"}</td>\n",
       "      <td>Sede da OAB-RJ é esvaziada após ameaça de bomba</td>\n",
       "      <td>O prédio onde funciona a sede da Ordem dos Advogados do Brasil no Rio de Janeiro (OAB-RJ), no centro da capital fluminense, foi esvaziado às pressas por volta do meio-dia desta quarta-feira, após serem encontradas duas cartas anônimas afirmando que uma bomba explodiria dentro do imóvel. O Esquadrão Antibombas da Polícia Civil foi acionado, iniciou uma varredura pelo prédio e, até a publicação desta reportagem, não havia encontrado nenhum artefato explosivo.\\n\\nA carta afirma que \"uma bomba foi instalada no edifício (...) e está programada para explodir neste dia 15. (...) Os efeitos serão catastróficos\". Segundo a mensagem, seria o início de uma série de atentados \"em diversos órgãos\" para \"acabar com essa política idiota de exclusão nepotismo vantagens pessoais anuidades caras vaidade absurda reacionarismo barato de uma burguesia hipócrita que se preocupa somente com a indicação pelo quinto constitucional\" (sic).\\n\\nO quinto constitucional está previsto no artigo 94 da Constituição brasileira e determina que um quinto das vagas de determinados tribunais do País seja preenchido por advogados e membros do Ministério Público, e não por juízes de carreira.\\n\\nO texto segue: \"O poder a todo o custo (sic) tem seu preço. A OAB pagará preço caro por adotar essa política de manter em seus quadros a direita extremista misógena (sic) homofóbica racista\". E conclui: \"Esvaziem o prédio porque os efeitos serão impactantes. Muitos serão feridos ou perderão suas vidas.\"\\n\\nDois exemplares da carta foram deixados no prédio - um dentro de um elevador e outro no banheiro do 7º andar - e encontrados por funcionários terceirizados responsáveis pela limpeza do imóvel. Segundo a OAB-RJ, existem câmeras de segurança no prédio, cujas imagens serão pesquisadas pela polícia.\\n\\nNo momento em que as cartas foram encontradas e o prédio foi esvaziado, estava ocorrendo uma cerimônia de entrega de carteiras da OAB para advogados aprovados em concurso recente.\\n\\nAté o início da tarde desta quarta-feira não havia suspeita de quem pudesse ter distribuído as cartas ou planejado o atentado.\\n\\nO formato de distribuição de notícias do Correio Braziliense pelo celular mudou. A partir de agora, as notícias chegarão diretamente pelo formato Comunidades, uma das inovações lançadas pelo WhatsApp. Não é preciso ser assinante para receber o serviço. Assim, o internauta pode ter, na palma da mão, matérias verificadas e com credibilidade. Para passar a receber as notícias do Correio, clique no link abaixo e entre na comunidade:\\n\\nApenas os administradores do grupo poderão mandar mensagens e saber quem são os integrantes da comunidade. Dessa forma, evitamos qualquer tipo de interação indevida.\\n\\nQuer ficar por dentro sobre as principais notícias do Brasil e do mundo? Siga o Correio Braziliense nas redes sociais. Estamos no Twitter, no Facebook, no Instagram, no TikTok e no YouTube. Acompanhe!</td>\n",
       "    </tr>\n",
       "  </tbody>\n",
       "</table>\n",
       "</div>"
      ],
      "text/plain": [
       "   ID_NOTICIA  \\\n",
       "0       12798   \n",
       "\n",
       "                                                                                                                   URL  \\\n",
       "0  https://www.correiobraziliense.com.br/politica/2023/02/5073967-sede-da-oab-rj-e-esvaziada-apos-ameaca-de-bomba.html   \n",
       "\n",
       "               DATA_PUBLICACAO                 AUTOR  \\\n",
       "0  2023-02-15-0317:01:00-10800  {\"'Agência Estado'\"}   \n",
       "\n",
       "                                            TITULO  \\\n",
       "0  Sede da OAB-RJ é esvaziada após ameaça de bomba   \n",
       "\n",
       "                                                                                                                                                                                                                                                                                                                                                                                                                                                                                                                                                                                                                                                                                                                                                                                                                                                                                                                                                                                                                                                                                                                                                                                                                                                                                                                                                                                                                                                                                                                                                                                                                                                                                                                                                                                                                                                                                                                                                                                                                                                                                                                                                                                                                                                                                                                                                                                                                                                                                                                                                                                                                                                                                                                                                                                                                                                                                                                                                                                                                   TEXTO  \n",
       "0  O prédio onde funciona a sede da Ordem dos Advogados do Brasil no Rio de Janeiro (OAB-RJ), no centro da capital fluminense, foi esvaziado às pressas por volta do meio-dia desta quarta-feira, após serem encontradas duas cartas anônimas afirmando que uma bomba explodiria dentro do imóvel. O Esquadrão Antibombas da Polícia Civil foi acionado, iniciou uma varredura pelo prédio e, até a publicação desta reportagem, não havia encontrado nenhum artefato explosivo.\\n\\nA carta afirma que \"uma bomba foi instalada no edifício (...) e está programada para explodir neste dia 15. (...) Os efeitos serão catastróficos\". Segundo a mensagem, seria o início de uma série de atentados \"em diversos órgãos\" para \"acabar com essa política idiota de exclusão nepotismo vantagens pessoais anuidades caras vaidade absurda reacionarismo barato de uma burguesia hipócrita que se preocupa somente com a indicação pelo quinto constitucional\" (sic).\\n\\nO quinto constitucional está previsto no artigo 94 da Constituição brasileira e determina que um quinto das vagas de determinados tribunais do País seja preenchido por advogados e membros do Ministério Público, e não por juízes de carreira.\\n\\nO texto segue: \"O poder a todo o custo (sic) tem seu preço. A OAB pagará preço caro por adotar essa política de manter em seus quadros a direita extremista misógena (sic) homofóbica racista\". E conclui: \"Esvaziem o prédio porque os efeitos serão impactantes. Muitos serão feridos ou perderão suas vidas.\"\\n\\nDois exemplares da carta foram deixados no prédio - um dentro de um elevador e outro no banheiro do 7º andar - e encontrados por funcionários terceirizados responsáveis pela limpeza do imóvel. Segundo a OAB-RJ, existem câmeras de segurança no prédio, cujas imagens serão pesquisadas pela polícia.\\n\\nNo momento em que as cartas foram encontradas e o prédio foi esvaziado, estava ocorrendo uma cerimônia de entrega de carteiras da OAB para advogados aprovados em concurso recente.\\n\\nAté o início da tarde desta quarta-feira não havia suspeita de quem pudesse ter distribuído as cartas ou planejado o atentado.\\n\\nO formato de distribuição de notícias do Correio Braziliense pelo celular mudou. A partir de agora, as notícias chegarão diretamente pelo formato Comunidades, uma das inovações lançadas pelo WhatsApp. Não é preciso ser assinante para receber o serviço. Assim, o internauta pode ter, na palma da mão, matérias verificadas e com credibilidade. Para passar a receber as notícias do Correio, clique no link abaixo e entre na comunidade:\\n\\nApenas os administradores do grupo poderão mandar mensagens e saber quem são os integrantes da comunidade. Dessa forma, evitamos qualquer tipo de interação indevida.\\n\\nQuer ficar por dentro sobre as principais notícias do Brasil e do mundo? Siga o Correio Braziliense nas redes sociais. Estamos no Twitter, no Facebook, no Instagram, no TikTok e no YouTube. Acompanhe!  "
      ]
     },
     "execution_count": 27,
     "metadata": {},
     "output_type": "execute_result"
    }
   ],
   "source": [
    "df_txt.head(1)"
   ]
  },
  {
   "cell_type": "code",
   "execution_count": 29,
   "id": "79ca42a6",
   "metadata": {},
   "outputs": [],
   "source": [
    "file_name = \"tb_texto_noticias\"\n",
    "extensao = \".txt\"\n",
    "\n",
    "# df_txt.to_csv(path+file_name+\"_tab\"+\"_utf8\"+extensao, sep='\\t', encoding='utf-8')\n",
    "df_txt.to_csv(path+file_name+extensao, sep='|', encoding='utf-8', index=False)\n",
    "# df_txt.to_csv(path+file_name+\"_bardup\"+\"_utf8\"+extensao, sep=';', encoding='utf-8')\n",
    "\n",
    "# df_txt.to_csv(path+file_name+\"_tab\"+\"_latin1\"+extensao, sep='\\t', encoding ='latin1')\n",
    "# df_txt.to_csv(path+file_name+extensao, sep='|', encoding ='not utf-8', index=False)\n",
    "# df_txt.to_csv(path+file_name+\"_bardup\"+\"_latin1\"+extensao, sep=';', encoding ='latin1')"
   ]
  },
  {
   "cell_type": "code",
   "execution_count": null,
   "id": "d5dea47e",
   "metadata": {},
   "outputs": [],
   "source": []
  }
 ],
 "metadata": {
  "kernelspec": {
   "display_name": "Python 3 (ipykernel)",
   "language": "python",
   "name": "python3"
  },
  "language_info": {
   "codemirror_mode": {
    "name": "ipython",
    "version": 3
   },
   "file_extension": ".py",
   "mimetype": "text/x-python",
   "name": "python",
   "nbconvert_exporter": "python",
   "pygments_lexer": "ipython3",
   "version": "3.10.6"
  },
  "vscode": {
   "interpreter": {
    "hash": "fe5c79b9637b4bf06a1aadc79201f875472c6ad2eab27a695c0b9de7739129c6"
   }
  }
 },
 "nbformat": 4,
 "nbformat_minor": 5
}
